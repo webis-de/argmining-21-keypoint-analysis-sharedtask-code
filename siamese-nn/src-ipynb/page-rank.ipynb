{
 "cells": [
  {
   "cell_type": "code",
   "execution_count": 1,
   "id": "90cae748-e55c-4dcd-9c6e-ac3e7f68c141",
   "metadata": {},
   "outputs": [],
   "source": [
    "import os\n",
    "\n",
    "os.environ['CUDA_VISIBLE_DEVICES'] = '0'"
   ]
  },
  {
   "cell_type": "code",
   "execution_count": 2,
   "id": "18f114ed-986d-4cd2-b108-119e3d0ae3a1",
   "metadata": {},
   "outputs": [],
   "source": [
    "import rouge"
   ]
  },
  {
   "cell_type": "code",
   "execution_count": 3,
   "id": "96a8189f-dcdd-4a00-a77b-f785b385b604",
   "metadata": {},
   "outputs": [],
   "source": [
    "evaluator = rouge.Rouge(metrics=['rouge-l', 'rouge-w'],\n",
    "                           max_n=4,\n",
    "                           limit_length=True,\n",
    "                           length_limit=100,\n",
    "                           length_limit_type='words',\n",
    "                           alpha=0.5, # Default F1_score\n",
    "                           weight_factor=1.2,\n",
    "                           stemming=True)"
   ]
  },
  {
   "cell_type": "code",
   "execution_count": 4,
   "id": "d6f1673d-0bc2-4c63-b307-5beb7065e63e",
   "metadata": {},
   "outputs": [],
   "source": [
    "import json\n",
    "import pandas as pd\n",
    "import numpy as np\n",
    "import itertools\n",
    "import spacy\n",
    "import matplotlib.pyplot as plt\n",
    "from sklearn.metrics.pairwise import cosine_similarity\n",
    "import tabulate\n",
    "\n",
    "from scipy import sparse\n",
    "from fast_pagerank import pagerank\n",
    "from fast_pagerank import pagerank_power\n",
    "\n",
    "\n",
    "pd.set_option('display.max_colwidth', None)"
   ]
  },
  {
   "cell_type": "code",
   "execution_count": 5,
   "id": "daa4952b-7f3c-48db-bfd4-c8b773f95295",
   "metadata": {},
   "outputs": [],
   "source": [
    "from sentence_transformers import SentenceTransformer, InputExample, LoggingHandler, losses, models, util\n",
    "import torch"
   ]
  },
  {
   "cell_type": "markdown",
   "id": "5f57377a-37ae-476e-a754-a4bc67ff2a16",
   "metadata": {},
   "source": [
    "### Prepare data:"
   ]
  },
  {
   "cell_type": "code",
   "execution_count": 6,
   "id": "7f6f5ae3-e75e-4d72-b902-7a5f84f2588c",
   "metadata": {},
   "outputs": [],
   "source": [
    "data_path = '/mnt/ceph/storage/data-in-progress/data-research/arguana/arg-generation'"
   ]
  },
  {
   "cell_type": "code",
   "execution_count": 7,
   "id": "09415f8e-6577-40bb-9e25-193a2ad9d108",
   "metadata": {},
   "outputs": [],
   "source": [
    "train_args = pd.read_pickle('../../data/valid_args_with_scores.pkl')"
   ]
  },
  {
   "cell_type": "code",
   "execution_count": 8,
   "id": "d2d980d0-ca16-463e-9e73-4776d86efdbc",
   "metadata": {},
   "outputs": [],
   "source": [
    "train_topic_with_scored_kps = pd.read_pickle('../../data/valid_topic_keypoints_with_scores.pkl')"
   ]
  },
  {
   "cell_type": "code",
   "execution_count": 9,
   "id": "599e13e4-1200-499c-85c3-7afaa01c0f40",
   "metadata": {},
   "outputs": [],
   "source": [
    "train_topics = train_args.groupby(['topic', 'stance']).agg({\n",
    "    'sents_with_scores': lambda x: set([item for items in x for item in items]),\n",
    "    'gt-kps' : lambda x: set([item for items in x for item in items]),\n",
    "    #'gt-cand-kps': lambda x: set([item for items in x for item in items])\n",
    "}).reset_index()"
   ]
  },
  {
   "cell_type": "code",
   "execution_count": 10,
   "id": "e4528ab6-c65f-481f-ad90-63572fa82c0c",
   "metadata": {},
   "outputs": [
    {
     "data": {
      "text/plain": [
       "Index(['topic', 'stance', 'sents_with_scores', 'gt-kps'], dtype='object')"
      ]
     },
     "execution_count": 10,
     "metadata": {},
     "output_type": "execute_result"
    }
   ],
   "source": [
    "train_topics.columns"
   ]
  },
  {
   "cell_type": "code",
   "execution_count": 11,
   "id": "9bc1a9fa-bab0-46be-a776-43bfdfb7e13c",
   "metadata": {},
   "outputs": [],
   "source": [
    "#Add the ground-truth key-points into the original set of sentences to allow for an optimal scenario.\n",
    "train_topics['sents_with_scores'] = train_topics.apply(lambda row: list(row['sents_with_scores']) + train_topic_with_scored_kps[(train_topic_with_scored_kps.topic == row['topic']) & (train_topic_with_scored_kps.stance == row['stance'])]['scored_kps'].tolist()[0], axis=1)"
   ]
  },
  {
   "cell_type": "markdown",
   "id": "7ced1a1f-84ba-4603-82a1-15063e382797",
   "metadata": {},
   "source": [
    "### Load Models:"
   ]
  },
  {
   "cell_type": "code",
   "execution_count": 12,
   "id": "2da31d28-084f-4a7f-b7cc-ae6655e8354b",
   "metadata": {},
   "outputs": [],
   "source": [
    "models_list = [\n",
    "     data_path + '/keypoint-analysis-sharedtask/final-experiment/roberta-large-final-model-fold-0-2023-07-03_14-50-42',\n",
    "     data_path + '/keypoint-analysis-sharedtask/final-experiment/roberta-large-final-model-fold-1-2023-07-03_15-07-56',\n",
    "     data_path + '/keypoint-analysis-sharedtask/final-experiment/roberta-large-final-model-fold-2-2023-07-03_15-22-51',\n",
    "     data_path + '/keypoint-analysis-sharedtask/final-experiment/roberta-large-final-model-fold-3-2023-07-03_15-37-30',\n",
    "     data_path + '/keypoint-analysis-sharedtask/final-experiment/roberta-large-final-model-fold-4-2023-07-03_15-52-27',\n",
    "]\n",
    "models = [SentenceTransformer(x) for x in models_list]"
   ]
  },
  {
   "cell_type": "code",
   "execution_count": 101,
   "id": "b0cc9820-3cde-4b3c-86a8-708f1e9163e9",
   "metadata": {},
   "outputs": [],
   "source": [
    "def gen_match_matrix(model, sents, topic, min_match_score=0):\n",
    "    sents1 = [topic + ' <SEP> ' + x for x in sents]\n",
    "    sents1_embeddings = model.encode(sents1)\n",
    "    sents_embeddings  = model.encode(sents)\n",
    "    \n",
    "    sim_matrix = cosine_similarity(sents1_embeddings, sents1_embeddings)\n",
    "    super_threshold_indices = sim_matrix < min_match_score\n",
    "    sim_matrix[super_threshold_indices] = 0\n",
    "    #print(sim_matrix)\n",
    "    #print('--------;')\n",
    "    return sim_matrix\n",
    "\n",
    "def get_avg_match_matrix(models, sents, topic, min_match_score=0):\n",
    "    sim_matrices = [gen_match_matrix(model, sents, topic, min_match_score) for model in models]\n",
    "    #print(sim_matrices)\n",
    "    final_matrix = np.mean(sim_matrices, axis=0)\n",
    "    return final_matrix\n",
    "\n",
    "# def evalute_topic_by_rouge(row, top_k=5):\n",
    "#     ranked_sents = [[x[0]] for x in row['ranked_sents']][:top_k]\n",
    "#     gt_kps = [[x] for x in row['gt-kps']]\n",
    "\n",
    "#     r_l = []\n",
    "#     for a,b in itertools.product(gt_kps, ranked_sents):\n",
    "#         #print(a, b)\n",
    "#         scores = evaluator.get_scores(a, b)\n",
    "#         r_l.append(scores['rouge-l']['f'])\n",
    "#     return np.mean(r_l)\n",
    "\n",
    "def evalute_topic_by_rouge(row, top_k=5):\n",
    "    ranked_sents = [x[0] for x in row['ranked_sents']][:top_k]\n",
    "    gt_kps = [x for x in row['gt-kps']]\n",
    "    \n",
    "    #print(ranked_sents)\n",
    "    #print(gt_kps)\n",
    "    \n",
    "    scores = evaluator.get_scores(ranked_sents, [gt_kps] * len(ranked_sents))\n",
    "    return scores['rouge-l']['f']\n",
    "\n",
    "def evalute_topic(row):\n",
    "    ranked_sents = [x[0] for x in row['ranked_sents']]\n",
    "    #ranked_sents = [x for x in row['filtered_sents']]\n",
    "    gt_kps_ranks = []\n",
    "    for real_kp in row['gt-kps']:\n",
    "        if real_kp in ranked_sents:\n",
    "            gt_kps_ranks.append(ranked_sents.index(real_kp)+1)\n",
    "        else:\n",
    "            print('kp is not there...')\n",
    "            gt_kps_ranks.append(len(ranked_sents)+1)\n",
    "            \n",
    "    #print(gt_kps_ranks)\n",
    "    return 1/(sum(gt_kps_ranks)/len(gt_kps_ranks)) if len(gt_kps_ranks) > 0 else 0\n",
    "\n",
    "def apply_page_rank(row, p=0.85, min_quality_score=0.5, min_match_score=0.5, min_len=5, max_len=20, arg_score_clm='sents_with_scores'):\n",
    "    cand_sents = [x for x in row[arg_score_clm] if x[1] > min_quality_score and len(x[0].split()) < max_len and len(x[0].split()) > min_len]\n",
    "    if len(cand_sents) == 0:\n",
    "        return []\n",
    "        print('empty')\n",
    "    cands, cands_qualities = zip(*cand_sents)\n",
    "    #print(cands)\n",
    "    #print(cands_qualities)\n",
    "    cands_qualities = [float(i)/sum(cands_qualities) for i in cands_qualities]\n",
    "    \n",
    "    cands_matching_mat = get_avg_match_matrix(models, cands, row['topic'], min_match_score=min_match_score)\n",
    "    pr=pagerank(sparse.csr_matrix(np.array(cands_matching_mat)), personalize=np.array(cands_qualities), p=p) #it looks like modifying the initial probability doesn't help\n",
    "    #pr=pagerank(cands_matching_mat, p=p)\n",
    "    ranked_candidates = list(zip(cands, pr))\n",
    "    return sorted(ranked_candidates, key=lambda x: -x[1])    \n",
    "\n",
    "def filter_ranked_list(row, model, min_match=0.8):\n",
    "    ranked_sents = [x[0] for x in row['ranked_sents']]\n",
    "    filtered_sents = []\n",
    "    while len(filtered_sents) < 6:\n",
    "        filtered_sents = []\n",
    "        for i, s in enumerate(ranked_sents):\n",
    "            if len(filtered_sents) == 0:\n",
    "                filtered_sents.append(s)\n",
    "                #print('FFFF ' , s)\n",
    "            else:\n",
    "                matching_scores = get_avg_match_matrix(models, [s]+filtered_sents, row['topic'])\n",
    "                max_sim = np.max(matching_scores[0][1:])\n",
    "                #print(matching_scores)\n",
    "                if max_sim < min_match:\n",
    "                    #print('SSSS ' , s)\n",
    "                    filtered_sents.append(s)\n",
    "                    if len(filtered_sents) > 4:\n",
    "                        return filtered_sents\n",
    "\n",
    "        #min_match = min_match + 0.1\n",
    "        #print(min_match)\n",
    "\n",
    "    return filtered_sents"
   ]
  },
  {
   "cell_type": "markdown",
   "id": "6d3b979a-ed44-4db7-92da-728e673d04bc",
   "metadata": {},
   "source": [
    "### Testing PageRank with Argumentative Quality Scores:"
   ]
  },
  {
   "cell_type": "markdown",
   "id": "5f9b4226-e40a-437c-a545-772231ef80d1",
   "metadata": {},
   "source": [
    "The scores already computed in sentences_with_scores column, computed via project debater api in another notebook."
   ]
  },
  {
   "cell_type": "code",
   "execution_count": 25,
   "id": "d68d1df5-edca-4c2c-893d-09838dc73b21",
   "metadata": {
    "scrolled": true,
    "tags": []
   },
   "outputs": [
    {
     "name": "stderr",
     "output_type": "stream",
     "text": [
      "/usr/local/lib/python3.8/dist-packages/scipy/sparse/linalg/dsolve/linsolve.py:206: MatrixRankWarning: Matrix is exactly singular\n",
      "  warn(\"Matrix is exactly singular\", MatrixRankWarning)\n",
      "/usr/local/lib/python3.8/dist-packages/scipy/sparse/linalg/dsolve/linsolve.py:206: MatrixRankWarning: Matrix is exactly singular\n",
      "  warn(\"Matrix is exactly singular\", MatrixRankWarning)\n",
      "/usr/local/lib/python3.8/dist-packages/scipy/sparse/linalg/dsolve/linsolve.py:206: MatrixRankWarning: Matrix is exactly singular\n",
      "  warn(\"Matrix is exactly singular\", MatrixRankWarning)\n",
      "/usr/local/lib/python3.8/dist-packages/scipy/sparse/linalg/dsolve/linsolve.py:206: MatrixRankWarning: Matrix is exactly singular\n",
      "  warn(\"Matrix is exactly singular\", MatrixRankWarning)\n",
      "/usr/local/lib/python3.8/dist-packages/scipy/sparse/linalg/dsolve/linsolve.py:206: MatrixRankWarning: Matrix is exactly singular\n",
      "  warn(\"Matrix is exactly singular\", MatrixRankWarning)\n",
      "/usr/local/lib/python3.8/dist-packages/scipy/sparse/linalg/dsolve/linsolve.py:206: MatrixRankWarning: Matrix is exactly singular\n",
      "  warn(\"Matrix is exactly singular\", MatrixRankWarning)\n",
      "/usr/local/lib/python3.8/dist-packages/scipy/sparse/linalg/dsolve/linsolve.py:206: MatrixRankWarning: Matrix is exactly singular\n",
      "  warn(\"Matrix is exactly singular\", MatrixRankWarning)\n",
      "/usr/local/lib/python3.8/dist-packages/scipy/sparse/linalg/dsolve/linsolve.py:206: MatrixRankWarning: Matrix is exactly singular\n",
      "  warn(\"Matrix is exactly singular\", MatrixRankWarning)\n",
      "/usr/local/lib/python3.8/dist-packages/scipy/sparse/linalg/dsolve/linsolve.py:206: MatrixRankWarning: Matrix is exactly singular\n",
      "  warn(\"Matrix is exactly singular\", MatrixRankWarning)\n",
      "/usr/local/lib/python3.8/dist-packages/scipy/sparse/linalg/dsolve/linsolve.py:206: MatrixRankWarning: Matrix is exactly singular\n",
      "  warn(\"Matrix is exactly singular\", MatrixRankWarning)\n",
      "/usr/local/lib/python3.8/dist-packages/scipy/sparse/linalg/dsolve/linsolve.py:206: MatrixRankWarning: Matrix is exactly singular\n",
      "  warn(\"Matrix is exactly singular\", MatrixRankWarning)\n",
      "/usr/local/lib/python3.8/dist-packages/scipy/sparse/linalg/dsolve/linsolve.py:206: MatrixRankWarning: Matrix is exactly singular\n",
      "  warn(\"Matrix is exactly singular\", MatrixRankWarning)\n",
      "/usr/local/lib/python3.8/dist-packages/scipy/sparse/linalg/dsolve/linsolve.py:206: MatrixRankWarning: Matrix is exactly singular\n",
      "  warn(\"Matrix is exactly singular\", MatrixRankWarning)\n",
      "/usr/local/lib/python3.8/dist-packages/scipy/sparse/linalg/dsolve/linsolve.py:206: MatrixRankWarning: Matrix is exactly singular\n",
      "  warn(\"Matrix is exactly singular\", MatrixRankWarning)\n",
      "/usr/local/lib/python3.8/dist-packages/scipy/sparse/linalg/dsolve/linsolve.py:206: MatrixRankWarning: Matrix is exactly singular\n",
      "  warn(\"Matrix is exactly singular\", MatrixRankWarning)\n",
      "/usr/local/lib/python3.8/dist-packages/scipy/sparse/linalg/dsolve/linsolve.py:206: MatrixRankWarning: Matrix is exactly singular\n",
      "  warn(\"Matrix is exactly singular\", MatrixRankWarning)\n",
      "/usr/local/lib/python3.8/dist-packages/scipy/sparse/linalg/dsolve/linsolve.py:206: MatrixRankWarning: Matrix is exactly singular\n",
      "  warn(\"Matrix is exactly singular\", MatrixRankWarning)\n",
      "/usr/local/lib/python3.8/dist-packages/scipy/sparse/linalg/dsolve/linsolve.py:206: MatrixRankWarning: Matrix is exactly singular\n",
      "  warn(\"Matrix is exactly singular\", MatrixRankWarning)\n",
      "/usr/local/lib/python3.8/dist-packages/scipy/sparse/linalg/dsolve/linsolve.py:206: MatrixRankWarning: Matrix is exactly singular\n",
      "  warn(\"Matrix is exactly singular\", MatrixRankWarning)\n",
      "/usr/local/lib/python3.8/dist-packages/scipy/sparse/linalg/dsolve/linsolve.py:206: MatrixRankWarning: Matrix is exactly singular\n",
      "  warn(\"Matrix is exactly singular\", MatrixRankWarning)\n",
      "/usr/local/lib/python3.8/dist-packages/scipy/sparse/linalg/dsolve/linsolve.py:206: MatrixRankWarning: Matrix is exactly singular\n",
      "  warn(\"Matrix is exactly singular\", MatrixRankWarning)\n",
      "/usr/local/lib/python3.8/dist-packages/scipy/sparse/linalg/dsolve/linsolve.py:206: MatrixRankWarning: Matrix is exactly singular\n",
      "  warn(\"Matrix is exactly singular\", MatrixRankWarning)\n",
      "/usr/local/lib/python3.8/dist-packages/scipy/sparse/linalg/dsolve/linsolve.py:206: MatrixRankWarning: Matrix is exactly singular\n",
      "  warn(\"Matrix is exactly singular\", MatrixRankWarning)\n",
      "/usr/local/lib/python3.8/dist-packages/scipy/sparse/linalg/dsolve/linsolve.py:206: MatrixRankWarning: Matrix is exactly singular\n",
      "  warn(\"Matrix is exactly singular\", MatrixRankWarning)\n",
      "/usr/local/lib/python3.8/dist-packages/scipy/sparse/linalg/dsolve/linsolve.py:206: MatrixRankWarning: Matrix is exactly singular\n",
      "  warn(\"Matrix is exactly singular\", MatrixRankWarning)\n",
      "/usr/local/lib/python3.8/dist-packages/scipy/sparse/linalg/dsolve/linsolve.py:206: MatrixRankWarning: Matrix is exactly singular\n",
      "  warn(\"Matrix is exactly singular\", MatrixRankWarning)\n",
      "/usr/local/lib/python3.8/dist-packages/scipy/sparse/linalg/dsolve/linsolve.py:206: MatrixRankWarning: Matrix is exactly singular\n",
      "  warn(\"Matrix is exactly singular\", MatrixRankWarning)\n",
      "/usr/local/lib/python3.8/dist-packages/scipy/sparse/linalg/dsolve/linsolve.py:206: MatrixRankWarning: Matrix is exactly singular\n",
      "  warn(\"Matrix is exactly singular\", MatrixRankWarning)\n",
      "/usr/local/lib/python3.8/dist-packages/scipy/sparse/linalg/dsolve/linsolve.py:206: MatrixRankWarning: Matrix is exactly singular\n",
      "  warn(\"Matrix is exactly singular\", MatrixRankWarning)\n",
      "/usr/local/lib/python3.8/dist-packages/scipy/sparse/linalg/dsolve/linsolve.py:206: MatrixRankWarning: Matrix is exactly singular\n",
      "  warn(\"Matrix is exactly singular\", MatrixRankWarning)\n",
      "/usr/local/lib/python3.8/dist-packages/scipy/sparse/linalg/dsolve/linsolve.py:206: MatrixRankWarning: Matrix is exactly singular\n",
      "  warn(\"Matrix is exactly singular\", MatrixRankWarning)\n",
      "/usr/local/lib/python3.8/dist-packages/scipy/sparse/linalg/dsolve/linsolve.py:206: MatrixRankWarning: Matrix is exactly singular\n",
      "  warn(\"Matrix is exactly singular\", MatrixRankWarning)\n",
      "/usr/local/lib/python3.8/dist-packages/scipy/sparse/linalg/dsolve/linsolve.py:206: MatrixRankWarning: Matrix is exactly singular\n",
      "  warn(\"Matrix is exactly singular\", MatrixRankWarning)\n",
      "/usr/local/lib/python3.8/dist-packages/scipy/sparse/linalg/dsolve/linsolve.py:206: MatrixRankWarning: Matrix is exactly singular\n",
      "  warn(\"Matrix is exactly singular\", MatrixRankWarning)\n",
      "/usr/local/lib/python3.8/dist-packages/scipy/sparse/linalg/dsolve/linsolve.py:206: MatrixRankWarning: Matrix is exactly singular\n",
      "  warn(\"Matrix is exactly singular\", MatrixRankWarning)\n",
      "/usr/local/lib/python3.8/dist-packages/scipy/sparse/linalg/dsolve/linsolve.py:206: MatrixRankWarning: Matrix is exactly singular\n",
      "  warn(\"Matrix is exactly singular\", MatrixRankWarning)\n",
      "/usr/local/lib/python3.8/dist-packages/scipy/sparse/linalg/dsolve/linsolve.py:206: MatrixRankWarning: Matrix is exactly singular\n",
      "  warn(\"Matrix is exactly singular\", MatrixRankWarning)\n",
      "/usr/local/lib/python3.8/dist-packages/scipy/sparse/linalg/dsolve/linsolve.py:206: MatrixRankWarning: Matrix is exactly singular\n",
      "  warn(\"Matrix is exactly singular\", MatrixRankWarning)\n",
      "/usr/local/lib/python3.8/dist-packages/scipy/sparse/linalg/dsolve/linsolve.py:206: MatrixRankWarning: Matrix is exactly singular\n",
      "  warn(\"Matrix is exactly singular\", MatrixRankWarning)\n",
      "/usr/local/lib/python3.8/dist-packages/scipy/sparse/linalg/dsolve/linsolve.py:206: MatrixRankWarning: Matrix is exactly singular\n",
      "  warn(\"Matrix is exactly singular\", MatrixRankWarning)\n",
      "/usr/local/lib/python3.8/dist-packages/scipy/sparse/linalg/dsolve/linsolve.py:206: MatrixRankWarning: Matrix is exactly singular\n",
      "  warn(\"Matrix is exactly singular\", MatrixRankWarning)\n",
      "/usr/local/lib/python3.8/dist-packages/scipy/sparse/linalg/dsolve/linsolve.py:206: MatrixRankWarning: Matrix is exactly singular\n",
      "  warn(\"Matrix is exactly singular\", MatrixRankWarning)\n",
      "/usr/local/lib/python3.8/dist-packages/scipy/sparse/linalg/dsolve/linsolve.py:206: MatrixRankWarning: Matrix is exactly singular\n",
      "  warn(\"Matrix is exactly singular\", MatrixRankWarning)\n",
      "/usr/local/lib/python3.8/dist-packages/scipy/sparse/linalg/dsolve/linsolve.py:206: MatrixRankWarning: Matrix is exactly singular\n",
      "  warn(\"Matrix is exactly singular\", MatrixRankWarning)\n",
      "/usr/local/lib/python3.8/dist-packages/scipy/sparse/linalg/dsolve/linsolve.py:206: MatrixRankWarning: Matrix is exactly singular\n",
      "  warn(\"Matrix is exactly singular\", MatrixRankWarning)\n",
      "/usr/local/lib/python3.8/dist-packages/scipy/sparse/linalg/dsolve/linsolve.py:206: MatrixRankWarning: Matrix is exactly singular\n",
      "  warn(\"Matrix is exactly singular\", MatrixRankWarning)\n",
      "/usr/local/lib/python3.8/dist-packages/scipy/sparse/linalg/dsolve/linsolve.py:206: MatrixRankWarning: Matrix is exactly singular\n",
      "  warn(\"Matrix is exactly singular\", MatrixRankWarning)\n",
      "/usr/local/lib/python3.8/dist-packages/scipy/sparse/linalg/dsolve/linsolve.py:206: MatrixRankWarning: Matrix is exactly singular\n",
      "  warn(\"Matrix is exactly singular\", MatrixRankWarning)\n",
      "/usr/local/lib/python3.8/dist-packages/scipy/sparse/linalg/dsolve/linsolve.py:206: MatrixRankWarning: Matrix is exactly singular\n",
      "  warn(\"Matrix is exactly singular\", MatrixRankWarning)\n",
      "/usr/local/lib/python3.8/dist-packages/scipy/sparse/linalg/dsolve/linsolve.py:206: MatrixRankWarning: Matrix is exactly singular\n",
      "  warn(\"Matrix is exactly singular\", MatrixRankWarning)\n",
      "/usr/local/lib/python3.8/dist-packages/scipy/sparse/linalg/dsolve/linsolve.py:206: MatrixRankWarning: Matrix is exactly singular\n",
      "  warn(\"Matrix is exactly singular\", MatrixRankWarning)\n",
      "/usr/local/lib/python3.8/dist-packages/scipy/sparse/linalg/dsolve/linsolve.py:206: MatrixRankWarning: Matrix is exactly singular\n",
      "  warn(\"Matrix is exactly singular\", MatrixRankWarning)\n",
      "/usr/local/lib/python3.8/dist-packages/scipy/sparse/linalg/dsolve/linsolve.py:206: MatrixRankWarning: Matrix is exactly singular\n",
      "  warn(\"Matrix is exactly singular\", MatrixRankWarning)\n",
      "/usr/local/lib/python3.8/dist-packages/scipy/sparse/linalg/dsolve/linsolve.py:206: MatrixRankWarning: Matrix is exactly singular\n",
      "  warn(\"Matrix is exactly singular\", MatrixRankWarning)\n",
      "/usr/local/lib/python3.8/dist-packages/scipy/sparse/linalg/dsolve/linsolve.py:206: MatrixRankWarning: Matrix is exactly singular\n",
      "  warn(\"Matrix is exactly singular\", MatrixRankWarning)\n",
      "/usr/local/lib/python3.8/dist-packages/scipy/sparse/linalg/dsolve/linsolve.py:206: MatrixRankWarning: Matrix is exactly singular\n",
      "  warn(\"Matrix is exactly singular\", MatrixRankWarning)\n",
      "/usr/local/lib/python3.8/dist-packages/scipy/sparse/linalg/dsolve/linsolve.py:206: MatrixRankWarning: Matrix is exactly singular\n",
      "  warn(\"Matrix is exactly singular\", MatrixRankWarning)\n",
      "/usr/local/lib/python3.8/dist-packages/scipy/sparse/linalg/dsolve/linsolve.py:206: MatrixRankWarning: Matrix is exactly singular\n",
      "  warn(\"Matrix is exactly singular\", MatrixRankWarning)\n",
      "/usr/local/lib/python3.8/dist-packages/scipy/sparse/linalg/dsolve/linsolve.py:206: MatrixRankWarning: Matrix is exactly singular\n",
      "  warn(\"Matrix is exactly singular\", MatrixRankWarning)\n",
      "/usr/local/lib/python3.8/dist-packages/scipy/sparse/linalg/dsolve/linsolve.py:206: MatrixRankWarning: Matrix is exactly singular\n",
      "  warn(\"Matrix is exactly singular\", MatrixRankWarning)\n",
      "/usr/local/lib/python3.8/dist-packages/scipy/sparse/linalg/dsolve/linsolve.py:206: MatrixRankWarning: Matrix is exactly singular\n",
      "  warn(\"Matrix is exactly singular\", MatrixRankWarning)\n",
      "/usr/local/lib/python3.8/dist-packages/scipy/sparse/linalg/dsolve/linsolve.py:206: MatrixRankWarning: Matrix is exactly singular\n",
      "  warn(\"Matrix is exactly singular\", MatrixRankWarning)\n",
      "/usr/local/lib/python3.8/dist-packages/scipy/sparse/linalg/dsolve/linsolve.py:206: MatrixRankWarning: Matrix is exactly singular\n",
      "  warn(\"Matrix is exactly singular\", MatrixRankWarning)\n",
      "/usr/local/lib/python3.8/dist-packages/scipy/sparse/linalg/dsolve/linsolve.py:206: MatrixRankWarning: Matrix is exactly singular\n",
      "  warn(\"Matrix is exactly singular\", MatrixRankWarning)\n",
      "/usr/local/lib/python3.8/dist-packages/scipy/sparse/linalg/dsolve/linsolve.py:206: MatrixRankWarning: Matrix is exactly singular\n",
      "  warn(\"Matrix is exactly singular\", MatrixRankWarning)\n",
      "/usr/local/lib/python3.8/dist-packages/scipy/sparse/linalg/dsolve/linsolve.py:206: MatrixRankWarning: Matrix is exactly singular\n",
      "  warn(\"Matrix is exactly singular\", MatrixRankWarning)\n",
      "/usr/local/lib/python3.8/dist-packages/scipy/sparse/linalg/dsolve/linsolve.py:206: MatrixRankWarning: Matrix is exactly singular\n",
      "  warn(\"Matrix is exactly singular\", MatrixRankWarning)\n",
      "/usr/local/lib/python3.8/dist-packages/scipy/sparse/linalg/dsolve/linsolve.py:206: MatrixRankWarning: Matrix is exactly singular\n",
      "  warn(\"Matrix is exactly singular\", MatrixRankWarning)\n",
      "/usr/local/lib/python3.8/dist-packages/scipy/sparse/linalg/dsolve/linsolve.py:206: MatrixRankWarning: Matrix is exactly singular\n",
      "  warn(\"Matrix is exactly singular\", MatrixRankWarning)\n"
     ]
    }
   ],
   "source": [
    "scores = []\n",
    "for min_match_score in [0.0, 0.2, 0.4, 0.8, 1.0]:\n",
    "    for p in [0.0, 0.2, 0.4, 0.8, 1.0]:\n",
    "        for min_quality_score in [0.0, 0.2, 0.4, 0.8, 1.0]:\n",
    "                train_topics['ranked_sents'] = train_topics.apply(lambda row: apply_page_rank(row, p=p, min_quality_score=min_quality_score, min_match_score=min_match_score), axis=1)\n",
    "                train_topics['scores'] = train_topics.apply(lambda row: evalute_topic_by_rouge(row), axis=1)\n",
    "                score = np.mean(train_topics.scores.tolist())\n",
    "                scores.append([p, min_quality_score, min_match_score, score])"
   ]
  },
  {
   "cell_type": "code",
   "execution_count": 26,
   "id": "13780f9e-0604-49a6-8c3c-ee1acb4fa903",
   "metadata": {
    "scrolled": true,
    "tags": []
   },
   "outputs": [],
   "source": [
    "scores_df = pd.DataFrame(scores, columns=['p', 'min-quality-score', 'min-match-score', 'score'])"
   ]
  },
  {
   "cell_type": "code",
   "execution_count": 27,
   "id": "c2eb00d3-99f0-4bf8-918d-c3c348f7e523",
   "metadata": {},
   "outputs": [
    {
     "data": {
      "text/html": [
       "<div>\n",
       "<style scoped>\n",
       "    .dataframe tbody tr th:only-of-type {\n",
       "        vertical-align: middle;\n",
       "    }\n",
       "\n",
       "    .dataframe tbody tr th {\n",
       "        vertical-align: top;\n",
       "    }\n",
       "\n",
       "    .dataframe thead th {\n",
       "        text-align: right;\n",
       "    }\n",
       "</style>\n",
       "<table border=\"1\" class=\"dataframe\">\n",
       "  <thead>\n",
       "    <tr style=\"text-align: right;\">\n",
       "      <th></th>\n",
       "      <th>p</th>\n",
       "      <th>min-quality-score</th>\n",
       "      <th>min-match-score</th>\n",
       "      <th>score</th>\n",
       "    </tr>\n",
       "  </thead>\n",
       "  <tbody>\n",
       "    <tr>\n",
       "      <th>38</th>\n",
       "      <td>0.4</td>\n",
       "      <td>0.8</td>\n",
       "      <td>0.2</td>\n",
       "      <td>0.266590</td>\n",
       "    </tr>\n",
       "    <tr>\n",
       "      <th>33</th>\n",
       "      <td>0.2</td>\n",
       "      <td>0.8</td>\n",
       "      <td>0.2</td>\n",
       "      <td>0.266200</td>\n",
       "    </tr>\n",
       "    <tr>\n",
       "      <th>8</th>\n",
       "      <td>0.2</td>\n",
       "      <td>0.8</td>\n",
       "      <td>0.0</td>\n",
       "      <td>0.265192</td>\n",
       "    </tr>\n",
       "    <tr>\n",
       "      <th>35</th>\n",
       "      <td>0.4</td>\n",
       "      <td>0.0</td>\n",
       "      <td>0.2</td>\n",
       "      <td>0.264783</td>\n",
       "    </tr>\n",
       "    <tr>\n",
       "      <th>12</th>\n",
       "      <td>0.4</td>\n",
       "      <td>0.4</td>\n",
       "      <td>0.0</td>\n",
       "      <td>0.264783</td>\n",
       "    </tr>\n",
       "    <tr>\n",
       "      <th>...</th>\n",
       "      <td>...</td>\n",
       "      <td>...</td>\n",
       "      <td>...</td>\n",
       "      <td>...</td>\n",
       "    </tr>\n",
       "    <tr>\n",
       "      <th>54</th>\n",
       "      <td>0.0</td>\n",
       "      <td>1.0</td>\n",
       "      <td>0.4</td>\n",
       "      <td>0.192913</td>\n",
       "    </tr>\n",
       "    <tr>\n",
       "      <th>14</th>\n",
       "      <td>0.4</td>\n",
       "      <td>1.0</td>\n",
       "      <td>0.0</td>\n",
       "      <td>0.192836</td>\n",
       "    </tr>\n",
       "    <tr>\n",
       "      <th>64</th>\n",
       "      <td>0.4</td>\n",
       "      <td>1.0</td>\n",
       "      <td>0.4</td>\n",
       "      <td>0.192836</td>\n",
       "    </tr>\n",
       "    <tr>\n",
       "      <th>39</th>\n",
       "      <td>0.4</td>\n",
       "      <td>1.0</td>\n",
       "      <td>0.2</td>\n",
       "      <td>0.192836</td>\n",
       "    </tr>\n",
       "    <tr>\n",
       "      <th>124</th>\n",
       "      <td>1.0</td>\n",
       "      <td>1.0</td>\n",
       "      <td>1.0</td>\n",
       "      <td>0.188684</td>\n",
       "    </tr>\n",
       "  </tbody>\n",
       "</table>\n",
       "<p>125 rows × 4 columns</p>\n",
       "</div>"
      ],
      "text/plain": [
       "       p  min-quality-score  min-match-score     score\n",
       "38   0.4                0.8              0.2  0.266590\n",
       "33   0.2                0.8              0.2  0.266200\n",
       "8    0.2                0.8              0.0  0.265192\n",
       "35   0.4                0.0              0.2  0.264783\n",
       "12   0.4                0.4              0.0  0.264783\n",
       "..   ...                ...              ...       ...\n",
       "54   0.0                1.0              0.4  0.192913\n",
       "14   0.4                1.0              0.0  0.192836\n",
       "64   0.4                1.0              0.4  0.192836\n",
       "39   0.4                1.0              0.2  0.192836\n",
       "124  1.0                1.0              1.0  0.188684\n",
       "\n",
       "[125 rows x 4 columns]"
      ]
     },
     "execution_count": 27,
     "metadata": {},
     "output_type": "execute_result"
    }
   ],
   "source": [
    "scores_df.sort_values('score', ascending=False)"
   ]
  },
  {
   "cell_type": "code",
   "execution_count": 28,
   "id": "aad2a365-914e-4fa2-b78a-2a10329113af",
   "metadata": {},
   "outputs": [],
   "source": [
    "scores_df.to_csv('../../data/scores_df.csv')"
   ]
  },
  {
   "cell_type": "code",
   "execution_count": 23,
   "id": "908d507f-dae9-49d6-b983-d752f2df3bee",
   "metadata": {},
   "outputs": [
    {
     "name": "stdout",
     "output_type": "stream",
     "text": [
      "done\n"
     ]
    }
   ],
   "source": [
    "# We wanted to also fine-tune for the best filter_score threshold but it takes for ever\n",
    "# for filter_score in [0.0, 0.2, 0.4, 0.8, 1.0]:\n",
    "#     train_topics['ranked_sents'] = train_topics.apply(lambda row: filter_ranked_list(row, models, min_match=filter_score), axis=1)\n",
    "#     train_topics['scores'] = train_topics.apply(lambda row: evalute_topic_by_rouge(row), axis=1)\n",
    "#     score = np.mean(train_topics.scores.tolist())\n",
    "#     scores.append([p, min_quality_score, min_match_score, score])"
   ]
  },
  {
   "cell_type": "markdown",
   "id": "b597c21a-f445-49f6-83f8-a97b9bf71132",
   "metadata": {},
   "source": [
    "### Using Lexicon for scoring Argumentation:"
   ]
  },
  {
   "cell_type": "code",
   "execution_count": 84,
   "id": "dc224fa9-0283-4e65-baba-1d1de7af6684",
   "metadata": {},
   "outputs": [],
   "source": [
    "discourse_markers = [\"for example\", \"such as\", \"for instance\", \"in the case of\", \"as revealed by\",\n",
    "\"illustrated by\",\n",
    "\"because\", \"so\", \"therefore\", \"thus\", \"consequently\", \"hence\", \"similariy\",\n",
    "\"likewise\",\n",
    "\"as with\",\n",
    "\"like\", \"equally\", \"in the same way\", \"first\", \"second \",\n",
    "\"third,\", \"finally\", \"next\", \"meanwhile\", \"after\", \"then\", \"subsequently\",\n",
    "\"above all\",\n",
    "\"in particular\", \"especially\", \"significantly\", \"indeed\", \"notably\", \"but\", \"however\",\n",
    "\"although\",\n",
    "\"unless\", \"except\", \"apart from\", \"as long as\", \"if\", \"whereas\", \"instead of\",\n",
    "\"alternatively\", \"otherwise\", \"unlike\", \"on the other hand\", \"conversely\"]"
   ]
  },
  {
   "cell_type": "code",
   "execution_count": 30,
   "id": "591b5d81-f772-41a6-b9e0-a664519129e5",
   "metadata": {},
   "outputs": [],
   "source": [
    "def get_sentences_lexicon_scores(sentences):\n",
    "    lexicon_file = open('../../data/ClaimLexicon.txt')\n",
    "    lexicon_contents = lexicon_file.read()\n",
    "    lexicon_claims = lexicon_contents.split(', ')\n",
    "    score_sentences = []\n",
    "    for sentence in sentences:\n",
    "        value = 1.0\n",
    "        for marker in discourse_markers:\n",
    "            if marker in sentence.lower():\n",
    "                value += 1            \n",
    "        if any(claim_ind in sentence.lower() for claim_ind in lexicon_claims):  \n",
    "            value += 1\n",
    "        score_sentences.append(value)\n",
    "    return score_sentences"
   ]
  },
  {
   "cell_type": "code",
   "execution_count": 31,
   "id": "1bfda362-1621-4973-a086-ff2990f71438",
   "metadata": {
    "scrolled": true,
    "tags": []
   },
   "outputs": [],
   "source": [
    "#modify sentence_scores to be taken from the claim lecixon approach\n",
    "train_topics['sents_with_lexicon_scores'] = train_topics['sents_with_scores'].apply(lambda sents: list(zip([x[0] for x in sents], get_sentences_lexicon_scores([x[0] for x in sents]))))"
   ]
  },
  {
   "cell_type": "code",
   "execution_count": 32,
   "id": "ca9cbbf3-521f-4045-b77d-105c1a724291",
   "metadata": {
    "scrolled": true,
    "tags": []
   },
   "outputs": [
    {
     "name": "stderr",
     "output_type": "stream",
     "text": [
      "/usr/local/lib/python3.8/dist-packages/scipy/sparse/linalg/dsolve/linsolve.py:206: MatrixRankWarning: Matrix is exactly singular\n",
      "  warn(\"Matrix is exactly singular\", MatrixRankWarning)\n",
      "/usr/local/lib/python3.8/dist-packages/scipy/sparse/linalg/dsolve/linsolve.py:206: MatrixRankWarning: Matrix is exactly singular\n",
      "  warn(\"Matrix is exactly singular\", MatrixRankWarning)\n",
      "/usr/local/lib/python3.8/dist-packages/scipy/sparse/linalg/dsolve/linsolve.py:206: MatrixRankWarning: Matrix is exactly singular\n",
      "  warn(\"Matrix is exactly singular\", MatrixRankWarning)\n",
      "/usr/local/lib/python3.8/dist-packages/scipy/sparse/linalg/dsolve/linsolve.py:206: MatrixRankWarning: Matrix is exactly singular\n",
      "  warn(\"Matrix is exactly singular\", MatrixRankWarning)\n",
      "/usr/local/lib/python3.8/dist-packages/scipy/sparse/linalg/dsolve/linsolve.py:206: MatrixRankWarning: Matrix is exactly singular\n",
      "  warn(\"Matrix is exactly singular\", MatrixRankWarning)\n",
      "/usr/local/lib/python3.8/dist-packages/scipy/sparse/linalg/dsolve/linsolve.py:206: MatrixRankWarning: Matrix is exactly singular\n",
      "  warn(\"Matrix is exactly singular\", MatrixRankWarning)\n",
      "/usr/local/lib/python3.8/dist-packages/scipy/sparse/linalg/dsolve/linsolve.py:206: MatrixRankWarning: Matrix is exactly singular\n",
      "  warn(\"Matrix is exactly singular\", MatrixRankWarning)\n",
      "/usr/local/lib/python3.8/dist-packages/scipy/sparse/linalg/dsolve/linsolve.py:206: MatrixRankWarning: Matrix is exactly singular\n",
      "  warn(\"Matrix is exactly singular\", MatrixRankWarning)\n",
      "/usr/local/lib/python3.8/dist-packages/scipy/sparse/linalg/dsolve/linsolve.py:206: MatrixRankWarning: Matrix is exactly singular\n",
      "  warn(\"Matrix is exactly singular\", MatrixRankWarning)\n",
      "/usr/local/lib/python3.8/dist-packages/scipy/sparse/linalg/dsolve/linsolve.py:206: MatrixRankWarning: Matrix is exactly singular\n",
      "  warn(\"Matrix is exactly singular\", MatrixRankWarning)\n",
      "/usr/local/lib/python3.8/dist-packages/scipy/sparse/linalg/dsolve/linsolve.py:206: MatrixRankWarning: Matrix is exactly singular\n",
      "  warn(\"Matrix is exactly singular\", MatrixRankWarning)\n",
      "/usr/local/lib/python3.8/dist-packages/scipy/sparse/linalg/dsolve/linsolve.py:206: MatrixRankWarning: Matrix is exactly singular\n",
      "  warn(\"Matrix is exactly singular\", MatrixRankWarning)\n",
      "/usr/local/lib/python3.8/dist-packages/scipy/sparse/linalg/dsolve/linsolve.py:206: MatrixRankWarning: Matrix is exactly singular\n",
      "  warn(\"Matrix is exactly singular\", MatrixRankWarning)\n",
      "/usr/local/lib/python3.8/dist-packages/scipy/sparse/linalg/dsolve/linsolve.py:206: MatrixRankWarning: Matrix is exactly singular\n",
      "  warn(\"Matrix is exactly singular\", MatrixRankWarning)\n",
      "/usr/local/lib/python3.8/dist-packages/scipy/sparse/linalg/dsolve/linsolve.py:206: MatrixRankWarning: Matrix is exactly singular\n",
      "  warn(\"Matrix is exactly singular\", MatrixRankWarning)\n",
      "/usr/local/lib/python3.8/dist-packages/scipy/sparse/linalg/dsolve/linsolve.py:206: MatrixRankWarning: Matrix is exactly singular\n",
      "  warn(\"Matrix is exactly singular\", MatrixRankWarning)\n",
      "/usr/local/lib/python3.8/dist-packages/scipy/sparse/linalg/dsolve/linsolve.py:206: MatrixRankWarning: Matrix is exactly singular\n",
      "  warn(\"Matrix is exactly singular\", MatrixRankWarning)\n",
      "/usr/local/lib/python3.8/dist-packages/scipy/sparse/linalg/dsolve/linsolve.py:206: MatrixRankWarning: Matrix is exactly singular\n",
      "  warn(\"Matrix is exactly singular\", MatrixRankWarning)\n",
      "/usr/local/lib/python3.8/dist-packages/scipy/sparse/linalg/dsolve/linsolve.py:206: MatrixRankWarning: Matrix is exactly singular\n",
      "  warn(\"Matrix is exactly singular\", MatrixRankWarning)\n",
      "/usr/local/lib/python3.8/dist-packages/scipy/sparse/linalg/dsolve/linsolve.py:206: MatrixRankWarning: Matrix is exactly singular\n",
      "  warn(\"Matrix is exactly singular\", MatrixRankWarning)\n",
      "/usr/local/lib/python3.8/dist-packages/scipy/sparse/linalg/dsolve/linsolve.py:206: MatrixRankWarning: Matrix is exactly singular\n",
      "  warn(\"Matrix is exactly singular\", MatrixRankWarning)\n",
      "/usr/local/lib/python3.8/dist-packages/scipy/sparse/linalg/dsolve/linsolve.py:206: MatrixRankWarning: Matrix is exactly singular\n",
      "  warn(\"Matrix is exactly singular\", MatrixRankWarning)\n",
      "/usr/local/lib/python3.8/dist-packages/scipy/sparse/linalg/dsolve/linsolve.py:206: MatrixRankWarning: Matrix is exactly singular\n",
      "  warn(\"Matrix is exactly singular\", MatrixRankWarning)\n",
      "/usr/local/lib/python3.8/dist-packages/scipy/sparse/linalg/dsolve/linsolve.py:206: MatrixRankWarning: Matrix is exactly singular\n",
      "  warn(\"Matrix is exactly singular\", MatrixRankWarning)\n",
      "/usr/local/lib/python3.8/dist-packages/scipy/sparse/linalg/dsolve/linsolve.py:206: MatrixRankWarning: Matrix is exactly singular\n",
      "  warn(\"Matrix is exactly singular\", MatrixRankWarning)\n",
      "/usr/local/lib/python3.8/dist-packages/scipy/sparse/linalg/dsolve/linsolve.py:206: MatrixRankWarning: Matrix is exactly singular\n",
      "  warn(\"Matrix is exactly singular\", MatrixRankWarning)\n",
      "/usr/local/lib/python3.8/dist-packages/scipy/sparse/linalg/dsolve/linsolve.py:206: MatrixRankWarning: Matrix is exactly singular\n",
      "  warn(\"Matrix is exactly singular\", MatrixRankWarning)\n",
      "/usr/local/lib/python3.8/dist-packages/scipy/sparse/linalg/dsolve/linsolve.py:206: MatrixRankWarning: Matrix is exactly singular\n",
      "  warn(\"Matrix is exactly singular\", MatrixRankWarning)\n",
      "/usr/local/lib/python3.8/dist-packages/scipy/sparse/linalg/dsolve/linsolve.py:206: MatrixRankWarning: Matrix is exactly singular\n",
      "  warn(\"Matrix is exactly singular\", MatrixRankWarning)\n",
      "/usr/local/lib/python3.8/dist-packages/scipy/sparse/linalg/dsolve/linsolve.py:206: MatrixRankWarning: Matrix is exactly singular\n",
      "  warn(\"Matrix is exactly singular\", MatrixRankWarning)\n",
      "/usr/local/lib/python3.8/dist-packages/scipy/sparse/linalg/dsolve/linsolve.py:206: MatrixRankWarning: Matrix is exactly singular\n",
      "  warn(\"Matrix is exactly singular\", MatrixRankWarning)\n",
      "/usr/local/lib/python3.8/dist-packages/scipy/sparse/linalg/dsolve/linsolve.py:206: MatrixRankWarning: Matrix is exactly singular\n",
      "  warn(\"Matrix is exactly singular\", MatrixRankWarning)\n",
      "/usr/local/lib/python3.8/dist-packages/scipy/sparse/linalg/dsolve/linsolve.py:206: MatrixRankWarning: Matrix is exactly singular\n",
      "  warn(\"Matrix is exactly singular\", MatrixRankWarning)\n",
      "/usr/local/lib/python3.8/dist-packages/scipy/sparse/linalg/dsolve/linsolve.py:206: MatrixRankWarning: Matrix is exactly singular\n",
      "  warn(\"Matrix is exactly singular\", MatrixRankWarning)\n",
      "/usr/local/lib/python3.8/dist-packages/scipy/sparse/linalg/dsolve/linsolve.py:206: MatrixRankWarning: Matrix is exactly singular\n",
      "  warn(\"Matrix is exactly singular\", MatrixRankWarning)\n",
      "/usr/local/lib/python3.8/dist-packages/scipy/sparse/linalg/dsolve/linsolve.py:206: MatrixRankWarning: Matrix is exactly singular\n",
      "  warn(\"Matrix is exactly singular\", MatrixRankWarning)\n",
      "/usr/local/lib/python3.8/dist-packages/scipy/sparse/linalg/dsolve/linsolve.py:206: MatrixRankWarning: Matrix is exactly singular\n",
      "  warn(\"Matrix is exactly singular\", MatrixRankWarning)\n",
      "/usr/local/lib/python3.8/dist-packages/scipy/sparse/linalg/dsolve/linsolve.py:206: MatrixRankWarning: Matrix is exactly singular\n",
      "  warn(\"Matrix is exactly singular\", MatrixRankWarning)\n",
      "/usr/local/lib/python3.8/dist-packages/scipy/sparse/linalg/dsolve/linsolve.py:206: MatrixRankWarning: Matrix is exactly singular\n",
      "  warn(\"Matrix is exactly singular\", MatrixRankWarning)\n",
      "/usr/local/lib/python3.8/dist-packages/scipy/sparse/linalg/dsolve/linsolve.py:206: MatrixRankWarning: Matrix is exactly singular\n",
      "  warn(\"Matrix is exactly singular\", MatrixRankWarning)\n",
      "/usr/local/lib/python3.8/dist-packages/scipy/sparse/linalg/dsolve/linsolve.py:206: MatrixRankWarning: Matrix is exactly singular\n",
      "  warn(\"Matrix is exactly singular\", MatrixRankWarning)\n",
      "/usr/local/lib/python3.8/dist-packages/scipy/sparse/linalg/dsolve/linsolve.py:206: MatrixRankWarning: Matrix is exactly singular\n",
      "  warn(\"Matrix is exactly singular\", MatrixRankWarning)\n",
      "/usr/local/lib/python3.8/dist-packages/scipy/sparse/linalg/dsolve/linsolve.py:206: MatrixRankWarning: Matrix is exactly singular\n",
      "  warn(\"Matrix is exactly singular\", MatrixRankWarning)\n",
      "/usr/local/lib/python3.8/dist-packages/scipy/sparse/linalg/dsolve/linsolve.py:206: MatrixRankWarning: Matrix is exactly singular\n",
      "  warn(\"Matrix is exactly singular\", MatrixRankWarning)\n",
      "/usr/local/lib/python3.8/dist-packages/scipy/sparse/linalg/dsolve/linsolve.py:206: MatrixRankWarning: Matrix is exactly singular\n",
      "  warn(\"Matrix is exactly singular\", MatrixRankWarning)\n",
      "/usr/local/lib/python3.8/dist-packages/scipy/sparse/linalg/dsolve/linsolve.py:206: MatrixRankWarning: Matrix is exactly singular\n",
      "  warn(\"Matrix is exactly singular\", MatrixRankWarning)\n",
      "/usr/local/lib/python3.8/dist-packages/scipy/sparse/linalg/dsolve/linsolve.py:206: MatrixRankWarning: Matrix is exactly singular\n",
      "  warn(\"Matrix is exactly singular\", MatrixRankWarning)\n",
      "/usr/local/lib/python3.8/dist-packages/scipy/sparse/linalg/dsolve/linsolve.py:206: MatrixRankWarning: Matrix is exactly singular\n",
      "  warn(\"Matrix is exactly singular\", MatrixRankWarning)\n",
      "/usr/local/lib/python3.8/dist-packages/scipy/sparse/linalg/dsolve/linsolve.py:206: MatrixRankWarning: Matrix is exactly singular\n",
      "  warn(\"Matrix is exactly singular\", MatrixRankWarning)\n",
      "/usr/local/lib/python3.8/dist-packages/scipy/sparse/linalg/dsolve/linsolve.py:206: MatrixRankWarning: Matrix is exactly singular\n",
      "  warn(\"Matrix is exactly singular\", MatrixRankWarning)\n",
      "/usr/local/lib/python3.8/dist-packages/scipy/sparse/linalg/dsolve/linsolve.py:206: MatrixRankWarning: Matrix is exactly singular\n",
      "  warn(\"Matrix is exactly singular\", MatrixRankWarning)\n",
      "/usr/local/lib/python3.8/dist-packages/scipy/sparse/linalg/dsolve/linsolve.py:206: MatrixRankWarning: Matrix is exactly singular\n",
      "  warn(\"Matrix is exactly singular\", MatrixRankWarning)\n",
      "/usr/local/lib/python3.8/dist-packages/scipy/sparse/linalg/dsolve/linsolve.py:206: MatrixRankWarning: Matrix is exactly singular\n",
      "  warn(\"Matrix is exactly singular\", MatrixRankWarning)\n",
      "/usr/local/lib/python3.8/dist-packages/scipy/sparse/linalg/dsolve/linsolve.py:206: MatrixRankWarning: Matrix is exactly singular\n",
      "  warn(\"Matrix is exactly singular\", MatrixRankWarning)\n",
      "/usr/local/lib/python3.8/dist-packages/scipy/sparse/linalg/dsolve/linsolve.py:206: MatrixRankWarning: Matrix is exactly singular\n",
      "  warn(\"Matrix is exactly singular\", MatrixRankWarning)\n",
      "/usr/local/lib/python3.8/dist-packages/scipy/sparse/linalg/dsolve/linsolve.py:206: MatrixRankWarning: Matrix is exactly singular\n",
      "  warn(\"Matrix is exactly singular\", MatrixRankWarning)\n",
      "/usr/local/lib/python3.8/dist-packages/scipy/sparse/linalg/dsolve/linsolve.py:206: MatrixRankWarning: Matrix is exactly singular\n",
      "  warn(\"Matrix is exactly singular\", MatrixRankWarning)\n",
      "/usr/local/lib/python3.8/dist-packages/scipy/sparse/linalg/dsolve/linsolve.py:206: MatrixRankWarning: Matrix is exactly singular\n",
      "  warn(\"Matrix is exactly singular\", MatrixRankWarning)\n",
      "/usr/local/lib/python3.8/dist-packages/scipy/sparse/linalg/dsolve/linsolve.py:206: MatrixRankWarning: Matrix is exactly singular\n",
      "  warn(\"Matrix is exactly singular\", MatrixRankWarning)\n",
      "/usr/local/lib/python3.8/dist-packages/scipy/sparse/linalg/dsolve/linsolve.py:206: MatrixRankWarning: Matrix is exactly singular\n",
      "  warn(\"Matrix is exactly singular\", MatrixRankWarning)\n",
      "/usr/local/lib/python3.8/dist-packages/scipy/sparse/linalg/dsolve/linsolve.py:206: MatrixRankWarning: Matrix is exactly singular\n",
      "  warn(\"Matrix is exactly singular\", MatrixRankWarning)\n",
      "/usr/local/lib/python3.8/dist-packages/scipy/sparse/linalg/dsolve/linsolve.py:206: MatrixRankWarning: Matrix is exactly singular\n",
      "  warn(\"Matrix is exactly singular\", MatrixRankWarning)\n",
      "/usr/local/lib/python3.8/dist-packages/scipy/sparse/linalg/dsolve/linsolve.py:206: MatrixRankWarning: Matrix is exactly singular\n",
      "  warn(\"Matrix is exactly singular\", MatrixRankWarning)\n",
      "/usr/local/lib/python3.8/dist-packages/scipy/sparse/linalg/dsolve/linsolve.py:206: MatrixRankWarning: Matrix is exactly singular\n",
      "  warn(\"Matrix is exactly singular\", MatrixRankWarning)\n",
      "/usr/local/lib/python3.8/dist-packages/scipy/sparse/linalg/dsolve/linsolve.py:206: MatrixRankWarning: Matrix is exactly singular\n",
      "  warn(\"Matrix is exactly singular\", MatrixRankWarning)\n",
      "/usr/local/lib/python3.8/dist-packages/scipy/sparse/linalg/dsolve/linsolve.py:206: MatrixRankWarning: Matrix is exactly singular\n",
      "  warn(\"Matrix is exactly singular\", MatrixRankWarning)\n",
      "/usr/local/lib/python3.8/dist-packages/scipy/sparse/linalg/dsolve/linsolve.py:206: MatrixRankWarning: Matrix is exactly singular\n",
      "  warn(\"Matrix is exactly singular\", MatrixRankWarning)\n",
      "/usr/local/lib/python3.8/dist-packages/scipy/sparse/linalg/dsolve/linsolve.py:206: MatrixRankWarning: Matrix is exactly singular\n",
      "  warn(\"Matrix is exactly singular\", MatrixRankWarning)\n",
      "/usr/local/lib/python3.8/dist-packages/scipy/sparse/linalg/dsolve/linsolve.py:206: MatrixRankWarning: Matrix is exactly singular\n",
      "  warn(\"Matrix is exactly singular\", MatrixRankWarning)\n",
      "/usr/local/lib/python3.8/dist-packages/scipy/sparse/linalg/dsolve/linsolve.py:206: MatrixRankWarning: Matrix is exactly singular\n",
      "  warn(\"Matrix is exactly singular\", MatrixRankWarning)\n",
      "/usr/local/lib/python3.8/dist-packages/scipy/sparse/linalg/dsolve/linsolve.py:206: MatrixRankWarning: Matrix is exactly singular\n",
      "  warn(\"Matrix is exactly singular\", MatrixRankWarning)\n",
      "/usr/local/lib/python3.8/dist-packages/scipy/sparse/linalg/dsolve/linsolve.py:206: MatrixRankWarning: Matrix is exactly singular\n",
      "  warn(\"Matrix is exactly singular\", MatrixRankWarning)\n",
      "/usr/local/lib/python3.8/dist-packages/scipy/sparse/linalg/dsolve/linsolve.py:206: MatrixRankWarning: Matrix is exactly singular\n",
      "  warn(\"Matrix is exactly singular\", MatrixRankWarning)\n",
      "/usr/local/lib/python3.8/dist-packages/scipy/sparse/linalg/dsolve/linsolve.py:206: MatrixRankWarning: Matrix is exactly singular\n",
      "  warn(\"Matrix is exactly singular\", MatrixRankWarning)\n",
      "/usr/local/lib/python3.8/dist-packages/scipy/sparse/linalg/dsolve/linsolve.py:206: MatrixRankWarning: Matrix is exactly singular\n",
      "  warn(\"Matrix is exactly singular\", MatrixRankWarning)\n"
     ]
    }
   ],
   "source": [
    "scores = []\n",
    "for min_match_score in [0.0, 0.2, 0.4, 0.8, 1.0]:\n",
    "    for p in [0.0, 0.2, 0.4, 0.8, 1.0]:\n",
    "        for min_quality_score in [0.0, 0.2, 0.4, 0.8, 1.0]:\n",
    "            train_topics['ranked_sents'] = train_topics.apply(lambda row: apply_page_rank(row, p=p, min_quality_score=min_quality_score, min_match_score=min_match_score, arg_score_clm='sents_with_lexicon_scores'), axis=1)\n",
    "            train_topics['scores'] = train_topics.apply(lambda row: evalute_topic_by_rouge(row), axis=1)\n",
    "            score = np.mean(train_topics.scores.tolist())\n",
    "            scores.append([p, min_quality_score, min_match_score, score])"
   ]
  },
  {
   "cell_type": "code",
   "execution_count": 33,
   "id": "95f92d4e-6ac0-48e8-9d44-294ab84127af",
   "metadata": {
    "scrolled": true,
    "tags": []
   },
   "outputs": [
    {
     "data": {
      "text/html": [
       "<div>\n",
       "<style scoped>\n",
       "    .dataframe tbody tr th:only-of-type {\n",
       "        vertical-align: middle;\n",
       "    }\n",
       "\n",
       "    .dataframe tbody tr th {\n",
       "        vertical-align: top;\n",
       "    }\n",
       "\n",
       "    .dataframe thead th {\n",
       "        text-align: right;\n",
       "    }\n",
       "</style>\n",
       "<table border=\"1\" class=\"dataframe\">\n",
       "  <thead>\n",
       "    <tr style=\"text-align: right;\">\n",
       "      <th></th>\n",
       "      <th>p</th>\n",
       "      <th>min-quality-score</th>\n",
       "      <th>min-match-score</th>\n",
       "      <th>score</th>\n",
       "    </tr>\n",
       "  </thead>\n",
       "  <tbody>\n",
       "    <tr>\n",
       "      <th>48</th>\n",
       "      <td>1.0</td>\n",
       "      <td>0.8</td>\n",
       "      <td>0.2</td>\n",
       "      <td>0.248726</td>\n",
       "    </tr>\n",
       "    <tr>\n",
       "      <th>47</th>\n",
       "      <td>1.0</td>\n",
       "      <td>0.4</td>\n",
       "      <td>0.2</td>\n",
       "      <td>0.248726</td>\n",
       "    </tr>\n",
       "    <tr>\n",
       "      <th>46</th>\n",
       "      <td>1.0</td>\n",
       "      <td>0.2</td>\n",
       "      <td>0.2</td>\n",
       "      <td>0.248726</td>\n",
       "    </tr>\n",
       "    <tr>\n",
       "      <th>45</th>\n",
       "      <td>1.0</td>\n",
       "      <td>0.0</td>\n",
       "      <td>0.2</td>\n",
       "      <td>0.248726</td>\n",
       "    </tr>\n",
       "    <tr>\n",
       "      <th>49</th>\n",
       "      <td>1.0</td>\n",
       "      <td>1.0</td>\n",
       "      <td>0.2</td>\n",
       "      <td>0.238248</td>\n",
       "    </tr>\n",
       "    <tr>\n",
       "      <th>...</th>\n",
       "      <td>...</td>\n",
       "      <td>...</td>\n",
       "      <td>...</td>\n",
       "      <td>...</td>\n",
       "    </tr>\n",
       "    <tr>\n",
       "      <th>64</th>\n",
       "      <td>0.4</td>\n",
       "      <td>1.0</td>\n",
       "      <td>0.4</td>\n",
       "      <td>0.198647</td>\n",
       "    </tr>\n",
       "    <tr>\n",
       "      <th>60</th>\n",
       "      <td>0.4</td>\n",
       "      <td>0.0</td>\n",
       "      <td>0.4</td>\n",
       "      <td>0.198647</td>\n",
       "    </tr>\n",
       "    <tr>\n",
       "      <th>61</th>\n",
       "      <td>0.4</td>\n",
       "      <td>0.2</td>\n",
       "      <td>0.4</td>\n",
       "      <td>0.198647</td>\n",
       "    </tr>\n",
       "    <tr>\n",
       "      <th>63</th>\n",
       "      <td>0.4</td>\n",
       "      <td>0.8</td>\n",
       "      <td>0.4</td>\n",
       "      <td>0.198647</td>\n",
       "    </tr>\n",
       "    <tr>\n",
       "      <th>62</th>\n",
       "      <td>0.4</td>\n",
       "      <td>0.4</td>\n",
       "      <td>0.4</td>\n",
       "      <td>0.198647</td>\n",
       "    </tr>\n",
       "  </tbody>\n",
       "</table>\n",
       "<p>125 rows × 4 columns</p>\n",
       "</div>"
      ],
      "text/plain": [
       "      p  min-quality-score  min-match-score     score\n",
       "48  1.0                0.8              0.2  0.248726\n",
       "47  1.0                0.4              0.2  0.248726\n",
       "46  1.0                0.2              0.2  0.248726\n",
       "45  1.0                0.0              0.2  0.248726\n",
       "49  1.0                1.0              0.2  0.238248\n",
       "..  ...                ...              ...       ...\n",
       "64  0.4                1.0              0.4  0.198647\n",
       "60  0.4                0.0              0.4  0.198647\n",
       "61  0.4                0.2              0.4  0.198647\n",
       "63  0.4                0.8              0.4  0.198647\n",
       "62  0.4                0.4              0.4  0.198647\n",
       "\n",
       "[125 rows x 4 columns]"
      ]
     },
     "execution_count": 33,
     "metadata": {},
     "output_type": "execute_result"
    }
   ],
   "source": [
    "lexicon_scores_df = pd.DataFrame(scores, columns=['p', 'min-quality-score', 'min-match-score', 'score'])\n",
    "lexicon_scores_df.sort_values('score', ascending=False)"
   ]
  },
  {
   "cell_type": "code",
   "execution_count": 34,
   "id": "7a52f116-6721-43b2-b90d-db54e62a6dc4",
   "metadata": {},
   "outputs": [],
   "source": [
    "lexicon_scores_df.to_csv('../../data/lexicon_scores_df.csv')"
   ]
  },
  {
   "cell_type": "markdown",
   "id": "fab46227-3adf-4db2-8cb6-29a4c22d1f27",
   "metadata": {},
   "source": [
    "-------------"
   ]
  },
  {
   "cell_type": "markdown",
   "id": "10a13bb7-2b82-4939-9c05-8b846618e784",
   "metadata": {},
   "source": [
    "### Apply on test:"
   ]
  },
  {
   "cell_type": "markdown",
   "id": "6c68d06c-f6e0-4adb-9185-c48bdd36ecf0",
   "metadata": {},
   "source": [
    "Now evaluate the best model found on validation set compared to ChatGPT key points"
   ]
  },
  {
   "cell_type": "code",
   "execution_count": 102,
   "id": "8c2ce764-a6d4-4b7a-b933-3eceed837e02",
   "metadata": {},
   "outputs": [],
   "source": [
    "evaluator = rouge.Rouge(metrics=['rouge-l', 'rouge-w', 'rouge-n'],\n",
    "                           max_n=4,\n",
    "                           limit_length=True,\n",
    "                           length_limit=100,\n",
    "                           length_limit_type='words',\n",
    "                           alpha=0.5, # Default F1_score\n",
    "                           weight_factor=1.2,\n",
    "                           stemming=True)"
   ]
  },
  {
   "cell_type": "code",
   "execution_count": 103,
   "id": "820d6c62-92cc-4632-9229-048590018e80",
   "metadata": {},
   "outputs": [],
   "source": [
    "chat_gpt_key_points = json.load(open('../../data/chatgpt-keypoints.json'))\n",
    "chat_gpt_key_points = {tuple(key.split('-')): value for key, value in chat_gpt_key_points.items()}"
   ]
  },
  {
   "cell_type": "code",
   "execution_count": 104,
   "id": "98e5226c-02a6-42e8-9c82-251f6f7453ac",
   "metadata": {},
   "outputs": [],
   "source": [
    "test_kps = pd.read_csv('../../KPA_2021_shared_task/test_data/key_points_test.csv')"
   ]
  },
  {
   "cell_type": "code",
   "execution_count": 105,
   "id": "eddc56be-79d8-4f5a-8b98-a19545d226cd",
   "metadata": {},
   "outputs": [],
   "source": [
    "test_args = pd.read_pickle('../../data/test_args_with_scores.pkl')"
   ]
  },
  {
   "cell_type": "markdown",
   "id": "008cbbb7-d3a1-4aa7-8567-3241cc2f8d16",
   "metadata": {},
   "source": [
    "#### Adding our approach key-points:"
   ]
  },
  {
   "cell_type": "code",
   "execution_count": 106,
   "id": "711acbdb-e23a-4f28-88c8-4681669e1422",
   "metadata": {},
   "outputs": [],
   "source": [
    "test_topics = test_args.groupby(['topic', 'stance']).agg({\n",
    "    'sents_with_scores': lambda x: set([item for items in x for item in items])\n",
    "}).reset_index()"
   ]
  },
  {
   "cell_type": "code",
   "execution_count": 107,
   "id": "fb211ea7-077f-4229-992b-e60bbe1438c6",
   "metadata": {
    "scrolled": true,
    "tags": []
   },
   "outputs": [],
   "source": [
    "test_topics['ranked_sents'] = test_topics.apply(lambda row: apply_page_rank(row, p=0.4, min_quality_score=0.8, min_match_score=0.2), axis=1)"
   ]
  },
  {
   "cell_type": "code",
   "execution_count": 108,
   "id": "ca8e8250-94fd-4e6f-9b5a-e0427643e24e",
   "metadata": {
    "scrolled": true,
    "tags": []
   },
   "outputs": [],
   "source": [
    "test_topics['our-key-points-w-filtering'] = test_topics.apply(lambda row: filter_ranked_list(row, models, min_match=0.8), axis=1)\n",
    "test_topics['our-key-points-wo-filtering'] = test_topics['ranked_sents'].apply(lambda kp: [x[0] for x in kp[:5]])"
   ]
  },
  {
   "cell_type": "code",
   "execution_count": 109,
   "id": "16405b2b-288d-4246-9310-7cc613f4122f",
   "metadata": {},
   "outputs": [],
   "source": [
    "#adding gt-kps\n",
    "test_topics['gt-kps']= test_topics.apply(lambda row: test_kps[(test_kps.topic==row['topic']) & (test_kps.stance==row['stance'])]['key_point'].tolist(), axis=1)"
   ]
  },
  {
   "cell_type": "code",
   "execution_count": 110,
   "id": "e90532c1-6054-44a7-8586-3d8019260e33",
   "metadata": {},
   "outputs": [
    {
     "data": {
      "text/plain": [
       "[4, 5, 5, 5, 7, 7]"
      ]
     },
     "execution_count": 110,
     "metadata": {},
     "output_type": "execute_result"
    }
   ],
   "source": [
    "[len(x) for x in test_topics['gt-kps'].tolist()]"
   ]
  },
  {
   "cell_type": "markdown",
   "id": "8871ffee-42bd-4ee4-b98a-f7fdc09a2324",
   "metadata": {},
   "source": [
    "#### Adding ChatGPT key-points:"
   ]
  },
  {
   "cell_type": "code",
   "execution_count": 111,
   "id": "d890ff5b-f088-4441-9df3-5f9c3a859fec",
   "metadata": {},
   "outputs": [],
   "source": [
    "import re\n",
    "test_topics['chat-gpt-kp'] = test_topics.apply(lambda row: chat_gpt_key_points[tuple([row['topic'], 'pro' if row['stance'] == 1 else 'con'])][2], axis=1)\n",
    "test_topics['chat-gpt-kp'] = test_topics['chat-gpt-kp'].apply(lambda x : re.findall(r'\\d\\.\\s[^.]+', x))"
   ]
  },
  {
   "cell_type": "markdown",
   "id": "602491ad-e669-4bcb-984c-ca7cfefcc01b",
   "metadata": {},
   "source": [
    "#### Evaluate the two sets of key-points:"
   ]
  },
  {
   "cell_type": "code",
   "execution_count": 112,
   "id": "535b3a63-9a07-4420-a372-697316350225",
   "metadata": {},
   "outputs": [
    {
     "data": {
      "text/plain": [
       "Index(['topic', 'stance', 'sents_with_scores', 'ranked_sents',\n",
       "       'our-key-points-w-filtering', 'our-key-points-wo-filtering', 'gt-kps',\n",
       "       'chat-gpt-kp'],\n",
       "      dtype='object')"
      ]
     },
     "execution_count": 112,
     "metadata": {},
     "output_type": "execute_result"
    }
   ],
   "source": [
    "test_topics.columns"
   ]
  },
  {
   "cell_type": "code",
   "execution_count": 113,
   "id": "d935f824-2275-4b66-af62-7af0db25dc31",
   "metadata": {},
   "outputs": [],
   "source": [
    "scores = []\n",
    "for idx, row in test_topics.iterrows():\n",
    "    chatgpt_score = evaluator.get_scores(row['chat-gpt-kp'], [row['gt-kps']] * len(row['chat-gpt-kp']))\n",
    "    our_score_filtering = evaluator.get_scores(row['our-key-points-w-filtering'], [row['gt-kps']] * len(row['our-key-points-w-filtering']))\n",
    "    our_score_no_filtering = evaluator.get_scores(row['our-key-points-wo-filtering'], [row['gt-kps']] * len(row['our-key-points-wo-filtering']))\n",
    "    scores.append([row['topic'], row['stance'],\n",
    "        round(chatgpt_score['rouge-l']['f'],2), round(chatgpt_score['rouge-2']['f'],2),\n",
    "        round(our_score_no_filtering['rouge-l']['f'],2), round(our_score_no_filtering['rouge-2']['f'],2),\n",
    "        round(our_score_filtering['rouge-l']['f'],2), round(our_score_filtering['rouge-2']['f'],2)])\n"
   ]
  },
  {
   "cell_type": "code",
   "execution_count": 114,
   "id": "f599d517-0fed-49b5-84fc-d3f1f23ceeb3",
   "metadata": {},
   "outputs": [],
   "source": [
    "scores.append(['all', '', \n",
    "               np.mean([s[2] for s in scores]), np.mean([s[3] for s in scores]), np.mean([s[4] for s in scores]), np.mean([s[5] for s in scores]), np.mean([s[6] for s in scores]), np.mean([s[7] for s in scores])])"
   ]
  },
  {
   "cell_type": "code",
   "execution_count": 115,
   "id": "88624fc0-82d0-4a94-96c5-98673bcbc00e",
   "metadata": {},
   "outputs": [
    {
     "name": "stdout",
     "output_type": "stream",
     "text": [
      "topic                                                         stance      chatgpt-r-l    chatgpt-r-2    nofilter-r-l    nofilter-r-2    filter-r-l    filter-r-2\n",
      "------------------------------------------------------------  --------  -------------  -------------  --------------  --------------  ------------  ------------\n",
      "Routine child vaccinations should be mandatory                -1             0.24              0.03         0.24               0.03       0.23         0.02\n",
      "Routine child vaccinations should be mandatory                1              0.26              0.06         0.34               0.11       0.31         0.12\n",
      "Social media platforms should be regulated by the government  -1             0.32              0.11         0.32               0.11       0.33         0.1\n",
      "Social media platforms should be regulated by the government  1              0.3               0.1          0.35               0.06       0.28         0.03\n",
      "The USA is a good country to live in                          -1             0.1               0.01         0.2                0          0.22         0\n",
      "The USA is a good country to live in                          1              0.29              0.02         0.24               0.02       0.26         0.02\n",
      "all                                                                          0.251667          0.055        0.281667           0.055      0.271667     0.0483333\n"
     ]
    }
   ],
   "source": [
    "print(tabulate.tabulate(scores, headers=['topic', 'stance', 'chatgpt-r-l','chatgpt-r-2', 'nofilter-r-l', 'nofilter-r-2', 'filter-r-l', 'filter-r-2']))"
   ]
  },
  {
   "cell_type": "code",
   "execution_count": 118,
   "id": "06279fde-7fff-4129-a5e1-8d766cb74f4b",
   "metadata": {},
   "outputs": [],
   "source": [
    "test_topics.to_csv('../../data/generated_key_points.csv')"
   ]
  },
  {
   "cell_type": "code",
   "execution_count": 6,
   "id": "93a904f9-7872-4a45-a815-13f8793463bf",
   "metadata": {},
   "outputs": [],
   "source": [
    "test_topics = pd.read_csv('../../data/generated_key_points.csv')"
   ]
  },
  {
   "cell_type": "code",
   "execution_count": 7,
   "id": "44256bf2-62ff-454e-b6f2-014baaa386ec",
   "metadata": {
    "scrolled": true,
    "tags": []
   },
   "outputs": [
    {
     "data": {
      "text/html": [
       "<div>\n",
       "<style scoped>\n",
       "    .dataframe tbody tr th:only-of-type {\n",
       "        vertical-align: middle;\n",
       "    }\n",
       "\n",
       "    .dataframe tbody tr th {\n",
       "        vertical-align: top;\n",
       "    }\n",
       "\n",
       "    .dataframe thead th {\n",
       "        text-align: right;\n",
       "    }\n",
       "</style>\n",
       "<table border=\"1\" class=\"dataframe\">\n",
       "  <thead>\n",
       "    <tr style=\"text-align: right;\">\n",
       "      <th></th>\n",
       "      <th>topic</th>\n",
       "      <th>stance</th>\n",
       "      <th>gt-kps</th>\n",
       "      <th>our-key-points-w-filtering</th>\n",
       "      <th>chat-gpt-kp</th>\n",
       "    </tr>\n",
       "  </thead>\n",
       "  <tbody>\n",
       "    <tr>\n",
       "      <th>0</th>\n",
       "      <td>Routine child vaccinations should be mandatory</td>\n",
       "      <td>-1</td>\n",
       "      <td>['Routine child vaccinations, or their side effects, are dangerous', 'Mandatory vaccination contradicts basic rights', 'The parents and not the state should decide', 'Routine child vaccinations are not necessary to keep children healthy']</td>\n",
       "      <td>[\"child vaccinations shouldn't be mandatory because some children can get sick or badly affected by vaccinations.\", 'Vaccines contain heavy metals, they are toxic to children.', 'The child population has a low degree of vulnerability, so vaccination is not urgent yet', 'Vaccines are not mandatory in our country, they constitute a health recommendation, followed by the majority of families.', 'A vaccine that has not been sufficiently tested and without knowledge of side effects is not recommended for children']</td>\n",
       "      <td>['1. Child vaccination should not be mandatory because of potential side effects and unknown risks', '2. Parents should have the right to decide whether to vaccinate their children or not', '3. Vaccines may not be necessary for children as they have stronger immune systems and may not be susceptible to the diseases', '4. Mandatory vaccination goes against personal freedom and violates parental rights', '5. Vaccines can have harmful side effects and may not be effective']</td>\n",
       "    </tr>\n",
       "    <tr>\n",
       "      <th>1</th>\n",
       "      <td>Routine child vaccinations should be mandatory</td>\n",
       "      <td>1</td>\n",
       "      <td>['Routine child vaccinations are effective', 'Child vaccination saves lives', 'Routine child vaccinations are necessary to protect others', 'Routine child vaccinations should be mandatory to prevent virus/disease spreading', 'Children should not suffer from preventable diseases']</td>\n",
       "      <td>['Routine child vaccination should be mandatory so that the general population can thrive by being free of deadly diseases.', 'child vaccinations should be mandatory to provide decent health care to all.', 'child vaccinations should be mandatory so our children will be safe and protected.', 'Each parent must compulsorily vaccinate their children with routine vaccinations, health risks cannot be taken in any way', 'Infant vaccination should be mandatory so we avoid infant mortality']</td>\n",
       "      <td>['1. Routine child vaccinations should be mandatory to prevent the spread of diseases and protect children from deadly illnesses', '2. Mandatory vaccinations ensure the health and safety of the general population, including vulnerable individuals such as infants and the elderly', '3. Vaccinations save lives and prevent the unnecessary suffering caused by preventable diseases', '4. Vaccinations are a crucial public health intervention that has been proven to be safe and effective in preventing diseases', '5. Mandatory vaccinations in children help eradicate diseases and protect future generations from infectious diseases']</td>\n",
       "    </tr>\n",
       "    <tr>\n",
       "      <th>2</th>\n",
       "      <td>Social media platforms should be regulated by the government</td>\n",
       "      <td>-1</td>\n",
       "      <td>['Social media regulation is not effective', 'Social media regulation harms privacy', 'Social media regulation harm freedom of speech and other democratic rights', 'The government should not intervene in the affairs of a private company', 'Social media regulation can lead to political abuses by the government']</td>\n",
       "      <td>['Regulation by government of social media platforms would be detrimental to free speech around the world.', 'Government regulation of social media would be harmful to democracy', 'Social media platforms should not be regulated by the government because it is an invasion of privacy', \"Social media platforms shouldn't be regulated by the government because they can't control everything posted on social media.\", \"Social media platforms mustn't be regulated by the government because some posts can be hidden from the government\"]</td>\n",
       "      <td>['1. Government regulation of social media platforms would be harmful to democracy and freedom of speech', '2. Social media platforms should not be regulated by the government as it would infringe on privacy and freedom of expression', '3. Social media platforms are private companies and should not be controlled by the government', '4. Regulating social media platforms would limit the ability to foster free speech and innovation', '5. Government regulation of social media platforms could lead to abuse of power and invasion of privacy']</td>\n",
       "    </tr>\n",
       "    <tr>\n",
       "      <th>3</th>\n",
       "      <td>Social media platforms should be regulated by the government</td>\n",
       "      <td>1</td>\n",
       "      <td>['Social media regulation protects the younger audiences', 'Social media regulation is necessary to deal with fake news', 'Social media regulation is beneficial to society at large', 'Social media regulation can help to deal with negative content', 'Social media regulation is required to deal with malicious users']</td>\n",
       "      <td>['social platforms must be regulated by governments to avoid hate crimes as well as political disinformation', 'social networks being monitored by the government, would cause less negative impact on society', 'Social media platforms should be regulated by the government as they are a threat to democracy.', \"Social media platforms should be regulated by the government to make sure everyone's posts meet the community standards.\", 'Social networks have become an extremely important means of communication, which results in the government regulating and legislating it.']</td>\n",
       "      <td>['1. Social media platforms should be regulated by the government to prevent the spread of fake news and hoaxes', '2. Regulation is necessary to protect society from crimes, hate speech, and harmful content on social media platforms', '3. Government control of social media can help ensure online security and prevent the dissemination of false information', '4. Regulating social media platforms is important to protect the well-being of individuals, especially children, and to prevent the promotion of dangerous activities and ideologies', '5. The government should regulate social media platforms to maintain control over publications that incite hatred, violence, and']</td>\n",
       "    </tr>\n",
       "    <tr>\n",
       "      <th>4</th>\n",
       "      <td>The USA is a good country to live in</td>\n",
       "      <td>-1</td>\n",
       "      <td>['The US has unfair health and education policies', 'The US has a problematic/divisive political system', 'The US has high taxation/high costs of living', 'The US is xenophobic/racist', 'The US has inequality/poverty', 'The US is unsafe', 'The US has a negative culture']</td>\n",
       "      <td>[\" The poorest in society don't have access to either good health care or an adequate benefits system.\", 'The USA is not a good place to live in because of the wide variance between rich and poor.', 'The USA is not a good place to live, as it still treats women as inferior beings.', 'in the USA the health system is very expensive and discriminates against the poor population', 'The United States  has long been a hotbed of racism against minority cultures']</td>\n",
       "      <td>['1. High crime rates and lack of safety\\n2', '3. High tax rates and expensive cost of living\\n4', '5. Political divisions and social unrest']</td>\n",
       "    </tr>\n",
       "    <tr>\n",
       "      <th>5</th>\n",
       "      <td>The USA is a good country to live in</td>\n",
       "      <td>1</td>\n",
       "      <td>['The US offers great opportunities for individuals', 'The US has freedoms/ democratic rights', 'The US has a great environment/nature', 'The US is a powerful country', 'The US has a good economy/high standard of living', 'The US has a good health and education systems ', 'The US has great people/culture']</td>\n",
       "      <td>['The USA provides many benefits to their citizens that no other country has.', 'The USA is a good country to live in as we have so many freedoms compared to other countries.', 'The USA is a good country to live in because everyone has an equal opportunity to succeed.', 'The USA is a great place to live as everybody is able to prosper.', 'The United States is a land of opportunities where we can develop in different environments']</td>\n",
       "      <td>['1. The United States is a country of opportunities and the American dream', '2. The United States has a stable economy and good job opportunities', '3. The United States offers a high quality of life and good healthcare', '4. The United States is a diverse country with a multicultural society', '5. The United States has strong democratic values and freedoms']</td>\n",
       "    </tr>\n",
       "  </tbody>\n",
       "</table>\n",
       "</div>"
      ],
      "text/plain": [
       "                                                          topic  stance  \\\n",
       "0                Routine child vaccinations should be mandatory      -1   \n",
       "1                Routine child vaccinations should be mandatory       1   \n",
       "2  Social media platforms should be regulated by the government      -1   \n",
       "3  Social media platforms should be regulated by the government       1   \n",
       "4                          The USA is a good country to live in      -1   \n",
       "5                          The USA is a good country to live in       1   \n",
       "\n",
       "                                                                                                                                                                                                                                                                                                                         gt-kps  \\\n",
       "0                                                                                ['Routine child vaccinations, or their side effects, are dangerous', 'Mandatory vaccination contradicts basic rights', 'The parents and not the state should decide', 'Routine child vaccinations are not necessary to keep children healthy']   \n",
       "1                                      ['Routine child vaccinations are effective', 'Child vaccination saves lives', 'Routine child vaccinations are necessary to protect others', 'Routine child vaccinations should be mandatory to prevent virus/disease spreading', 'Children should not suffer from preventable diseases']   \n",
       "2      ['Social media regulation is not effective', 'Social media regulation harms privacy', 'Social media regulation harm freedom of speech and other democratic rights', 'The government should not intervene in the affairs of a private company', 'Social media regulation can lead to political abuses by the government']   \n",
       "3  ['Social media regulation protects the younger audiences', 'Social media regulation is necessary to deal with fake news', 'Social media regulation is beneficial to society at large', 'Social media regulation can help to deal with negative content', 'Social media regulation is required to deal with malicious users']   \n",
       "4                                               ['The US has unfair health and education policies', 'The US has a problematic/divisive political system', 'The US has high taxation/high costs of living', 'The US is xenophobic/racist', 'The US has inequality/poverty', 'The US is unsafe', 'The US has a negative culture']   \n",
       "5           ['The US offers great opportunities for individuals', 'The US has freedoms/ democratic rights', 'The US has a great environment/nature', 'The US is a powerful country', 'The US has a good economy/high standard of living', 'The US has a good health and education systems ', 'The US has great people/culture']   \n",
       "\n",
       "                                                                                                                                                                                                                                                                                                                                                                                                                                                                                                                                                                     our-key-points-w-filtering  \\\n",
       "0                                                           [\"child vaccinations shouldn't be mandatory because some children can get sick or badly affected by vaccinations.\", 'Vaccines contain heavy metals, they are toxic to children.', 'The child population has a low degree of vulnerability, so vaccination is not urgent yet', 'Vaccines are not mandatory in our country, they constitute a health recommendation, followed by the majority of families.', 'A vaccine that has not been sufficiently tested and without knowledge of side effects is not recommended for children']   \n",
       "1                                                                                       ['Routine child vaccination should be mandatory so that the general population can thrive by being free of deadly diseases.', 'child vaccinations should be mandatory to provide decent health care to all.', 'child vaccinations should be mandatory so our children will be safe and protected.', 'Each parent must compulsorily vaccinate their children with routine vaccinations, health risks cannot be taken in any way', 'Infant vaccination should be mandatory so we avoid infant mortality']   \n",
       "2                                           ['Regulation by government of social media platforms would be detrimental to free speech around the world.', 'Government regulation of social media would be harmful to democracy', 'Social media platforms should not be regulated by the government because it is an invasion of privacy', \"Social media platforms shouldn't be regulated by the government because they can't control everything posted on social media.\", \"Social media platforms mustn't be regulated by the government because some posts can be hidden from the government\"]   \n",
       "3  ['social platforms must be regulated by governments to avoid hate crimes as well as political disinformation', 'social networks being monitored by the government, would cause less negative impact on society', 'Social media platforms should be regulated by the government as they are a threat to democracy.', \"Social media platforms should be regulated by the government to make sure everyone's posts meet the community standards.\", 'Social networks have become an extremely important means of communication, which results in the government regulating and legislating it.']   \n",
       "4                                                                                                                  [\" The poorest in society don't have access to either good health care or an adequate benefits system.\", 'The USA is not a good place to live in because of the wide variance between rich and poor.', 'The USA is not a good place to live, as it still treats women as inferior beings.', 'in the USA the health system is very expensive and discriminates against the poor population', 'The United States  has long been a hotbed of racism against minority cultures']   \n",
       "5                                                                                                                                            ['The USA provides many benefits to their citizens that no other country has.', 'The USA is a good country to live in as we have so many freedoms compared to other countries.', 'The USA is a good country to live in because everyone has an equal opportunity to succeed.', 'The USA is a great place to live as everybody is able to prosper.', 'The United States is a land of opportunities where we can develop in different environments']   \n",
       "\n",
       "                                                                                                                                                                                                                                                                                                                                                                                                                                                                                                                                                                                                                                                                                          chat-gpt-kp  \n",
       "0                                                                                                                                                                                                         ['1. Child vaccination should not be mandatory because of potential side effects and unknown risks', '2. Parents should have the right to decide whether to vaccinate their children or not', '3. Vaccines may not be necessary for children as they have stronger immune systems and may not be susceptible to the diseases', '4. Mandatory vaccination goes against personal freedom and violates parental rights', '5. Vaccines can have harmful side effects and may not be effective']  \n",
       "1                                               ['1. Routine child vaccinations should be mandatory to prevent the spread of diseases and protect children from deadly illnesses', '2. Mandatory vaccinations ensure the health and safety of the general population, including vulnerable individuals such as infants and the elderly', '3. Vaccinations save lives and prevent the unnecessary suffering caused by preventable diseases', '4. Vaccinations are a crucial public health intervention that has been proven to be safe and effective in preventing diseases', '5. Mandatory vaccinations in children help eradicate diseases and protect future generations from infectious diseases']  \n",
       "2                                                                                                                                       ['1. Government regulation of social media platforms would be harmful to democracy and freedom of speech', '2. Social media platforms should not be regulated by the government as it would infringe on privacy and freedom of expression', '3. Social media platforms are private companies and should not be controlled by the government', '4. Regulating social media platforms would limit the ability to foster free speech and innovation', '5. Government regulation of social media platforms could lead to abuse of power and invasion of privacy']  \n",
       "3  ['1. Social media platforms should be regulated by the government to prevent the spread of fake news and hoaxes', '2. Regulation is necessary to protect society from crimes, hate speech, and harmful content on social media platforms', '3. Government control of social media can help ensure online security and prevent the dissemination of false information', '4. Regulating social media platforms is important to protect the well-being of individuals, especially children, and to prevent the promotion of dangerous activities and ideologies', '5. The government should regulate social media platforms to maintain control over publications that incite hatred, violence, and']  \n",
       "4                                                                                                                                                                                                                                                                                                                                                                                                                                                                                                                                                      ['1. High crime rates and lack of safety\\n2', '3. High tax rates and expensive cost of living\\n4', '5. Political divisions and social unrest']  \n",
       "5                                                                                                                                                                                                                                                                                                                         ['1. The United States is a country of opportunities and the American dream', '2. The United States has a stable economy and good job opportunities', '3. The United States offers a high quality of life and good healthcare', '4. The United States is a diverse country with a multicultural society', '5. The United States has strong democratic values and freedoms']  "
      ]
     },
     "execution_count": 7,
     "metadata": {},
     "output_type": "execute_result"
    }
   ],
   "source": [
    "test_topics[['topic', 'stance', 'gt-kps', 'our-key-points-w-filtering', 'chat-gpt-kp']].head(n=6)"
   ]
  },
  {
   "cell_type": "code",
   "execution_count": null,
   "id": "494fbe3a-10f0-4671-a498-5c1c9934e435",
   "metadata": {},
   "outputs": [],
   "source": [
    "#Manual assessment of key points\n",
    "# arg - ours-nofilter - ours-filter - chatgpt\n",
    "# 0 -> 3 - 4 - 5\n",
    "# 1 -> 3 - 4 - 5\n",
    "# 2 -> 2 - 4 - 5\n",
    "# 3 -> 2 - 3 - 5\n",
    "# 4 -> 3 - 4 - 3\n",
    "# 5 -> 4 - 4 - 5"
   ]
  }
 ],
 "metadata": {
  "kernelspec": {
   "display_name": "Python 3",
   "language": "python",
   "name": "python3"
  },
  "language_info": {
   "codemirror_mode": {
    "name": "ipython",
    "version": 3
   },
   "file_extension": ".py",
   "mimetype": "text/x-python",
   "name": "python",
   "nbconvert_exporter": "python",
   "pygments_lexer": "ipython3",
   "version": "3.8.10"
  }
 },
 "nbformat": 4,
 "nbformat_minor": 5
}
