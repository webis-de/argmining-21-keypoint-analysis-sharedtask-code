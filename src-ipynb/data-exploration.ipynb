{
 "cells": [
  {
   "cell_type": "code",
   "execution_count": 1,
   "metadata": {},
   "outputs": [],
   "source": [
    "import pandas as pd\n",
    "import numpy as np\n",
    "import json\n",
    "\n",
    "from sklearn.model_selection import train_test_split"
   ]
  },
  {
   "cell_type": "markdown",
   "metadata": {},
   "source": [
    "### Unifying the csv files:"
   ]
  },
  {
   "cell_type": "markdown",
   "metadata": {},
   "source": [
    "#### For Training:"
   ]
  },
  {
   "cell_type": "code",
   "execution_count": 3,
   "metadata": {},
   "outputs": [],
   "source": [
    "kp_df     = pd.read_csv('../KPA_2021_shared_task/kpm_data/key_points_train.csv')\n",
    "arg_df    = pd.read_csv('../KPA_2021_shared_task/kpm_data/arguments_train.csv')\n",
    "labels_df = pd.read_csv('../KPA_2021_shared_task/kpm_data/labels_train.csv')"
   ]
  },
  {
   "cell_type": "code",
   "execution_count": 4,
   "metadata": {},
   "outputs": [],
   "source": [
    "all_df = labels_df.merge(arg_df, how='inner', left_on='arg_id', right_on='arg_id')\n",
    "all_df = all_df.merge(kp_df[['key_point_id', 'key_point']], how='inner', left_on='key_point_id', right_on='key_point_id')"
   ]
  },
  {
   "cell_type": "code",
   "execution_count": 5,
   "metadata": {},
   "outputs": [
    {
     "data": {
      "text/html": [
       "<div>\n",
       "<style scoped>\n",
       "    .dataframe tbody tr th:only-of-type {\n",
       "        vertical-align: middle;\n",
       "    }\n",
       "\n",
       "    .dataframe tbody tr th {\n",
       "        vertical-align: top;\n",
       "    }\n",
       "\n",
       "    .dataframe thead th {\n",
       "        text-align: right;\n",
       "    }\n",
       "</style>\n",
       "<table border=\"1\" class=\"dataframe\">\n",
       "  <thead>\n",
       "    <tr style=\"text-align: right;\">\n",
       "      <th></th>\n",
       "      <th>arg_id</th>\n",
       "      <th>key_point_id</th>\n",
       "      <th>label</th>\n",
       "      <th>argument</th>\n",
       "      <th>topic</th>\n",
       "      <th>stance</th>\n",
       "      <th>key_point</th>\n",
       "    </tr>\n",
       "  </thead>\n",
       "  <tbody>\n",
       "    <tr>\n",
       "      <th>0</th>\n",
       "      <td>arg_0_0</td>\n",
       "      <td>kp_0_0</td>\n",
       "      <td>0</td>\n",
       "      <td>`people reach their limit when it comes to the...</td>\n",
       "      <td>Assisted suicide should be a criminal offence</td>\n",
       "      <td>-1</td>\n",
       "      <td>Assisted suicide gives dignity to the person t...</td>\n",
       "    </tr>\n",
       "    <tr>\n",
       "      <th>1</th>\n",
       "      <td>arg_0_1</td>\n",
       "      <td>kp_0_0</td>\n",
       "      <td>0</td>\n",
       "      <td>A patient should be able to decide when they h...</td>\n",
       "      <td>Assisted suicide should be a criminal offence</td>\n",
       "      <td>-1</td>\n",
       "      <td>Assisted suicide gives dignity to the person t...</td>\n",
       "    </tr>\n",
       "    <tr>\n",
       "      <th>2</th>\n",
       "      <td>arg_0_2</td>\n",
       "      <td>kp_0_0</td>\n",
       "      <td>0</td>\n",
       "      <td>a person has the right to end their suffering ...</td>\n",
       "      <td>Assisted suicide should be a criminal offence</td>\n",
       "      <td>-1</td>\n",
       "      <td>Assisted suicide gives dignity to the person t...</td>\n",
       "    </tr>\n",
       "    <tr>\n",
       "      <th>3</th>\n",
       "      <td>arg_0_4</td>\n",
       "      <td>kp_0_0</td>\n",
       "      <td>0</td>\n",
       "      <td>a person should have the right to be able to c...</td>\n",
       "      <td>Assisted suicide should be a criminal offence</td>\n",
       "      <td>-1</td>\n",
       "      <td>Assisted suicide gives dignity to the person t...</td>\n",
       "    </tr>\n",
       "    <tr>\n",
       "      <th>4</th>\n",
       "      <td>arg_0_5</td>\n",
       "      <td>kp_0_0</td>\n",
       "      <td>0</td>\n",
       "      <td>a person should have the right to die on their...</td>\n",
       "      <td>Assisted suicide should be a criminal offence</td>\n",
       "      <td>-1</td>\n",
       "      <td>Assisted suicide gives dignity to the person t...</td>\n",
       "    </tr>\n",
       "  </tbody>\n",
       "</table>\n",
       "</div>"
      ],
      "text/plain": [
       "    arg_id key_point_id  label  \\\n",
       "0  arg_0_0       kp_0_0      0   \n",
       "1  arg_0_1       kp_0_0      0   \n",
       "2  arg_0_2       kp_0_0      0   \n",
       "3  arg_0_4       kp_0_0      0   \n",
       "4  arg_0_5       kp_0_0      0   \n",
       "\n",
       "                                            argument  \\\n",
       "0  `people reach their limit when it comes to the...   \n",
       "1  A patient should be able to decide when they h...   \n",
       "2  a person has the right to end their suffering ...   \n",
       "3  a person should have the right to be able to c...   \n",
       "4  a person should have the right to die on their...   \n",
       "\n",
       "                                           topic  stance  \\\n",
       "0  Assisted suicide should be a criminal offence      -1   \n",
       "1  Assisted suicide should be a criminal offence      -1   \n",
       "2  Assisted suicide should be a criminal offence      -1   \n",
       "3  Assisted suicide should be a criminal offence      -1   \n",
       "4  Assisted suicide should be a criminal offence      -1   \n",
       "\n",
       "                                           key_point  \n",
       "0  Assisted suicide gives dignity to the person t...  \n",
       "1  Assisted suicide gives dignity to the person t...  \n",
       "2  Assisted suicide gives dignity to the person t...  \n",
       "3  Assisted suicide gives dignity to the person t...  \n",
       "4  Assisted suicide gives dignity to the person t...  "
      ]
     },
     "execution_count": 5,
     "metadata": {},
     "output_type": "execute_result"
    }
   ],
   "source": [
    "all_df.head()"
   ]
  },
  {
   "cell_type": "code",
   "execution_count": 56,
   "metadata": {},
   "outputs": [],
   "source": [
    "all_df.to_csv('../data/training_df.csv')"
   ]
  },
  {
   "cell_type": "markdown",
   "metadata": {},
   "source": [
    "#### For dev:"
   ]
  },
  {
   "cell_type": "code",
   "execution_count": 6,
   "metadata": {},
   "outputs": [],
   "source": [
    "kp_df     = pd.read_csv('../KPA_2021_shared_task/kpm_data/key_points_dev.csv')\n",
    "arg_df    = pd.read_csv('../KPA_2021_shared_task/kpm_data/arguments_dev.csv')\n",
    "labels_df = pd.read_csv('../KPA_2021_shared_task/kpm_data/labels_dev.csv')\n",
    "\n",
    "all_df = labels_df.merge(arg_df, how='inner', left_on='arg_id', right_on='arg_id')\n",
    "all_df = all_df.merge(kp_df[['key_point_id', 'key_point']], how='inner', left_on='key_point_id', right_on='key_point_id')\n",
    "\n",
    "all_df.to_csv('../data/valid_df.csv')"
   ]
  },
  {
   "cell_type": "code",
   "execution_count": 7,
   "metadata": {},
   "outputs": [
    {
     "data": {
      "text/html": [
       "<div>\n",
       "<style scoped>\n",
       "    .dataframe tbody tr th:only-of-type {\n",
       "        vertical-align: middle;\n",
       "    }\n",
       "\n",
       "    .dataframe tbody tr th {\n",
       "        vertical-align: top;\n",
       "    }\n",
       "\n",
       "    .dataframe thead th {\n",
       "        text-align: right;\n",
       "    }\n",
       "</style>\n",
       "<table border=\"1\" class=\"dataframe\">\n",
       "  <thead>\n",
       "    <tr style=\"text-align: right;\">\n",
       "      <th></th>\n",
       "      <th>arg_id</th>\n",
       "      <th>key_point_id</th>\n",
       "      <th>label</th>\n",
       "      <th>argument</th>\n",
       "      <th>topic</th>\n",
       "      <th>stance</th>\n",
       "      <th>key_point</th>\n",
       "    </tr>\n",
       "  </thead>\n",
       "  <tbody>\n",
       "    <tr>\n",
       "      <th>0</th>\n",
       "      <td>arg_4_121</td>\n",
       "      <td>kp_4_5</td>\n",
       "      <td>1</td>\n",
       "      <td>A real education is about giving students the ...</td>\n",
       "      <td>We should abandon the use of school uniform</td>\n",
       "      <td>1</td>\n",
       "      <td>School uniform is harming the student's self e...</td>\n",
       "    </tr>\n",
       "    <tr>\n",
       "      <th>1</th>\n",
       "      <td>arg_4_122</td>\n",
       "      <td>kp_4_5</td>\n",
       "      <td>1</td>\n",
       "      <td>children express themselves through the clothe...</td>\n",
       "      <td>We should abandon the use of school uniform</td>\n",
       "      <td>1</td>\n",
       "      <td>School uniform is harming the student's self e...</td>\n",
       "    </tr>\n",
       "    <tr>\n",
       "      <th>2</th>\n",
       "      <td>arg_4_123</td>\n",
       "      <td>kp_4_5</td>\n",
       "      <td>1</td>\n",
       "      <td>children should be able to dress as they wish,...</td>\n",
       "      <td>We should abandon the use of school uniform</td>\n",
       "      <td>1</td>\n",
       "      <td>School uniform is harming the student's self e...</td>\n",
       "    </tr>\n",
       "    <tr>\n",
       "      <th>3</th>\n",
       "      <td>arg_4_124</td>\n",
       "      <td>kp_4_5</td>\n",
       "      <td>1</td>\n",
       "      <td>children should be allowed to express themselves</td>\n",
       "      <td>We should abandon the use of school uniform</td>\n",
       "      <td>1</td>\n",
       "      <td>School uniform is harming the student's self e...</td>\n",
       "    </tr>\n",
       "    <tr>\n",
       "      <th>4</th>\n",
       "      <td>arg_4_126</td>\n",
       "      <td>kp_4_5</td>\n",
       "      <td>1</td>\n",
       "      <td>freedom of expression extends to the right to ...</td>\n",
       "      <td>We should abandon the use of school uniform</td>\n",
       "      <td>1</td>\n",
       "      <td>School uniform is harming the student's self e...</td>\n",
       "    </tr>\n",
       "  </tbody>\n",
       "</table>\n",
       "</div>"
      ],
      "text/plain": [
       "      arg_id key_point_id  label  \\\n",
       "0  arg_4_121       kp_4_5      1   \n",
       "1  arg_4_122       kp_4_5      1   \n",
       "2  arg_4_123       kp_4_5      1   \n",
       "3  arg_4_124       kp_4_5      1   \n",
       "4  arg_4_126       kp_4_5      1   \n",
       "\n",
       "                                            argument  \\\n",
       "0  A real education is about giving students the ...   \n",
       "1  children express themselves through the clothe...   \n",
       "2  children should be able to dress as they wish,...   \n",
       "3   children should be allowed to express themselves   \n",
       "4  freedom of expression extends to the right to ...   \n",
       "\n",
       "                                         topic  stance  \\\n",
       "0  We should abandon the use of school uniform       1   \n",
       "1  We should abandon the use of school uniform       1   \n",
       "2  We should abandon the use of school uniform       1   \n",
       "3  We should abandon the use of school uniform       1   \n",
       "4  We should abandon the use of school uniform       1   \n",
       "\n",
       "                                           key_point  \n",
       "0  School uniform is harming the student's self e...  \n",
       "1  School uniform is harming the student's self e...  \n",
       "2  School uniform is harming the student's self e...  \n",
       "3  School uniform is harming the student's self e...  \n",
       "4  School uniform is harming the student's self e...  "
      ]
     },
     "execution_count": 7,
     "metadata": {},
     "output_type": "execute_result"
    }
   ],
   "source": [
    "all_df.head()"
   ]
  },
  {
   "cell_type": "code",
   "execution_count": 8,
   "metadata": {},
   "outputs": [
    {
     "data": {
      "text/plain": [
       "3458"
      ]
     },
     "execution_count": 8,
     "metadata": {},
     "output_type": "execute_result"
    }
   ],
   "source": [
    "len(all_df)"
   ]
  },
  {
   "cell_type": "markdown",
   "metadata": {},
   "source": [
    "### Split the develpment:"
   ]
  },
  {
   "cell_type": "code",
   "execution_count": 60,
   "metadata": {},
   "outputs": [],
   "source": [
    "dev_df = pd.read_csv('../data/valid_df.csv')"
   ]
  },
  {
   "cell_type": "code",
   "execution_count": 67,
   "metadata": {},
   "outputs": [],
   "source": [
    "argument_ids = list(set(dev_df.arg_id.tolist()))\n",
    "test_arg_ids, valid_arg_ids = train_test_split(argument_ids, test_size=0.7)"
   ]
  },
  {
   "cell_type": "code",
   "execution_count": 68,
   "metadata": {},
   "outputs": [
    {
     "data": {
      "text/html": [
       "<div>\n",
       "<style scoped>\n",
       "    .dataframe tbody tr th:only-of-type {\n",
       "        vertical-align: middle;\n",
       "    }\n",
       "\n",
       "    .dataframe tbody tr th {\n",
       "        vertical-align: top;\n",
       "    }\n",
       "\n",
       "    .dataframe thead th {\n",
       "        text-align: right;\n",
       "    }\n",
       "</style>\n",
       "<table border=\"1\" class=\"dataframe\">\n",
       "  <thead>\n",
       "    <tr style=\"text-align: right;\">\n",
       "      <th></th>\n",
       "      <th>Unnamed: 0</th>\n",
       "      <th>arg_id</th>\n",
       "      <th>key_point_id</th>\n",
       "      <th>label</th>\n",
       "      <th>argument</th>\n",
       "      <th>topic</th>\n",
       "      <th>stance</th>\n",
       "      <th>key_point</th>\n",
       "    </tr>\n",
       "  </thead>\n",
       "  <tbody>\n",
       "    <tr>\n",
       "      <th>0</th>\n",
       "      <td>0</td>\n",
       "      <td>arg_4_121</td>\n",
       "      <td>kp_4_5</td>\n",
       "      <td>1</td>\n",
       "      <td>A real education is about giving students the ...</td>\n",
       "      <td>We should abandon the use of school uniform</td>\n",
       "      <td>1</td>\n",
       "      <td>School uniform is harming the student's self e...</td>\n",
       "    </tr>\n",
       "    <tr>\n",
       "      <th>1</th>\n",
       "      <td>1</td>\n",
       "      <td>arg_4_122</td>\n",
       "      <td>kp_4_5</td>\n",
       "      <td>1</td>\n",
       "      <td>children express themselves through the clothe...</td>\n",
       "      <td>We should abandon the use of school uniform</td>\n",
       "      <td>1</td>\n",
       "      <td>School uniform is harming the student's self e...</td>\n",
       "    </tr>\n",
       "    <tr>\n",
       "      <th>2</th>\n",
       "      <td>2</td>\n",
       "      <td>arg_4_123</td>\n",
       "      <td>kp_4_5</td>\n",
       "      <td>1</td>\n",
       "      <td>children should be able to dress as they wish,...</td>\n",
       "      <td>We should abandon the use of school uniform</td>\n",
       "      <td>1</td>\n",
       "      <td>School uniform is harming the student's self e...</td>\n",
       "    </tr>\n",
       "    <tr>\n",
       "      <th>3</th>\n",
       "      <td>3</td>\n",
       "      <td>arg_4_124</td>\n",
       "      <td>kp_4_5</td>\n",
       "      <td>1</td>\n",
       "      <td>children should be allowed to express themselves</td>\n",
       "      <td>We should abandon the use of school uniform</td>\n",
       "      <td>1</td>\n",
       "      <td>School uniform is harming the student's self e...</td>\n",
       "    </tr>\n",
       "    <tr>\n",
       "      <th>4</th>\n",
       "      <td>4</td>\n",
       "      <td>arg_4_126</td>\n",
       "      <td>kp_4_5</td>\n",
       "      <td>1</td>\n",
       "      <td>freedom of expression extends to the right to ...</td>\n",
       "      <td>We should abandon the use of school uniform</td>\n",
       "      <td>1</td>\n",
       "      <td>School uniform is harming the student's self e...</td>\n",
       "    </tr>\n",
       "  </tbody>\n",
       "</table>\n",
       "</div>"
      ],
      "text/plain": [
       "   Unnamed: 0     arg_id key_point_id  label  \\\n",
       "0           0  arg_4_121       kp_4_5      1   \n",
       "1           1  arg_4_122       kp_4_5      1   \n",
       "2           2  arg_4_123       kp_4_5      1   \n",
       "3           3  arg_4_124       kp_4_5      1   \n",
       "4           4  arg_4_126       kp_4_5      1   \n",
       "\n",
       "                                            argument  \\\n",
       "0  A real education is about giving students the ...   \n",
       "1  children express themselves through the clothe...   \n",
       "2  children should be able to dress as they wish,...   \n",
       "3   children should be allowed to express themselves   \n",
       "4  freedom of expression extends to the right to ...   \n",
       "\n",
       "                                         topic  stance  \\\n",
       "0  We should abandon the use of school uniform       1   \n",
       "1  We should abandon the use of school uniform       1   \n",
       "2  We should abandon the use of school uniform       1   \n",
       "3  We should abandon the use of school uniform       1   \n",
       "4  We should abandon the use of school uniform       1   \n",
       "\n",
       "                                           key_point  \n",
       "0  School uniform is harming the student's self e...  \n",
       "1  School uniform is harming the student's self e...  \n",
       "2  School uniform is harming the student's self e...  \n",
       "3  School uniform is harming the student's self e...  \n",
       "4  School uniform is harming the student's self e...  "
      ]
     },
     "execution_count": 68,
     "metadata": {},
     "output_type": "execute_result"
    }
   ],
   "source": [
    "dev_df.head()"
   ]
  },
  {
   "cell_type": "code",
   "execution_count": 69,
   "metadata": {},
   "outputs": [
    {
     "data": {
      "text/plain": [
       "279"
      ]
     },
     "execution_count": 69,
     "metadata": {},
     "output_type": "execute_result"
    }
   ],
   "source": [
    "len(test_arg_ids)"
   ]
  },
  {
   "cell_type": "code",
   "execution_count": 70,
   "metadata": {},
   "outputs": [
    {
     "data": {
      "text/plain": [
       "653"
      ]
     },
     "execution_count": 70,
     "metadata": {},
     "output_type": "execute_result"
    }
   ],
   "source": [
    "len(valid_arg_ids)"
   ]
  },
  {
   "cell_type": "code",
   "execution_count": 71,
   "metadata": {},
   "outputs": [],
   "source": [
    "test_df  = dev_df[dev_df.arg_id.isin(test_arg_ids)]\n",
    "valid_df = dev_df[dev_df.arg_id.isin(valid_arg_ids)]"
   ]
  },
  {
   "cell_type": "code",
   "execution_count": 72,
   "metadata": {},
   "outputs": [
    {
     "name": "stdout",
     "output_type": "stream",
     "text": [
      "Valid:\n",
      "2400\n",
      "653\n",
      "36\n"
     ]
    }
   ],
   "source": [
    "print('Valid:')\n",
    "print(len(valid_df))\n",
    "print(valid_df.arg_id.nunique())\n",
    "print(valid_df.key_point_id.nunique())"
   ]
  },
  {
   "cell_type": "code",
   "execution_count": 73,
   "metadata": {},
   "outputs": [
    {
     "name": "stdout",
     "output_type": "stream",
     "text": [
      "Test:\n",
      "1058\n",
      "279\n",
      "36\n"
     ]
    }
   ],
   "source": [
    "print('Test:')\n",
    "print(len(test_df))\n",
    "print(test_df.arg_id.nunique())\n",
    "print(test_df.key_point_id.nunique())"
   ]
  },
  {
   "cell_type": "code",
   "execution_count": 75,
   "metadata": {},
   "outputs": [],
   "source": [
    "valid_df.to_csv('../data/our_valid.csv')\n",
    "test_df.to_csv('../data/our_test.csv')"
   ]
  },
  {
   "cell_type": "markdown",
   "metadata": {},
   "source": [
    "### Matching our split to the format of IBM:"
   ]
  },
  {
   "cell_type": "code",
   "execution_count": 86,
   "metadata": {},
   "outputs": [],
   "source": [
    "valid_key_points_df = valid_df[['key_point_id', 'key_point', 'topic', 'stance']].drop_duplicates()\n",
    "valid_arguments_df = valid_df[['arg_id', 'argument', 'topic', 'stance']].drop_duplicates()\n",
    "valid_labels_df = valid_df[['arg_id', 'key_point_id', 'label']]\n",
    "\n",
    "valid_key_points_df.to_csv('../data/key_points_our_valid.csv')\n",
    "valid_arguments_df.to_csv('../data/arguments_our_valid.csv')\n",
    "valid_labels_df.to_csv('../data/labels_our_valid.csv')"
   ]
  },
  {
   "cell_type": "code",
   "execution_count": 89,
   "metadata": {},
   "outputs": [],
   "source": [
    "test_key_points_df = test_df[['key_point_id', 'key_point', 'topic', 'stance']].drop_duplicates()\n",
    "test_arguments_df = test_df[['arg_id', 'argument', 'topic', 'stance']].drop_duplicates()\n",
    "test_labels_df = test_df[['arg_id', 'key_point_id', 'label']]\n",
    "\n",
    "test_key_points_df.to_csv('../data/key_points_our_test.csv')\n",
    "test_arguments_df.to_csv('../data/arguments_our_test.csv')\n",
    "test_labels_df.to_csv('../data/labels_our_test.csv')"
   ]
  },
  {
   "cell_type": "code",
   "execution_count": 76,
   "metadata": {},
   "outputs": [
    {
     "data": {
      "text/html": [
       "<div>\n",
       "<style scoped>\n",
       "    .dataframe tbody tr th:only-of-type {\n",
       "        vertical-align: middle;\n",
       "    }\n",
       "\n",
       "    .dataframe tbody tr th {\n",
       "        vertical-align: top;\n",
       "    }\n",
       "\n",
       "    .dataframe thead th {\n",
       "        text-align: right;\n",
       "    }\n",
       "</style>\n",
       "<table border=\"1\" class=\"dataframe\">\n",
       "  <thead>\n",
       "    <tr style=\"text-align: right;\">\n",
       "      <th></th>\n",
       "      <th>Unnamed: 0</th>\n",
       "      <th>arg_id</th>\n",
       "      <th>key_point_id</th>\n",
       "      <th>label</th>\n",
       "      <th>argument</th>\n",
       "      <th>topic</th>\n",
       "      <th>stance</th>\n",
       "      <th>key_point</th>\n",
       "    </tr>\n",
       "  </thead>\n",
       "  <tbody>\n",
       "    <tr>\n",
       "      <th>2</th>\n",
       "      <td>2</td>\n",
       "      <td>arg_4_123</td>\n",
       "      <td>kp_4_5</td>\n",
       "      <td>1</td>\n",
       "      <td>children should be able to dress as they wish,...</td>\n",
       "      <td>We should abandon the use of school uniform</td>\n",
       "      <td>1</td>\n",
       "      <td>School uniform is harming the student's self e...</td>\n",
       "    </tr>\n",
       "    <tr>\n",
       "      <th>4</th>\n",
       "      <td>4</td>\n",
       "      <td>arg_4_126</td>\n",
       "      <td>kp_4_5</td>\n",
       "      <td>1</td>\n",
       "      <td>freedom of expression extends to the right to ...</td>\n",
       "      <td>We should abandon the use of school uniform</td>\n",
       "      <td>1</td>\n",
       "      <td>School uniform is harming the student's self e...</td>\n",
       "    </tr>\n",
       "    <tr>\n",
       "      <th>6</th>\n",
       "      <td>6</td>\n",
       "      <td>arg_4_130</td>\n",
       "      <td>kp_4_5</td>\n",
       "      <td>0</td>\n",
       "      <td>Kids having to wear school uniforms is not fai...</td>\n",
       "      <td>We should abandon the use of school uniform</td>\n",
       "      <td>1</td>\n",
       "      <td>School uniform is harming the student's self e...</td>\n",
       "    </tr>\n",
       "    <tr>\n",
       "      <th>9</th>\n",
       "      <td>9</td>\n",
       "      <td>arg_4_133</td>\n",
       "      <td>kp_4_5</td>\n",
       "      <td>0</td>\n",
       "      <td>making kids wear uniforms that are all the sam...</td>\n",
       "      <td>We should abandon the use of school uniform</td>\n",
       "      <td>1</td>\n",
       "      <td>School uniform is harming the student's self e...</td>\n",
       "    </tr>\n",
       "    <tr>\n",
       "      <th>12</th>\n",
       "      <td>12</td>\n",
       "      <td>arg_4_137</td>\n",
       "      <td>kp_4_5</td>\n",
       "      <td>0</td>\n",
       "      <td>Most students do not want school uniforms, the...</td>\n",
       "      <td>We should abandon the use of school uniform</td>\n",
       "      <td>1</td>\n",
       "      <td>School uniform is harming the student's self e...</td>\n",
       "    </tr>\n",
       "  </tbody>\n",
       "</table>\n",
       "</div>"
      ],
      "text/plain": [
       "    Unnamed: 0     arg_id key_point_id  label  \\\n",
       "2            2  arg_4_123       kp_4_5      1   \n",
       "4            4  arg_4_126       kp_4_5      1   \n",
       "6            6  arg_4_130       kp_4_5      0   \n",
       "9            9  arg_4_133       kp_4_5      0   \n",
       "12          12  arg_4_137       kp_4_5      0   \n",
       "\n",
       "                                             argument  \\\n",
       "2   children should be able to dress as they wish,...   \n",
       "4   freedom of expression extends to the right to ...   \n",
       "6   Kids having to wear school uniforms is not fai...   \n",
       "9   making kids wear uniforms that are all the sam...   \n",
       "12  Most students do not want school uniforms, the...   \n",
       "\n",
       "                                          topic  stance  \\\n",
       "2   We should abandon the use of school uniform       1   \n",
       "4   We should abandon the use of school uniform       1   \n",
       "6   We should abandon the use of school uniform       1   \n",
       "9   We should abandon the use of school uniform       1   \n",
       "12  We should abandon the use of school uniform       1   \n",
       "\n",
       "                                            key_point  \n",
       "2   School uniform is harming the student's self e...  \n",
       "4   School uniform is harming the student's self e...  \n",
       "6   School uniform is harming the student's self e...  \n",
       "9   School uniform is harming the student's self e...  \n",
       "12  School uniform is harming the student's self e...  "
      ]
     },
     "execution_count": 76,
     "metadata": {},
     "output_type": "execute_result"
    }
   ],
   "source": [
    "test_df.head()"
   ]
  },
  {
   "cell_type": "code",
   "execution_count": 77,
   "metadata": {},
   "outputs": [
    {
     "data": {
      "text/plain": [
       "Index(['key_point_id', 'key_point', 'topic', 'stance'], dtype='object')"
      ]
     },
     "execution_count": 77,
     "metadata": {},
     "output_type": "execute_result"
    }
   ],
   "source": [
    "kp_df.columns"
   ]
  },
  {
   "cell_type": "code",
   "execution_count": 78,
   "metadata": {},
   "outputs": [
    {
     "data": {
      "text/plain": [
       "Index(['arg_id', 'argument', 'topic', 'stance'], dtype='object')"
      ]
     },
     "execution_count": 78,
     "metadata": {},
     "output_type": "execute_result"
    }
   ],
   "source": [
    "arg_df.columns"
   ]
  },
  {
   "cell_type": "code",
   "execution_count": 85,
   "metadata": {},
   "outputs": [
    {
     "data": {
      "text/plain": [
       "Index(['arg_id', 'key_point_id', 'label'], dtype='object')"
      ]
     },
     "execution_count": 85,
     "metadata": {},
     "output_type": "execute_result"
    }
   ],
   "source": [
    "labels_df.columns"
   ]
  },
  {
   "cell_type": "code",
   "execution_count": null,
   "metadata": {},
   "outputs": [],
   "source": []
  }
 ],
 "metadata": {
  "kernelspec": {
   "display_name": "Python 3",
   "language": "python",
   "name": "python3"
  },
  "language_info": {
   "codemirror_mode": {
    "name": "ipython",
    "version": 3
   },
   "file_extension": ".py",
   "mimetype": "text/x-python",
   "name": "python",
   "nbconvert_exporter": "python",
   "pygments_lexer": "ipython3",
   "version": "3.6.9"
  }
 },
 "nbformat": 4,
 "nbformat_minor": 4
}
