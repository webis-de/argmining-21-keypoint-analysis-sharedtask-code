{
 "cells": [
  {
   "cell_type": "code",
   "execution_count": 1,
   "metadata": {},
   "outputs": [],
   "source": [
    "import json\n",
    "import pandas as pd\n",
    "import numpy as np\n",
    "import matplotlib.pyplot as plt\n",
    "from sklearn.model_selection import GroupKFold\n",
    "pd.set_option('display.max_colwidth', None)"
   ]
  },
  {
   "cell_type": "code",
   "execution_count": 2,
   "metadata": {},
   "outputs": [],
   "source": [
    "%load_ext autoreload"
   ]
  },
  {
   "cell_type": "code",
   "execution_count": 3,
   "metadata": {},
   "outputs": [],
   "source": [
    "%autoreload\n",
    "\n",
    "import sys\n",
    "import os\n",
    "\n",
    "os.environ['CUDA_VISIBLE_DEVICES'] = '0'\n",
    "sys.path.insert(0, \"../src-py\")\n",
    "\n",
    "import sbert_training"
   ]
  },
  {
   "cell_type": "code",
   "execution_count": 4,
   "metadata": {},
   "outputs": [],
   "source": [
    "data_path = '/mnt/ceph/storage/data-in-progress/data-research/arguana/arg-generation'"
   ]
  },
  {
   "cell_type": "code",
   "execution_count": 5,
   "metadata": {},
   "outputs": [],
   "source": [
    "training_df = pd.read_csv('../../data/training_df.csv')\n",
    "valid_df = pd.read_csv('../../data/our_valid.csv')"
   ]
  },
  {
   "cell_type": "code",
   "execution_count": 6,
   "metadata": {},
   "outputs": [],
   "source": [
    "train_kp_df     = pd.read_csv('../../KPA_2021_shared_task/kpm_data/key_points_train.csv')\n",
    "train_arg_df    = pd.read_csv('../../KPA_2021_shared_task/kpm_data/arguments_train.csv')\n",
    "train_labels_df = pd.read_csv('../../KPA_2021_shared_task/kpm_data/labels_train.csv')\n",
    "\n",
    "dev_kp_df     = pd.read_csv('../../KPA_2021_shared_task/kpm_data/key_points_dev.csv')\n",
    "dev_arg_df    = pd.read_csv('../../KPA_2021_shared_task/kpm_data/arguments_dev.csv')\n",
    "dev_labels_df = pd.read_csv('../../KPA_2021_shared_task/kpm_data/labels_dev.csv')\n",
    "\n",
    "full_train_kp_df = pd.concat([train_kp_df,dev_kp_df])\n",
    "full_train_arg_df  = pd.concat([train_arg_df,dev_arg_df])\n",
    "full_train_labels_df = pd.concat([train_labels_df,dev_labels_df])\n",
    "\n",
    "test_kp_df     = pd.read_csv('../../KPA_2021_shared_task/test_data/key_points_test.csv')\n",
    "test_arg_df    = pd.read_csv('../../KPA_2021_shared_task//test_data/arguments_test.csv')"
   ]
  },
  {
   "cell_type": "code",
   "execution_count": 32,
   "metadata": {},
   "outputs": [],
   "source": [
    "train_df = train_labels_df.merge(train_arg_df, how='inner', left_on='arg_id', right_on='arg_id')\n",
    "train_df = train_df.merge(train_kp_df[['key_point_id', 'key_point']], how='inner', left_on='key_point_id', right_on='key_point_id')"
   ]
  },
  {
   "cell_type": "code",
   "execution_count": 33,
   "metadata": {},
   "outputs": [
    {
     "data": {
      "text/plain": [
       "20635"
      ]
     },
     "execution_count": 33,
     "metadata": {},
     "output_type": "execute_result"
    }
   ],
   "source": [
    "len(train_df)"
   ]
  },
  {
   "cell_type": "code",
   "execution_count": 7,
   "metadata": {},
   "outputs": [],
   "source": [
    "all_train_df = full_train_labels_df.merge(full_train_arg_df, how='inner', left_on='arg_id', right_on='arg_id')\n",
    "all_train_df = all_train_df.merge(full_train_kp_df[['key_point_id', 'key_point']], how='inner', left_on='key_point_id', right_on='key_point_id')"
   ]
  },
  {
   "cell_type": "code",
   "execution_count": 8,
   "metadata": {},
   "outputs": [
    {
     "data": {
      "text/html": [
       "<div>\n",
       "<style scoped>\n",
       "    .dataframe tbody tr th:only-of-type {\n",
       "        vertical-align: middle;\n",
       "    }\n",
       "\n",
       "    .dataframe tbody tr th {\n",
       "        vertical-align: top;\n",
       "    }\n",
       "\n",
       "    .dataframe thead th {\n",
       "        text-align: right;\n",
       "    }\n",
       "</style>\n",
       "<table border=\"1\" class=\"dataframe\">\n",
       "  <thead>\n",
       "    <tr style=\"text-align: right;\">\n",
       "      <th></th>\n",
       "      <th>arg_id</th>\n",
       "      <th>key_point_id</th>\n",
       "      <th>label</th>\n",
       "      <th>argument</th>\n",
       "      <th>topic</th>\n",
       "      <th>stance</th>\n",
       "      <th>key_point</th>\n",
       "    </tr>\n",
       "  </thead>\n",
       "  <tbody>\n",
       "    <tr>\n",
       "      <th>0</th>\n",
       "      <td>arg_0_0</td>\n",
       "      <td>kp_0_0</td>\n",
       "      <td>0</td>\n",
       "      <td>`people reach their limit when it comes to their quality of life and should be able to end their suffering. this can be done with little or no suffering by assistance and the person is able to say good bye.</td>\n",
       "      <td>Assisted suicide should be a criminal offence</td>\n",
       "      <td>-1</td>\n",
       "      <td>Assisted suicide gives dignity to the person that wants to commit it</td>\n",
       "    </tr>\n",
       "    <tr>\n",
       "      <th>1</th>\n",
       "      <td>arg_0_1</td>\n",
       "      <td>kp_0_0</td>\n",
       "      <td>0</td>\n",
       "      <td>A patient should be able to decide when they have had enough \"care\".</td>\n",
       "      <td>Assisted suicide should be a criminal offence</td>\n",
       "      <td>-1</td>\n",
       "      <td>Assisted suicide gives dignity to the person that wants to commit it</td>\n",
       "    </tr>\n",
       "    <tr>\n",
       "      <th>2</th>\n",
       "      <td>arg_0_2</td>\n",
       "      <td>kp_0_0</td>\n",
       "      <td>0</td>\n",
       "      <td>a person has the right to end their suffering and if somebody takes pity on them and chooses to help, that person should not be punished.</td>\n",
       "      <td>Assisted suicide should be a criminal offence</td>\n",
       "      <td>-1</td>\n",
       "      <td>Assisted suicide gives dignity to the person that wants to commit it</td>\n",
       "    </tr>\n",
       "    <tr>\n",
       "      <th>3</th>\n",
       "      <td>arg_0_4</td>\n",
       "      <td>kp_0_0</td>\n",
       "      <td>0</td>\n",
       "      <td>a person should have the right to be able to choose if they want to live or die</td>\n",
       "      <td>Assisted suicide should be a criminal offence</td>\n",
       "      <td>-1</td>\n",
       "      <td>Assisted suicide gives dignity to the person that wants to commit it</td>\n",
       "    </tr>\n",
       "    <tr>\n",
       "      <th>4</th>\n",
       "      <td>arg_0_5</td>\n",
       "      <td>kp_0_0</td>\n",
       "      <td>0</td>\n",
       "      <td>a person should have the right to die on their own terms</td>\n",
       "      <td>Assisted suicide should be a criminal offence</td>\n",
       "      <td>-1</td>\n",
       "      <td>Assisted suicide gives dignity to the person that wants to commit it</td>\n",
       "    </tr>\n",
       "  </tbody>\n",
       "</table>\n",
       "</div>"
      ],
      "text/plain": [
       "    arg_id key_point_id  label  \\\n",
       "0  arg_0_0       kp_0_0      0   \n",
       "1  arg_0_1       kp_0_0      0   \n",
       "2  arg_0_2       kp_0_0      0   \n",
       "3  arg_0_4       kp_0_0      0   \n",
       "4  arg_0_5       kp_0_0      0   \n",
       "\n",
       "                                                                                                                                                                                                         argument  \\\n",
       "0  `people reach their limit when it comes to their quality of life and should be able to end their suffering. this can be done with little or no suffering by assistance and the person is able to say good bye.   \n",
       "1                                                                                                                                            A patient should be able to decide when they have had enough \"care\".   \n",
       "2                                                                       a person has the right to end their suffering and if somebody takes pity on them and chooses to help, that person should not be punished.   \n",
       "3                                                                                                                                 a person should have the right to be able to choose if they want to live or die   \n",
       "4                                                                                                                                                        a person should have the right to die on their own terms   \n",
       "\n",
       "                                           topic  stance  \\\n",
       "0  Assisted suicide should be a criminal offence      -1   \n",
       "1  Assisted suicide should be a criminal offence      -1   \n",
       "2  Assisted suicide should be a criminal offence      -1   \n",
       "3  Assisted suicide should be a criminal offence      -1   \n",
       "4  Assisted suicide should be a criminal offence      -1   \n",
       "\n",
       "                                                              key_point  \n",
       "0  Assisted suicide gives dignity to the person that wants to commit it  \n",
       "1  Assisted suicide gives dignity to the person that wants to commit it  \n",
       "2  Assisted suicide gives dignity to the person that wants to commit it  \n",
       "3  Assisted suicide gives dignity to the person that wants to commit it  \n",
       "4  Assisted suicide gives dignity to the person that wants to commit it  "
      ]
     },
     "execution_count": 8,
     "metadata": {},
     "output_type": "execute_result"
    }
   ],
   "source": [
    "all_train_df.head()"
   ]
  },
  {
   "cell_type": "code",
   "execution_count": 9,
   "metadata": {},
   "outputs": [
    {
     "data": {
      "text/html": [
       "<div>\n",
       "<style scoped>\n",
       "    .dataframe tbody tr th:only-of-type {\n",
       "        vertical-align: middle;\n",
       "    }\n",
       "\n",
       "    .dataframe tbody tr th {\n",
       "        vertical-align: top;\n",
       "    }\n",
       "\n",
       "    .dataframe thead th {\n",
       "        text-align: right;\n",
       "    }\n",
       "</style>\n",
       "<table border=\"1\" class=\"dataframe\">\n",
       "  <thead>\n",
       "    <tr style=\"text-align: right;\">\n",
       "      <th></th>\n",
       "      <th>arg_id</th>\n",
       "      <th>argument</th>\n",
       "      <th>topic</th>\n",
       "      <th>stance</th>\n",
       "    </tr>\n",
       "  </thead>\n",
       "  <tbody>\n",
       "    <tr>\n",
       "      <th>0</th>\n",
       "      <td>arg_0_0</td>\n",
       "      <td>Routine child vaccinations isn't mandatory since children don't spread the virus</td>\n",
       "      <td>Routine child vaccinations should be mandatory</td>\n",
       "      <td>-1</td>\n",
       "    </tr>\n",
       "    <tr>\n",
       "      <th>1</th>\n",
       "      <td>arg_0_1</td>\n",
       "      <td>Routine child vaccinations should not be mandatory because children may not bear the side effects of it.</td>\n",
       "      <td>Routine child vaccinations should be mandatory</td>\n",
       "      <td>-1</td>\n",
       "    </tr>\n",
       "    <tr>\n",
       "      <th>2</th>\n",
       "      <td>arg_0_2</td>\n",
       "      <td>Routine child vaccinations should not be necessary as children can't catch the disease</td>\n",
       "      <td>Routine child vaccinations should be mandatory</td>\n",
       "      <td>-1</td>\n",
       "    </tr>\n",
       "    <tr>\n",
       "      <th>3</th>\n",
       "      <td>arg_0_3</td>\n",
       "      <td>A vaccine that has not been sufficiently tested and without knowledge of side effects is not recommended for children</td>\n",
       "      <td>Routine child vaccinations should be mandatory</td>\n",
       "      <td>-1</td>\n",
       "    </tr>\n",
       "    <tr>\n",
       "      <th>4</th>\n",
       "      <td>arg_0_4</td>\n",
       "      <td>As long as vaccines are not free of side effects, it cannot make them mandatory for our children.</td>\n",
       "      <td>Routine child vaccinations should be mandatory</td>\n",
       "      <td>-1</td>\n",
       "    </tr>\n",
       "  </tbody>\n",
       "</table>\n",
       "</div>"
      ],
      "text/plain": [
       "    arg_id  \\\n",
       "0  arg_0_0   \n",
       "1  arg_0_1   \n",
       "2  arg_0_2   \n",
       "3  arg_0_3   \n",
       "4  arg_0_4   \n",
       "\n",
       "                                                                                                                argument  \\\n",
       "0                                       Routine child vaccinations isn't mandatory since children don't spread the virus   \n",
       "1               Routine child vaccinations should not be mandatory because children may not bear the side effects of it.   \n",
       "2                                 Routine child vaccinations should not be necessary as children can't catch the disease   \n",
       "3  A vaccine that has not been sufficiently tested and without knowledge of side effects is not recommended for children   \n",
       "4                      As long as vaccines are not free of side effects, it cannot make them mandatory for our children.   \n",
       "\n",
       "                                            topic  stance  \n",
       "0  Routine child vaccinations should be mandatory      -1  \n",
       "1  Routine child vaccinations should be mandatory      -1  \n",
       "2  Routine child vaccinations should be mandatory      -1  \n",
       "3  Routine child vaccinations should be mandatory      -1  \n",
       "4  Routine child vaccinations should be mandatory      -1  "
      ]
     },
     "execution_count": 9,
     "metadata": {},
     "output_type": "execute_result"
    }
   ],
   "source": [
    "test_arg_df.head()"
   ]
  },
  {
   "cell_type": "code",
   "execution_count": 10,
   "metadata": {},
   "outputs": [
    {
     "data": {
      "text/html": [
       "<div>\n",
       "<style scoped>\n",
       "    .dataframe tbody tr th:only-of-type {\n",
       "        vertical-align: middle;\n",
       "    }\n",
       "\n",
       "    .dataframe tbody tr th {\n",
       "        vertical-align: top;\n",
       "    }\n",
       "\n",
       "    .dataframe thead th {\n",
       "        text-align: right;\n",
       "    }\n",
       "</style>\n",
       "<table border=\"1\" class=\"dataframe\">\n",
       "  <thead>\n",
       "    <tr style=\"text-align: right;\">\n",
       "      <th></th>\n",
       "      <th>key_point_id</th>\n",
       "      <th>key_point</th>\n",
       "      <th>topic</th>\n",
       "      <th>stance</th>\n",
       "    </tr>\n",
       "  </thead>\n",
       "  <tbody>\n",
       "    <tr>\n",
       "      <th>0</th>\n",
       "      <td>kp_0_0</td>\n",
       "      <td>Routine child vaccinations, or their side effects, are dangerous</td>\n",
       "      <td>Routine child vaccinations should be mandatory</td>\n",
       "      <td>-1</td>\n",
       "    </tr>\n",
       "    <tr>\n",
       "      <th>1</th>\n",
       "      <td>kp_0_1</td>\n",
       "      <td>Mandatory vaccination contradicts basic rights</td>\n",
       "      <td>Routine child vaccinations should be mandatory</td>\n",
       "      <td>-1</td>\n",
       "    </tr>\n",
       "    <tr>\n",
       "      <th>2</th>\n",
       "      <td>kp_0_2</td>\n",
       "      <td>The parents and not the state should decide</td>\n",
       "      <td>Routine child vaccinations should be mandatory</td>\n",
       "      <td>-1</td>\n",
       "    </tr>\n",
       "    <tr>\n",
       "      <th>3</th>\n",
       "      <td>kp_0_3</td>\n",
       "      <td>Routine child vaccinations are not necessary to keep children healthy</td>\n",
       "      <td>Routine child vaccinations should be mandatory</td>\n",
       "      <td>-1</td>\n",
       "    </tr>\n",
       "    <tr>\n",
       "      <th>4</th>\n",
       "      <td>kp_0_4</td>\n",
       "      <td>Routine child vaccinations are effective</td>\n",
       "      <td>Routine child vaccinations should be mandatory</td>\n",
       "      <td>1</td>\n",
       "    </tr>\n",
       "  </tbody>\n",
       "</table>\n",
       "</div>"
      ],
      "text/plain": [
       "  key_point_id  \\\n",
       "0       kp_0_0   \n",
       "1       kp_0_1   \n",
       "2       kp_0_2   \n",
       "3       kp_0_3   \n",
       "4       kp_0_4   \n",
       "\n",
       "                                                               key_point  \\\n",
       "0       Routine child vaccinations, or their side effects, are dangerous   \n",
       "1                         Mandatory vaccination contradicts basic rights   \n",
       "2                            The parents and not the state should decide   \n",
       "3  Routine child vaccinations are not necessary to keep children healthy   \n",
       "4                               Routine child vaccinations are effective   \n",
       "\n",
       "                                            topic  stance  \n",
       "0  Routine child vaccinations should be mandatory      -1  \n",
       "1  Routine child vaccinations should be mandatory      -1  \n",
       "2  Routine child vaccinations should be mandatory      -1  \n",
       "3  Routine child vaccinations should be mandatory      -1  \n",
       "4  Routine child vaccinations should be mandatory       1  "
      ]
     },
     "execution_count": 10,
     "metadata": {},
     "output_type": "execute_result"
    }
   ],
   "source": [
    "test_kp_df.head()"
   ]
  },
  {
   "cell_type": "code",
   "execution_count": 11,
   "metadata": {},
   "outputs": [],
   "source": [
    "def match_argument_with_keypoints(result, kp_dict, arg_dict):\n",
    "    \n",
    "    for arg, arg_embedding in arg_dict.items():\n",
    "        result[arg] = {}\n",
    "        for kp, kp_embedding in kp_dict.items():\n",
    "            result[arg][kp] = util.pytorch_cos_sim(arg_embedding, kp_embedding).item()\n",
    "        \n",
    "        #Applying softmax\n",
    "        kp_scores = list(result[arg].items())\n",
    "        kp_ids, kp_scores = zip(*kp_scores)\n",
    "        #print(kp_ids)\n",
    "        #print(kp_scores)\n",
    "        #kp_scores = torch.softmax(torch.Tensor(kp_scores), 0).tolist()\n",
    "        #print(kp_scores)\n",
    "        result[arg] = {kp_id:score for kp_id, score in zip(kp_ids, kp_scores)}\n",
    "        \n",
    "\n",
    "    return result\n",
    "\n",
    "def predict(model, argument_df, keypoint_df, output_path, append_topic=False):\n",
    "    argument_keypoints = {}\n",
    "    for topic in argument_df.topic.unique():\n",
    "        for stance in [-1, 1]:\n",
    "            topic_keypoints_ids = keypoint_df[(keypoint_df.topic==topic) & (keypoint_df.stance==stance)]['key_point_id'].tolist()\n",
    "            topic_keypoints = keypoint_df[(keypoint_df.topic==topic) & (keypoint_df.stance==stance)]['key_point'].tolist()\n",
    "            if append_topic:\n",
    "                topic_keypoints = [topic + ' <SEP> ' + x for x in topic_keypoints]\n",
    "                \n",
    "            topic_keypoints_embeddings = model.encode(topic_keypoints)\n",
    "            topic_kp_embed = dict(zip(topic_keypoints_ids, topic_keypoints_embeddings))\n",
    "\n",
    "            topic_arguments_ids = argument_df[(argument_df.topic==topic) & (argument_df.stance==stance)]['arg_id'].tolist()\n",
    "            topic_arguments = argument_df[(argument_df.topic==topic) & (argument_df.stance==stance)]['argument'].tolist()\n",
    "            topic_arguments_embeddings = model.encode(topic_arguments)\n",
    "            topic_arg_embed= dict(zip(topic_arguments_ids, topic_arguments_embeddings))\n",
    "\n",
    "            argument_keypoints = match_argument_with_keypoints(argument_keypoints, topic_kp_embed, topic_arg_embed)\n",
    "    \n",
    "    json.dump(argument_keypoints, open(output_path, 'w'))\n",
    "    \n",
    "    return argument_keypoints\n",
    "\n",
    "def predict_and_evaluate(argument_df, keypoint_df, gold_data_dir, subset_name):\n",
    "    pred_df = {}\n",
    "    for model_path in models_list:\n",
    "        append_topic= 'topic_added' in model_path\n",
    "        #Predict\n",
    "        model = SentenceTransformer(model_path)\n",
    "        model_name = model_path.split('/')[-1]\n",
    "        predictions_file = pred_output_path+model_name+ '-' + subset_name + '-preds.json'\n",
    "        json_preds = predict(model, argument_df, keypoint_df, predictions_file, append_topic)\n",
    "\n",
    "        #Evaluate\n",
    "        arg_df, kp_df, labels_df = load_kpm_data(gold_data_dir, subset=subset_name)\n",
    "        merged_df = get_predictions(predictions_file, labels_df, arg_df)\n",
    "        print('Evaluating {}:'.format(model_name))\n",
    "        evaluate_predictions(merged_df)\n",
    "        \n",
    "        pred_df[model_name] = merged_df\n",
    "\n",
    "    return pred_df\n",
    "\n",
    "def predict_models(argument_df, keypoint_df, gold_data_dir, subset_name):\n",
    "    pred_df = {}\n",
    "    for model_path in models_list:\n",
    "        append_topic= 'topic_added' in model_path\n",
    "        #Predict\n",
    "        model = SentenceTransformer(model_path)\n",
    "        model_name = model_path.split('/')[-1]\n",
    "        predictions_file = pred_output_path+model_name+ '-' + subset_name + '-preds.json'\n",
    "        json_preds = predict(model, argument_df, keypoint_df, predictions_file, append_topic)\n",
    "\n",
    "        #Evaluate\n",
    "        arg_df, kp_df, labels_df = load_kpm_data(gold_data_dir, subset=subset_name)\n",
    "        merged_df = get_predictions(predictions_file, labels_df, arg_df)\n",
    "        #print('Evaluating {}:'.format(model_name))\n",
    "        #evaluate_predictions(merged_df)\n",
    "        \n",
    "        pred_df[model_name] = merged_df\n",
    "\n",
    "    return pred_df"
   ]
  },
  {
   "cell_type": "code",
   "execution_count": 36,
   "metadata": {
    "scrolled": true,
    "tags": []
   },
   "outputs": [],
   "source": [
    "def ensamble_training(all_train_df, output_path):\n",
    "    skf = GroupKFold(n_splits=5)\n",
    "    fold = -1\n",
    "    for train_index, test_index in skf.split(all_train_df, groups=all_train_df.topic):\n",
    "        fold += 1\n",
    "        tmp_train_df, tmp_test_df = all_train_df.iloc[train_index], all_train_df.iloc[test_index]\n",
    "\n",
    "        df = tmp_train_df.copy()\n",
    "        df['keypoint'] = df.apply(lambda x: x['topic'] + ' <SEP> ' + x['key_point'], axis=1)\n",
    "        df['label'] = df.label.apply(lambda x: int(x))\n",
    "        df[['argument', 'keypoint', 'label']].to_csv(data_path + '/keypoint-analysis-sharedtask/siamese-data/training_df_contrastive-fold-{}.csv'.format(fold))\n",
    "\n",
    "        df = tmp_test_df.copy()\n",
    "        df['keypoint'] = df.apply(lambda x: x['topic'] + ' <SEP> ' + x['key_point'], axis=1)\n",
    "        df['label'] = df.label.apply(lambda x: int(x))\n",
    "        df[['argument', 'keypoint', 'label']].to_csv(data_path + '/keypoint-analysis-sharedtask/siamese-data/valid_df_contrastive-fold-{}.csv'.format(fold))\n",
    "\n",
    "        tmp_test_key_points_df = tmp_test_df[['key_point_id', 'key_point', 'topic', 'stance']].drop_duplicates()\n",
    "        tmp_test_arguments_df = tmp_test_df[['arg_id', 'argument', 'topic', 'stance']].drop_duplicates()\n",
    "        tmp_test_labels_df = tmp_test_df[['arg_id', 'key_point_id', 'label']]\n",
    "        tmp_test_key_points_df.to_csv('../../data/cross-validation/key_points_test.csv')\n",
    "        tmp_test_arguments_df.to_csv('../../data/cross-validation/arguments_test.csv')\n",
    "        tmp_test_labels_df.to_csv('../../data/cross-validation/labels_test.csv')\n",
    "\n",
    "\n",
    "        sbert_training.train_model(data_path + '/keypoint-analysis-sharedtask/siamese-data/',\n",
    "                                '../../data/cross-validation/',\n",
    "                                'test',\n",
    "                                output_path,\n",
    "                                'roberta-large',\n",
    "                                model_suffix='final-model-fold-{}'.format(fold), \n",
    "                                data_file_suffix='contrastive-fold-{}'.format(fold), \n",
    "                                num_epochs=10, max_seq_length=70, add_special_token=True, train_batch_size=32, loss='ContrastiveLoss')"
   ]
  },
  {
   "cell_type": "code",
   "execution_count": 13,
   "metadata": {},
   "outputs": [],
   "source": [
    "#ensamble_training(all_train_df, data_path + '/keypoint-analysis-sharedtask/final-experiment/') #train on training and dev df"
   ]
  },
  {
   "cell_type": "code",
   "execution_count": null,
   "metadata": {
    "scrolled": true,
    "tags": []
   },
   "outputs": [
    {
     "name": "stderr",
     "output_type": "stream",
     "text": [
      "Some weights of the model checkpoint at roberta-large were not used when initializing RobertaModel: ['lm_head.bias', 'lm_head.layer_norm.weight', 'lm_head.dense.bias', 'lm_head.dense.weight', 'lm_head.layer_norm.bias', 'lm_head.decoder.weight']\n",
      "- This IS expected if you are initializing RobertaModel from the checkpoint of a model trained on another task or with another architecture (e.g. initializing a BertForSequenceClassification model from a BertForPreTraining model).\n",
      "- This IS NOT expected if you are initializing RobertaModel from the checkpoint of a model that you expect to be exactly identical (initializing a BertForSequenceClassification model from a BertForSequenceClassification model).\n"
     ]
    },
    {
     "name": "stdout",
     "output_type": "stream",
     "text": [
      "2023-07-05 15:10:58 - Use pytorch device: cuda\n",
      "2023-07-05 15:10:58 - Read Triplet train dataset\n"
     ]
    },
    {
     "data": {
      "application/vnd.jupyter.widget-view+json": {
       "model_id": "8421626593e94cb686f82b9fea17d11d",
       "version_major": 2,
       "version_minor": 0
      },
      "text/plain": [
       "Epoch:   0%|          | 0/10 [00:00<?, ?it/s]"
      ]
     },
     "metadata": {},
     "output_type": "display_data"
    },
    {
     "data": {
      "application/vnd.jupyter.widget-view+json": {
       "model_id": "c9a51fc0940748d4bc618cb95a7db329",
       "version_major": 2,
       "version_minor": 0
      },
      "text/plain": [
       "Iteration:   0%|          | 0/509 [00:00<?, ?it/s]"
      ]
     },
     "metadata": {},
     "output_type": "display_data"
    },
    {
     "name": "stdout",
     "output_type": "stream",
     "text": [
      "2023-07-05 15:13:20 - TripletEvaluator: Evaluating the model on dev dataset in epoch 0 after 500 steps:\n",
      "mAP strict= 0.813615255802711 ; mAP relaxed = 0.909790865791593\n",
      "2023-07-05 15:13:21 - mAP strict:   \t81.36\n",
      "2023-07-05 15:13:21 - mAP relaxed:   \t90.98\n",
      "2023-07-05 15:13:21 - Save model to /mnt/ceph/storage/data-in-progress/data-research/arguana/arg-generation/keypoint-analysis-sharedtask/final-experiment-on-training-data/roberta-large-final-model-fold-0-2023-07-05_15-10-46\n",
      "2023-07-05 15:13:23 - TripletEvaluator: Evaluating the model on dev dataset after epoch 0:\n",
      "mAP strict= 0.803426516935683 ; mAP relaxed = 0.9220588871127353\n",
      "2023-07-05 15:13:25 - mAP strict:   \t80.34\n",
      "2023-07-05 15:13:25 - mAP relaxed:   \t92.21\n",
      "2023-07-05 15:13:25 - Save model to /mnt/ceph/storage/data-in-progress/data-research/arguana/arg-generation/keypoint-analysis-sharedtask/final-experiment-on-training-data/roberta-large-final-model-fold-0-2023-07-05_15-10-46\n"
     ]
    },
    {
     "data": {
      "application/vnd.jupyter.widget-view+json": {
       "model_id": "5203361cdf12457e865ff17804cad4f6",
       "version_major": 2,
       "version_minor": 0
      },
      "text/plain": [
       "Iteration:   0%|          | 0/509 [00:00<?, ?it/s]"
      ]
     },
     "metadata": {},
     "output_type": "display_data"
    },
    {
     "name": "stdout",
     "output_type": "stream",
     "text": [
      "2023-07-05 15:14:36 - TripletEvaluator: Evaluating the model on dev dataset in epoch 1 after 500 steps:\n",
      "mAP strict= 0.8839568800525848 ; mAP relaxed = 0.9518063634749213\n",
      "2023-07-05 15:14:38 - mAP strict:   \t88.40\n",
      "2023-07-05 15:14:38 - mAP relaxed:   \t95.18\n",
      "2023-07-05 15:14:38 - Save model to /mnt/ceph/storage/data-in-progress/data-research/arguana/arg-generation/keypoint-analysis-sharedtask/final-experiment-on-training-data/roberta-large-final-model-fold-0-2023-07-05_15-10-46\n",
      "2023-07-05 15:14:40 - TripletEvaluator: Evaluating the model on dev dataset after epoch 1:\n",
      "mAP strict= 0.8920986973698117 ; mAP relaxed = 0.959683400592996\n",
      "2023-07-05 15:14:41 - mAP strict:   \t89.21\n",
      "2023-07-05 15:14:41 - mAP relaxed:   \t95.97\n",
      "2023-07-05 15:14:41 - Save model to /mnt/ceph/storage/data-in-progress/data-research/arguana/arg-generation/keypoint-analysis-sharedtask/final-experiment-on-training-data/roberta-large-final-model-fold-0-2023-07-05_15-10-46\n"
     ]
    },
    {
     "data": {
      "application/vnd.jupyter.widget-view+json": {
       "model_id": "e4ea3e8fc5d14e4994e230cce8505e47",
       "version_major": 2,
       "version_minor": 0
      },
      "text/plain": [
       "Iteration:   0%|          | 0/509 [00:00<?, ?it/s]"
      ]
     },
     "metadata": {},
     "output_type": "display_data"
    },
    {
     "name": "stdout",
     "output_type": "stream",
     "text": [
      "2023-07-05 15:15:53 - TripletEvaluator: Evaluating the model on dev dataset in epoch 2 after 500 steps:\n",
      "mAP strict= 0.9102662215154933 ; mAP relaxed = 0.9664335333899432\n",
      "2023-07-05 15:15:54 - mAP strict:   \t91.03\n",
      "2023-07-05 15:15:54 - mAP relaxed:   \t96.64\n",
      "2023-07-05 15:15:54 - Save model to /mnt/ceph/storage/data-in-progress/data-research/arguana/arg-generation/keypoint-analysis-sharedtask/final-experiment-on-training-data/roberta-large-final-model-fold-0-2023-07-05_15-10-46\n",
      "2023-07-05 15:15:57 - TripletEvaluator: Evaluating the model on dev dataset after epoch 2:\n",
      "mAP strict= 0.9079224545216688 ; mAP relaxed = 0.9679078947221074\n",
      "2023-07-05 15:15:58 - mAP strict:   \t90.79\n",
      "2023-07-05 15:15:58 - mAP relaxed:   \t96.79\n"
     ]
    },
    {
     "data": {
      "application/vnd.jupyter.widget-view+json": {
       "model_id": "011f15d95ab14aaa86c4ed52408c1f00",
       "version_major": 2,
       "version_minor": 0
      },
      "text/plain": [
       "Iteration:   0%|          | 0/509 [00:00<?, ?it/s]"
      ]
     },
     "metadata": {},
     "output_type": "display_data"
    },
    {
     "name": "stdout",
     "output_type": "stream",
     "text": [
      "2023-07-05 15:17:09 - TripletEvaluator: Evaluating the model on dev dataset in epoch 3 after 500 steps:\n",
      "mAP strict= 0.8963748408878406 ; mAP relaxed = 0.9531792403111503\n",
      "2023-07-05 15:17:10 - mAP strict:   \t89.64\n",
      "2023-07-05 15:17:10 - mAP relaxed:   \t95.32\n",
      "2023-07-05 15:17:11 - TripletEvaluator: Evaluating the model on dev dataset after epoch 3:\n",
      "mAP strict= 0.9011174844208716 ; mAP relaxed = 0.9539262564015809\n",
      "2023-07-05 15:17:12 - mAP strict:   \t90.11\n",
      "2023-07-05 15:17:12 - mAP relaxed:   \t95.39\n"
     ]
    },
    {
     "data": {
      "application/vnd.jupyter.widget-view+json": {
       "model_id": "2f1a5fa31b7f49f99c510fb76a9661e3",
       "version_major": 2,
       "version_minor": 0
      },
      "text/plain": [
       "Iteration:   0%|          | 0/509 [00:00<?, ?it/s]"
      ]
     },
     "metadata": {},
     "output_type": "display_data"
    },
    {
     "name": "stdout",
     "output_type": "stream",
     "text": [
      "2023-07-05 15:18:23 - TripletEvaluator: Evaluating the model on dev dataset in epoch 4 after 500 steps:\n",
      "mAP strict= 0.9111058492649764 ; mAP relaxed = 0.9637008379471735\n",
      "2023-07-05 15:18:24 - mAP strict:   \t91.11\n",
      "2023-07-05 15:18:24 - mAP relaxed:   \t96.37\n",
      "2023-07-05 15:18:25 - TripletEvaluator: Evaluating the model on dev dataset after epoch 4:\n",
      "mAP strict= 0.9119080324362787 ; mAP relaxed = 0.9606603954118315\n",
      "2023-07-05 15:18:26 - mAP strict:   \t91.19\n",
      "2023-07-05 15:18:26 - mAP relaxed:   \t96.07\n"
     ]
    },
    {
     "data": {
      "application/vnd.jupyter.widget-view+json": {
       "model_id": "a31a4825138b4d61a86c0bb8651a11eb",
       "version_major": 2,
       "version_minor": 0
      },
      "text/plain": [
       "Iteration:   0%|          | 0/509 [00:00<?, ?it/s]"
      ]
     },
     "metadata": {},
     "output_type": "display_data"
    },
    {
     "name": "stdout",
     "output_type": "stream",
     "text": [
      "2023-07-05 15:19:37 - TripletEvaluator: Evaluating the model on dev dataset in epoch 5 after 500 steps:\n",
      "mAP strict= 0.9058037598134792 ; mAP relaxed = 0.9636197220574767\n",
      "2023-07-05 15:19:38 - mAP strict:   \t90.58\n",
      "2023-07-05 15:19:38 - mAP relaxed:   \t96.36\n",
      "2023-07-05 15:19:39 - TripletEvaluator: Evaluating the model on dev dataset after epoch 5:\n",
      "mAP strict= 0.9116562688135061 ; mAP relaxed = 0.9682348142226977\n",
      "2023-07-05 15:19:40 - mAP strict:   \t91.17\n",
      "2023-07-05 15:19:40 - mAP relaxed:   \t96.82\n",
      "2023-07-05 15:19:40 - Save model to /mnt/ceph/storage/data-in-progress/data-research/arguana/arg-generation/keypoint-analysis-sharedtask/final-experiment-on-training-data/roberta-large-final-model-fold-0-2023-07-05_15-10-46\n"
     ]
    },
    {
     "data": {
      "application/vnd.jupyter.widget-view+json": {
       "model_id": "933c924510904461b45251ca19794b33",
       "version_major": 2,
       "version_minor": 0
      },
      "text/plain": [
       "Iteration:   0%|          | 0/509 [00:00<?, ?it/s]"
      ]
     },
     "metadata": {},
     "output_type": "display_data"
    },
    {
     "name": "stdout",
     "output_type": "stream",
     "text": [
      "2023-07-05 15:20:52 - TripletEvaluator: Evaluating the model on dev dataset in epoch 6 after 500 steps:\n",
      "mAP strict= 0.9012131803602553 ; mAP relaxed = 0.9659202605199448\n",
      "2023-07-05 15:20:53 - mAP strict:   \t90.12\n",
      "2023-07-05 15:20:53 - mAP relaxed:   \t96.59\n",
      "2023-07-05 15:20:54 - TripletEvaluator: Evaluating the model on dev dataset after epoch 6:\n",
      "mAP strict= 0.9024928803456639 ; mAP relaxed = 0.9664991927589555\n",
      "2023-07-05 15:20:55 - mAP strict:   \t90.25\n",
      "2023-07-05 15:20:55 - mAP relaxed:   \t96.65\n"
     ]
    },
    {
     "data": {
      "application/vnd.jupyter.widget-view+json": {
       "model_id": "c2378820524d4163b262249d25456124",
       "version_major": 2,
       "version_minor": 0
      },
      "text/plain": [
       "Iteration:   0%|          | 0/509 [00:00<?, ?it/s]"
      ]
     },
     "metadata": {},
     "output_type": "display_data"
    },
    {
     "name": "stdout",
     "output_type": "stream",
     "text": [
      "2023-07-05 15:22:06 - TripletEvaluator: Evaluating the model on dev dataset in epoch 7 after 500 steps:\n",
      "mAP strict= 0.9207939225418749 ; mAP relaxed = 0.9730516828383852\n",
      "2023-07-05 15:22:07 - mAP strict:   \t92.08\n",
      "2023-07-05 15:22:07 - mAP relaxed:   \t97.31\n",
      "2023-07-05 15:22:07 - Save model to /mnt/ceph/storage/data-in-progress/data-research/arguana/arg-generation/keypoint-analysis-sharedtask/final-experiment-on-training-data/roberta-large-final-model-fold-0-2023-07-05_15-10-46\n",
      "2023-07-05 15:22:09 - TripletEvaluator: Evaluating the model on dev dataset after epoch 7:\n",
      "mAP strict= 0.9193774410861497 ; mAP relaxed = 0.9731269969287369\n",
      "2023-07-05 15:22:11 - mAP strict:   \t91.94\n",
      "2023-07-05 15:22:11 - mAP relaxed:   \t97.31\n"
     ]
    },
    {
     "data": {
      "application/vnd.jupyter.widget-view+json": {
       "model_id": "c7370ddb22aa4daf9484771b4eab020d",
       "version_major": 2,
       "version_minor": 0
      },
      "text/plain": [
       "Iteration:   0%|          | 0/509 [00:00<?, ?it/s]"
      ]
     },
     "metadata": {},
     "output_type": "display_data"
    },
    {
     "name": "stdout",
     "output_type": "stream",
     "text": [
      "2023-07-05 15:23:21 - TripletEvaluator: Evaluating the model on dev dataset in epoch 8 after 500 steps:\n",
      "mAP strict= 0.9173016133334644 ; mAP relaxed = 0.9732520261023871\n",
      "2023-07-05 15:23:22 - mAP strict:   \t91.73\n",
      "2023-07-05 15:23:22 - mAP relaxed:   \t97.33\n",
      "2023-07-05 15:23:23 - TripletEvaluator: Evaluating the model on dev dataset after epoch 8:\n",
      "mAP strict= 0.9170725680261181 ; mAP relaxed = 0.9730804154005035\n",
      "2023-07-05 15:23:25 - mAP strict:   \t91.71\n",
      "2023-07-05 15:23:25 - mAP relaxed:   \t97.31\n"
     ]
    },
    {
     "data": {
      "application/vnd.jupyter.widget-view+json": {
       "model_id": "04979daf56fe4a428ed5f95f0c15dc73",
       "version_major": 2,
       "version_minor": 0
      },
      "text/plain": [
       "Iteration:   0%|          | 0/509 [00:00<?, ?it/s]"
      ]
     },
     "metadata": {},
     "output_type": "display_data"
    },
    {
     "name": "stdout",
     "output_type": "stream",
     "text": [
      "2023-07-05 15:24:35 - TripletEvaluator: Evaluating the model on dev dataset in epoch 9 after 500 steps:\n",
      "mAP strict= 0.9197727316639425 ; mAP relaxed = 0.9754032208752408\n",
      "2023-07-05 15:24:36 - mAP strict:   \t91.98\n",
      "2023-07-05 15:24:36 - mAP relaxed:   \t97.54\n",
      "2023-07-05 15:24:36 - Save model to /mnt/ceph/storage/data-in-progress/data-research/arguana/arg-generation/keypoint-analysis-sharedtask/final-experiment-on-training-data/roberta-large-final-model-fold-0-2023-07-05_15-10-46\n",
      "2023-07-05 15:24:39 - TripletEvaluator: Evaluating the model on dev dataset after epoch 9:\n",
      "mAP strict= 0.9198276172545423 ; mAP relaxed = 0.9754032208752408\n",
      "2023-07-05 15:24:40 - mAP strict:   \t91.98\n",
      "2023-07-05 15:24:40 - mAP relaxed:   \t97.54\n",
      "2023-07-05 15:24:40 - Save model to /mnt/ceph/storage/data-in-progress/data-research/arguana/arg-generation/keypoint-analysis-sharedtask/final-experiment-on-training-data/roberta-large-final-model-fold-0-2023-07-05_15-10-46\n"
     ]
    },
    {
     "name": "stderr",
     "output_type": "stream",
     "text": [
      "Some weights of the model checkpoint at roberta-large were not used when initializing RobertaModel: ['lm_head.bias', 'lm_head.layer_norm.weight', 'lm_head.dense.bias', 'lm_head.dense.weight', 'lm_head.layer_norm.bias', 'lm_head.decoder.weight']\n",
      "- This IS expected if you are initializing RobertaModel from the checkpoint of a model trained on another task or with another architecture (e.g. initializing a BertForSequenceClassification model from a BertForPreTraining model).\n",
      "- This IS NOT expected if you are initializing RobertaModel from the checkpoint of a model that you expect to be exactly identical (initializing a BertForSequenceClassification model from a BertForSequenceClassification model).\n"
     ]
    },
    {
     "name": "stdout",
     "output_type": "stream",
     "text": [
      "2023-07-05 15:24:48 - Use pytorch device: cuda\n",
      "2023-07-05 15:24:48 - Read Triplet train dataset\n"
     ]
    },
    {
     "data": {
      "application/vnd.jupyter.widget-view+json": {
       "model_id": "1af439b68bab4c518fb29f2d1c18a871",
       "version_major": 2,
       "version_minor": 0
      },
      "text/plain": [
       "Epoch:   0%|          | 0/10 [00:00<?, ?it/s]"
      ]
     },
     "metadata": {},
     "output_type": "display_data"
    },
    {
     "data": {
      "application/vnd.jupyter.widget-view+json": {
       "model_id": "b527683692a149848083fc265c1b6668",
       "version_major": 2,
       "version_minor": 0
      },
      "text/plain": [
       "Iteration:   0%|          | 0/519 [00:00<?, ?it/s]"
      ]
     },
     "metadata": {},
     "output_type": "display_data"
    },
    {
     "name": "stdout",
     "output_type": "stream",
     "text": [
      "2023-07-05 15:25:58 - TripletEvaluator: Evaluating the model on dev dataset in epoch 0 after 500 steps:\n",
      "mAP strict= 0.8418132616014364 ; mAP relaxed = 0.9700350526273638\n",
      "2023-07-05 15:26:00 - mAP strict:   \t84.18\n",
      "2023-07-05 15:26:00 - mAP relaxed:   \t97.00\n",
      "2023-07-05 15:26:00 - Save model to /mnt/ceph/storage/data-in-progress/data-research/arguana/arg-generation/keypoint-analysis-sharedtask/final-experiment-on-training-data/roberta-large-final-model-fold-1-2023-07-05_15-24-42\n",
      "2023-07-05 15:26:04 - TripletEvaluator: Evaluating the model on dev dataset after epoch 0:\n",
      "mAP strict= 0.8294343305342927 ; mAP relaxed = 0.9552328874849959\n",
      "2023-07-05 15:26:05 - mAP strict:   \t82.94\n",
      "2023-07-05 15:26:05 - mAP relaxed:   \t95.52\n"
     ]
    },
    {
     "data": {
      "application/vnd.jupyter.widget-view+json": {
       "model_id": "d3e8bf145c03463a8ce768bb692a2e12",
       "version_major": 2,
       "version_minor": 0
      },
      "text/plain": [
       "Iteration:   0%|          | 0/519 [00:00<?, ?it/s]"
      ]
     },
     "metadata": {},
     "output_type": "display_data"
    },
    {
     "name": "stdout",
     "output_type": "stream",
     "text": [
      "2023-07-05 15:27:15 - TripletEvaluator: Evaluating the model on dev dataset in epoch 1 after 500 steps:\n",
      "mAP strict= 0.7888991201683473 ; mAP relaxed = 0.9204343667742974\n",
      "2023-07-05 15:27:16 - mAP strict:   \t78.89\n",
      "2023-07-05 15:27:16 - mAP relaxed:   \t92.04\n",
      "2023-07-05 15:27:19 - TripletEvaluator: Evaluating the model on dev dataset after epoch 1:\n",
      "mAP strict= 0.7975542958175607 ; mAP relaxed = 0.9286520240687176\n",
      "2023-07-05 15:27:20 - mAP strict:   \t79.76\n",
      "2023-07-05 15:27:20 - mAP relaxed:   \t92.87\n"
     ]
    },
    {
     "data": {
      "application/vnd.jupyter.widget-view+json": {
       "model_id": "341ef773177b424bad590d1bbc7c1945",
       "version_major": 2,
       "version_minor": 0
      },
      "text/plain": [
       "Iteration:   0%|          | 0/519 [00:00<?, ?it/s]"
      ]
     },
     "metadata": {},
     "output_type": "display_data"
    },
    {
     "name": "stdout",
     "output_type": "stream",
     "text": [
      "2023-07-05 15:28:30 - TripletEvaluator: Evaluating the model on dev dataset in epoch 2 after 500 steps:\n",
      "mAP strict= 0.7901546463727549 ; mAP relaxed = 0.9172256739657507\n",
      "2023-07-05 15:28:32 - mAP strict:   \t79.02\n",
      "2023-07-05 15:28:32 - mAP relaxed:   \t91.72\n",
      "2023-07-05 15:28:34 - TripletEvaluator: Evaluating the model on dev dataset after epoch 2:\n",
      "mAP strict= 0.7950148295283774 ; mAP relaxed = 0.9283130110639737\n",
      "2023-07-05 15:28:36 - mAP strict:   \t79.50\n",
      "2023-07-05 15:28:36 - mAP relaxed:   \t92.83\n"
     ]
    },
    {
     "data": {
      "application/vnd.jupyter.widget-view+json": {
       "model_id": "35c51ce1bf5f4fd1baa434ba1dffad84",
       "version_major": 2,
       "version_minor": 0
      },
      "text/plain": [
       "Iteration:   0%|          | 0/519 [00:00<?, ?it/s]"
      ]
     },
     "metadata": {},
     "output_type": "display_data"
    },
    {
     "name": "stdout",
     "output_type": "stream",
     "text": [
      "2023-07-05 15:29:46 - TripletEvaluator: Evaluating the model on dev dataset in epoch 3 after 500 steps:\n",
      "mAP strict= 0.8528222718627827 ; mAP relaxed = 0.9477863498132157\n",
      "2023-07-05 15:29:47 - mAP strict:   \t85.28\n",
      "2023-07-05 15:29:47 - mAP relaxed:   \t94.78\n",
      "2023-07-05 15:29:50 - TripletEvaluator: Evaluating the model on dev dataset after epoch 3:\n",
      "mAP strict= 0.8452806415122964 ; mAP relaxed = 0.9486908091294207\n",
      "2023-07-05 15:29:51 - mAP strict:   \t84.53\n",
      "2023-07-05 15:29:51 - mAP relaxed:   \t94.87\n"
     ]
    },
    {
     "data": {
      "application/vnd.jupyter.widget-view+json": {
       "model_id": "beda46d260514131a1584588cb6bc9c4",
       "version_major": 2,
       "version_minor": 0
      },
      "text/plain": [
       "Iteration:   0%|          | 0/519 [00:00<?, ?it/s]"
      ]
     },
     "metadata": {},
     "output_type": "display_data"
    },
    {
     "name": "stdout",
     "output_type": "stream",
     "text": [
      "2023-07-05 15:31:02 - TripletEvaluator: Evaluating the model on dev dataset in epoch 4 after 500 steps:\n",
      "mAP strict= 0.8304611331750753 ; mAP relaxed = 0.9359027782877003\n",
      "2023-07-05 15:31:03 - mAP strict:   \t83.05\n",
      "2023-07-05 15:31:03 - mAP relaxed:   \t93.59\n",
      "2023-07-05 15:31:06 - TripletEvaluator: Evaluating the model on dev dataset after epoch 4:\n",
      "mAP strict= 0.8332152026373233 ; mAP relaxed = 0.940929534754787\n",
      "2023-07-05 15:31:07 - mAP strict:   \t83.32\n",
      "2023-07-05 15:31:07 - mAP relaxed:   \t94.09\n"
     ]
    },
    {
     "data": {
      "application/vnd.jupyter.widget-view+json": {
       "model_id": "8fbcc21fa4ee47e1b62e114c7df1ad46",
       "version_major": 2,
       "version_minor": 0
      },
      "text/plain": [
       "Iteration:   0%|          | 0/519 [00:00<?, ?it/s]"
      ]
     },
     "metadata": {},
     "output_type": "display_data"
    },
    {
     "name": "stdout",
     "output_type": "stream",
     "text": [
      "2023-07-05 15:32:17 - TripletEvaluator: Evaluating the model on dev dataset in epoch 5 after 500 steps:\n",
      "mAP strict= 0.841552263524677 ; mAP relaxed = 0.940960833242562\n",
      "2023-07-05 15:32:19 - mAP strict:   \t84.16\n",
      "2023-07-05 15:32:19 - mAP relaxed:   \t94.10\n",
      "2023-07-05 15:32:21 - TripletEvaluator: Evaluating the model on dev dataset after epoch 5:\n",
      "mAP strict= 0.8434935219757269 ; mAP relaxed = 0.9431003213500997\n",
      "2023-07-05 15:32:22 - mAP strict:   \t84.35\n",
      "2023-07-05 15:32:22 - mAP relaxed:   \t94.31\n"
     ]
    },
    {
     "data": {
      "application/vnd.jupyter.widget-view+json": {
       "model_id": "1558801a9aae4b3dad42479c5d0dc3ce",
       "version_major": 2,
       "version_minor": 0
      },
      "text/plain": [
       "Iteration:   0%|          | 0/519 [00:00<?, ?it/s]"
      ]
     },
     "metadata": {},
     "output_type": "display_data"
    }
   ],
   "source": [
    "ensamble_training(train_df, data_path + '/keypoint-analysis-sharedtask/final-experiment-on-training-data/') #train on only the training df"
   ]
  },
  {
   "cell_type": "code",
   "execution_count": 14,
   "metadata": {},
   "outputs": [
    {
     "name": "stdout",
     "output_type": "stream",
     "text": [
      "\u001b[0m\u001b[01;34mroberta-large-final-model-fold-0-2023-07-03_14-50-42\u001b[0m/\n",
      "\u001b[01;34mroberta-large-final-model-fold-1-2023-07-03_15-07-56\u001b[0m/\n",
      "\u001b[01;34mroberta-large-final-model-fold-2-2023-07-03_15-22-51\u001b[0m/\n",
      "\u001b[01;34mroberta-large-final-model-fold-3-2023-07-03_15-37-30\u001b[0m/\n",
      "\u001b[01;34mroberta-large-final-model-fold-4-2023-07-03_15-52-27\u001b[0m/\n"
     ]
    }
   ],
   "source": [
    "ls /mnt/ceph/storage/data-in-progress/data-research/arguana/arg-generation/keypoint-analysis-sharedtask/final-experiment/"
   ]
  },
  {
   "cell_type": "code",
   "execution_count": 15,
   "metadata": {},
   "outputs": [],
   "source": [
    "models_list = [\n",
    "     data_path + '/keypoint-analysis-sharedtask/final-experiment/roberta-large-final-model-fold-0-2023-07-03_14-50-42',\n",
    "     data_path + '/keypoint-analysis-sharedtask/final-experiment/roberta-large-final-model-fold-1-2023-07-03_15-07-56',\n",
    "     data_path + '/keypoint-analysis-sharedtask/final-experiment/roberta-large-final-model-fold-2-2023-07-03_15-22-51',\n",
    "     data_path + '/keypoint-analysis-sharedtask/final-experiment/roberta-large-final-model-fold-3-2023-07-03_15-37-30',\n",
    "     data_path + '/keypoint-analysis-sharedtask/final-experiment/roberta-large-final-model-fold-4-2023-07-03_15-52-27',\n",
    "]\n",
    "\n",
    "pred_output_path = data_path + '/keypoint-analysis-sharedtask/siamese-data/preds/'"
   ]
  },
  {
   "cell_type": "code",
   "execution_count": 16,
   "metadata": {
    "scrolled": true,
    "tags": []
   },
   "outputs": [
    {
     "name": "stdout",
     "output_type": "stream",
     "text": [
      "2023-07-05 14:31:27 - Load pretrained SentenceTransformer: /mnt/ceph/storage/data-in-progress/data-research/arguana/arg-generation/keypoint-analysis-sharedtask/final-experiment/roberta-large-final-model-fold-0-2023-07-03_14-50-42\n",
      "2023-07-05 14:31:38 - Use pytorch device: cuda\n"
     ]
    },
    {
     "data": {
      "application/vnd.jupyter.widget-view+json": {
       "model_id": "b245af7e22e34be28c5558f77b20d26c",
       "version_major": 2,
       "version_minor": 0
      },
      "text/plain": [
       "Batches:   0%|          | 0/1 [00:00<?, ?it/s]"
      ]
     },
     "metadata": {},
     "output_type": "display_data"
    },
    {
     "data": {
      "application/vnd.jupyter.widget-view+json": {
       "model_id": "79262fab61f7414a98ccf683b5326a0d",
       "version_major": 2,
       "version_minor": 0
      },
      "text/plain": [
       "Batches:   0%|          | 0/4 [00:00<?, ?it/s]"
      ]
     },
     "metadata": {},
     "output_type": "display_data"
    },
    {
     "data": {
      "application/vnd.jupyter.widget-view+json": {
       "model_id": "4958849cc64b48ca80e8c626cf90a12b",
       "version_major": 2,
       "version_minor": 0
      },
      "text/plain": [
       "Batches:   0%|          | 0/1 [00:00<?, ?it/s]"
      ]
     },
     "metadata": {},
     "output_type": "display_data"
    },
    {
     "data": {
      "application/vnd.jupyter.widget-view+json": {
       "model_id": "8e08697c144246f4a4bd7495b8bb4e87",
       "version_major": 2,
       "version_minor": 0
      },
      "text/plain": [
       "Batches:   0%|          | 0/4 [00:00<?, ?it/s]"
      ]
     },
     "metadata": {},
     "output_type": "display_data"
    },
    {
     "data": {
      "application/vnd.jupyter.widget-view+json": {
       "model_id": "c5c666333b674dbcabb97876ec063504",
       "version_major": 2,
       "version_minor": 0
      },
      "text/plain": [
       "Batches:   0%|          | 0/1 [00:00<?, ?it/s]"
      ]
     },
     "metadata": {},
     "output_type": "display_data"
    },
    {
     "data": {
      "application/vnd.jupyter.widget-view+json": {
       "model_id": "284a3446e6d5443bbb5f8483fb5343ec",
       "version_major": 2,
       "version_minor": 0
      },
      "text/plain": [
       "Batches:   0%|          | 0/4 [00:00<?, ?it/s]"
      ]
     },
     "metadata": {},
     "output_type": "display_data"
    },
    {
     "data": {
      "application/vnd.jupyter.widget-view+json": {
       "model_id": "28ede179144b44f08e0940e99e3061c0",
       "version_major": 2,
       "version_minor": 0
      },
      "text/plain": [
       "Batches:   0%|          | 0/1 [00:00<?, ?it/s]"
      ]
     },
     "metadata": {},
     "output_type": "display_data"
    },
    {
     "data": {
      "application/vnd.jupyter.widget-view+json": {
       "model_id": "b3836d0acf5b4692af8a70db882bb806",
       "version_major": 2,
       "version_minor": 0
      },
      "text/plain": [
       "Batches:   0%|          | 0/4 [00:00<?, ?it/s]"
      ]
     },
     "metadata": {},
     "output_type": "display_data"
    },
    {
     "data": {
      "application/vnd.jupyter.widget-view+json": {
       "model_id": "d66f81d868b34c61917893ca1164be18",
       "version_major": 2,
       "version_minor": 0
      },
      "text/plain": [
       "Batches:   0%|          | 0/1 [00:00<?, ?it/s]"
      ]
     },
     "metadata": {},
     "output_type": "display_data"
    },
    {
     "data": {
      "application/vnd.jupyter.widget-view+json": {
       "model_id": "9f0e7336afad47edba404578f20949aa",
       "version_major": 2,
       "version_minor": 0
      },
      "text/plain": [
       "Batches:   0%|          | 0/4 [00:00<?, ?it/s]"
      ]
     },
     "metadata": {},
     "output_type": "display_data"
    },
    {
     "data": {
      "application/vnd.jupyter.widget-view+json": {
       "model_id": "83d432a4babe4a2985850b3182d806a7",
       "version_major": 2,
       "version_minor": 0
      },
      "text/plain": [
       "Batches:   0%|          | 0/1 [00:00<?, ?it/s]"
      ]
     },
     "metadata": {},
     "output_type": "display_data"
    },
    {
     "data": {
      "application/vnd.jupyter.widget-view+json": {
       "model_id": "6751aac0522147f7977788a884a58355",
       "version_major": 2,
       "version_minor": 0
      },
      "text/plain": [
       "Batches:   0%|          | 0/4 [00:00<?, ?it/s]"
      ]
     },
     "metadata": {},
     "output_type": "display_data"
    },
    {
     "data": {
      "application/vnd.jupyter.widget-view+json": {
       "model_id": "271add7eb3994d219514d04180086912",
       "version_major": 2,
       "version_minor": 0
      },
      "text/plain": [
       "Batches:   0%|          | 0/1 [00:00<?, ?it/s]"
      ]
     },
     "metadata": {},
     "output_type": "display_data"
    },
    {
     "data": {
      "application/vnd.jupyter.widget-view+json": {
       "model_id": "f50a0fd9e96a4b9cb1199caab65fedcd",
       "version_major": 2,
       "version_minor": 0
      },
      "text/plain": [
       "Batches:   0%|          | 0/4 [00:00<?, ?it/s]"
      ]
     },
     "metadata": {},
     "output_type": "display_data"
    },
    {
     "data": {
      "application/vnd.jupyter.widget-view+json": {
       "model_id": "155136477bc5491c9fb7454f9b08f244",
       "version_major": 2,
       "version_minor": 0
      },
      "text/plain": [
       "Batches:   0%|          | 0/1 [00:00<?, ?it/s]"
      ]
     },
     "metadata": {},
     "output_type": "display_data"
    },
    {
     "data": {
      "application/vnd.jupyter.widget-view+json": {
       "model_id": "38d06a52cbb14f8e91714e5e10538bfa",
       "version_major": 2,
       "version_minor": 0
      },
      "text/plain": [
       "Batches:   0%|          | 0/4 [00:00<?, ?it/s]"
      ]
     },
     "metadata": {},
     "output_type": "display_data"
    },
    {
     "name": "stdout",
     "output_type": "stream",
     "text": [
      "loaded predictions for 932 arguments\n",
      "Evaluating roberta-large-final-model-fold-0-2023-07-03_14-50-42:\n",
      "mAP strict= 0.8908228837841844 ; mAP relaxed = 0.9808871827254642\n",
      "2023-07-05 14:32:00 - Load pretrained SentenceTransformer: /mnt/ceph/storage/data-in-progress/data-research/arguana/arg-generation/keypoint-analysis-sharedtask/final-experiment/roberta-large-final-model-fold-1-2023-07-03_15-07-56\n",
      "2023-07-05 14:32:09 - Use pytorch device: cuda\n"
     ]
    },
    {
     "data": {
      "application/vnd.jupyter.widget-view+json": {
       "model_id": "535cb32b733445b396159b26194555a0",
       "version_major": 2,
       "version_minor": 0
      },
      "text/plain": [
       "Batches:   0%|          | 0/1 [00:00<?, ?it/s]"
      ]
     },
     "metadata": {},
     "output_type": "display_data"
    },
    {
     "data": {
      "application/vnd.jupyter.widget-view+json": {
       "model_id": "8f9a6d74f67448eaa751b729200ae2c7",
       "version_major": 2,
       "version_minor": 0
      },
      "text/plain": [
       "Batches:   0%|          | 0/4 [00:00<?, ?it/s]"
      ]
     },
     "metadata": {},
     "output_type": "display_data"
    },
    {
     "data": {
      "application/vnd.jupyter.widget-view+json": {
       "model_id": "cbca433d197c49b4891bdd3d699e2db4",
       "version_major": 2,
       "version_minor": 0
      },
      "text/plain": [
       "Batches:   0%|          | 0/1 [00:00<?, ?it/s]"
      ]
     },
     "metadata": {},
     "output_type": "display_data"
    },
    {
     "data": {
      "application/vnd.jupyter.widget-view+json": {
       "model_id": "446ac99694954fdeaeeb4d457c46c692",
       "version_major": 2,
       "version_minor": 0
      },
      "text/plain": [
       "Batches:   0%|          | 0/4 [00:00<?, ?it/s]"
      ]
     },
     "metadata": {},
     "output_type": "display_data"
    },
    {
     "data": {
      "application/vnd.jupyter.widget-view+json": {
       "model_id": "ab8c500376624ef3a04fecd4eea990b9",
       "version_major": 2,
       "version_minor": 0
      },
      "text/plain": [
       "Batches:   0%|          | 0/1 [00:00<?, ?it/s]"
      ]
     },
     "metadata": {},
     "output_type": "display_data"
    },
    {
     "data": {
      "application/vnd.jupyter.widget-view+json": {
       "model_id": "85e3fe08534c4128b612a2682dbefcd2",
       "version_major": 2,
       "version_minor": 0
      },
      "text/plain": [
       "Batches:   0%|          | 0/4 [00:00<?, ?it/s]"
      ]
     },
     "metadata": {},
     "output_type": "display_data"
    },
    {
     "data": {
      "application/vnd.jupyter.widget-view+json": {
       "model_id": "9948160e3bae4574bc8ec94e949dbbab",
       "version_major": 2,
       "version_minor": 0
      },
      "text/plain": [
       "Batches:   0%|          | 0/1 [00:00<?, ?it/s]"
      ]
     },
     "metadata": {},
     "output_type": "display_data"
    },
    {
     "data": {
      "application/vnd.jupyter.widget-view+json": {
       "model_id": "4bf11a8a213f47af967fac1d81ec330a",
       "version_major": 2,
       "version_minor": 0
      },
      "text/plain": [
       "Batches:   0%|          | 0/4 [00:00<?, ?it/s]"
      ]
     },
     "metadata": {},
     "output_type": "display_data"
    },
    {
     "data": {
      "application/vnd.jupyter.widget-view+json": {
       "model_id": "d2e3b1ff84e64146a2497b1aabfc76c4",
       "version_major": 2,
       "version_minor": 0
      },
      "text/plain": [
       "Batches:   0%|          | 0/1 [00:00<?, ?it/s]"
      ]
     },
     "metadata": {},
     "output_type": "display_data"
    },
    {
     "data": {
      "application/vnd.jupyter.widget-view+json": {
       "model_id": "748bf078f5194b379827ac26fa5b4497",
       "version_major": 2,
       "version_minor": 0
      },
      "text/plain": [
       "Batches:   0%|          | 0/4 [00:00<?, ?it/s]"
      ]
     },
     "metadata": {},
     "output_type": "display_data"
    },
    {
     "data": {
      "application/vnd.jupyter.widget-view+json": {
       "model_id": "55315140786c4761b5843408d4bf47f3",
       "version_major": 2,
       "version_minor": 0
      },
      "text/plain": [
       "Batches:   0%|          | 0/1 [00:00<?, ?it/s]"
      ]
     },
     "metadata": {},
     "output_type": "display_data"
    },
    {
     "data": {
      "application/vnd.jupyter.widget-view+json": {
       "model_id": "0dacbe75f3504aa3b40c1bba249d512c",
       "version_major": 2,
       "version_minor": 0
      },
      "text/plain": [
       "Batches:   0%|          | 0/4 [00:00<?, ?it/s]"
      ]
     },
     "metadata": {},
     "output_type": "display_data"
    },
    {
     "data": {
      "application/vnd.jupyter.widget-view+json": {
       "model_id": "055d1eb907fb43ddbdeb23f71a8b44a6",
       "version_major": 2,
       "version_minor": 0
      },
      "text/plain": [
       "Batches:   0%|          | 0/1 [00:00<?, ?it/s]"
      ]
     },
     "metadata": {},
     "output_type": "display_data"
    },
    {
     "data": {
      "application/vnd.jupyter.widget-view+json": {
       "model_id": "dffe4884585e4e81842dd044bc062b24",
       "version_major": 2,
       "version_minor": 0
      },
      "text/plain": [
       "Batches:   0%|          | 0/4 [00:00<?, ?it/s]"
      ]
     },
     "metadata": {},
     "output_type": "display_data"
    },
    {
     "data": {
      "application/vnd.jupyter.widget-view+json": {
       "model_id": "e071b69cfc0f41e58eb406ddb616a8ee",
       "version_major": 2,
       "version_minor": 0
      },
      "text/plain": [
       "Batches:   0%|          | 0/1 [00:00<?, ?it/s]"
      ]
     },
     "metadata": {},
     "output_type": "display_data"
    },
    {
     "data": {
      "application/vnd.jupyter.widget-view+json": {
       "model_id": "f28cc26e70f14dd0bd3c7a341511fc5c",
       "version_major": 2,
       "version_minor": 0
      },
      "text/plain": [
       "Batches:   0%|          | 0/4 [00:00<?, ?it/s]"
      ]
     },
     "metadata": {},
     "output_type": "display_data"
    },
    {
     "name": "stdout",
     "output_type": "stream",
     "text": [
      "loaded predictions for 932 arguments\n",
      "Evaluating roberta-large-final-model-fold-1-2023-07-03_15-07-56:\n",
      "mAP strict= 0.8966189731994281 ; mAP relaxed = 0.9707501481994847\n",
      "2023-07-05 14:32:10 - Load pretrained SentenceTransformer: /mnt/ceph/storage/data-in-progress/data-research/arguana/arg-generation/keypoint-analysis-sharedtask/final-experiment/roberta-large-final-model-fold-2-2023-07-03_15-22-51\n",
      "2023-07-05 14:32:18 - Use pytorch device: cuda\n"
     ]
    },
    {
     "data": {
      "application/vnd.jupyter.widget-view+json": {
       "model_id": "b1edeb6e153b4dc7944590d0d0d2a8b8",
       "version_major": 2,
       "version_minor": 0
      },
      "text/plain": [
       "Batches:   0%|          | 0/1 [00:00<?, ?it/s]"
      ]
     },
     "metadata": {},
     "output_type": "display_data"
    },
    {
     "data": {
      "application/vnd.jupyter.widget-view+json": {
       "model_id": "aa11c03f35b34c04862b1ee909b4f2e1",
       "version_major": 2,
       "version_minor": 0
      },
      "text/plain": [
       "Batches:   0%|          | 0/4 [00:00<?, ?it/s]"
      ]
     },
     "metadata": {},
     "output_type": "display_data"
    },
    {
     "data": {
      "application/vnd.jupyter.widget-view+json": {
       "model_id": "347cccc6be8842c1b0d3619913aa6783",
       "version_major": 2,
       "version_minor": 0
      },
      "text/plain": [
       "Batches:   0%|          | 0/1 [00:00<?, ?it/s]"
      ]
     },
     "metadata": {},
     "output_type": "display_data"
    },
    {
     "data": {
      "application/vnd.jupyter.widget-view+json": {
       "model_id": "86667bb7dffa4c31916ebcf5dda79a02",
       "version_major": 2,
       "version_minor": 0
      },
      "text/plain": [
       "Batches:   0%|          | 0/4 [00:00<?, ?it/s]"
      ]
     },
     "metadata": {},
     "output_type": "display_data"
    },
    {
     "data": {
      "application/vnd.jupyter.widget-view+json": {
       "model_id": "1d11ee9b7aa941d4b12c830063306dc4",
       "version_major": 2,
       "version_minor": 0
      },
      "text/plain": [
       "Batches:   0%|          | 0/1 [00:00<?, ?it/s]"
      ]
     },
     "metadata": {},
     "output_type": "display_data"
    },
    {
     "data": {
      "application/vnd.jupyter.widget-view+json": {
       "model_id": "9a5cdfa5c7524c5584ecc3f4514de646",
       "version_major": 2,
       "version_minor": 0
      },
      "text/plain": [
       "Batches:   0%|          | 0/4 [00:00<?, ?it/s]"
      ]
     },
     "metadata": {},
     "output_type": "display_data"
    },
    {
     "data": {
      "application/vnd.jupyter.widget-view+json": {
       "model_id": "255f9061e5454e47a1be1db2f485cd4e",
       "version_major": 2,
       "version_minor": 0
      },
      "text/plain": [
       "Batches:   0%|          | 0/1 [00:00<?, ?it/s]"
      ]
     },
     "metadata": {},
     "output_type": "display_data"
    },
    {
     "data": {
      "application/vnd.jupyter.widget-view+json": {
       "model_id": "9b9a9abaa6244f8c971b9412e485fd09",
       "version_major": 2,
       "version_minor": 0
      },
      "text/plain": [
       "Batches:   0%|          | 0/4 [00:00<?, ?it/s]"
      ]
     },
     "metadata": {},
     "output_type": "display_data"
    },
    {
     "data": {
      "application/vnd.jupyter.widget-view+json": {
       "model_id": "2f210fba27864034a4864f9d450a5316",
       "version_major": 2,
       "version_minor": 0
      },
      "text/plain": [
       "Batches:   0%|          | 0/1 [00:00<?, ?it/s]"
      ]
     },
     "metadata": {},
     "output_type": "display_data"
    },
    {
     "data": {
      "application/vnd.jupyter.widget-view+json": {
       "model_id": "81a60002e69547dbba12f9a2a9c7debb",
       "version_major": 2,
       "version_minor": 0
      },
      "text/plain": [
       "Batches:   0%|          | 0/4 [00:00<?, ?it/s]"
      ]
     },
     "metadata": {},
     "output_type": "display_data"
    },
    {
     "data": {
      "application/vnd.jupyter.widget-view+json": {
       "model_id": "6d67394ff76542fa9a08b094a8170447",
       "version_major": 2,
       "version_minor": 0
      },
      "text/plain": [
       "Batches:   0%|          | 0/1 [00:00<?, ?it/s]"
      ]
     },
     "metadata": {},
     "output_type": "display_data"
    },
    {
     "data": {
      "application/vnd.jupyter.widget-view+json": {
       "model_id": "c7f9c23d025146de8458a55ffbbdd121",
       "version_major": 2,
       "version_minor": 0
      },
      "text/plain": [
       "Batches:   0%|          | 0/4 [00:00<?, ?it/s]"
      ]
     },
     "metadata": {},
     "output_type": "display_data"
    },
    {
     "data": {
      "application/vnd.jupyter.widget-view+json": {
       "model_id": "a1a1d60f729543c784620fb72ec4abf7",
       "version_major": 2,
       "version_minor": 0
      },
      "text/plain": [
       "Batches:   0%|          | 0/1 [00:00<?, ?it/s]"
      ]
     },
     "metadata": {},
     "output_type": "display_data"
    },
    {
     "data": {
      "application/vnd.jupyter.widget-view+json": {
       "model_id": "03dd45ae1ce147a0baf2c358ae0ce888",
       "version_major": 2,
       "version_minor": 0
      },
      "text/plain": [
       "Batches:   0%|          | 0/4 [00:00<?, ?it/s]"
      ]
     },
     "metadata": {},
     "output_type": "display_data"
    },
    {
     "data": {
      "application/vnd.jupyter.widget-view+json": {
       "model_id": "e61f4dacfc204251a626b2c7731c0bf9",
       "version_major": 2,
       "version_minor": 0
      },
      "text/plain": [
       "Batches:   0%|          | 0/1 [00:00<?, ?it/s]"
      ]
     },
     "metadata": {},
     "output_type": "display_data"
    },
    {
     "data": {
      "application/vnd.jupyter.widget-view+json": {
       "model_id": "17a20958b6ef482d99a387d46beae4e9",
       "version_major": 2,
       "version_minor": 0
      },
      "text/plain": [
       "Batches:   0%|          | 0/4 [00:00<?, ?it/s]"
      ]
     },
     "metadata": {},
     "output_type": "display_data"
    },
    {
     "name": "stdout",
     "output_type": "stream",
     "text": [
      "loaded predictions for 932 arguments\n",
      "Evaluating roberta-large-final-model-fold-2-2023-07-03_15-22-51:\n",
      "mAP strict= 0.9329552696118272 ; mAP relaxed = 0.9961648676018134\n",
      "2023-07-05 14:32:20 - Load pretrained SentenceTransformer: /mnt/ceph/storage/data-in-progress/data-research/arguana/arg-generation/keypoint-analysis-sharedtask/final-experiment/roberta-large-final-model-fold-3-2023-07-03_15-37-30\n",
      "2023-07-05 14:32:28 - Use pytorch device: cuda\n"
     ]
    },
    {
     "data": {
      "application/vnd.jupyter.widget-view+json": {
       "model_id": "bcd50ff5e15c4c2e8470d7b5bf63fe3b",
       "version_major": 2,
       "version_minor": 0
      },
      "text/plain": [
       "Batches:   0%|          | 0/1 [00:00<?, ?it/s]"
      ]
     },
     "metadata": {},
     "output_type": "display_data"
    },
    {
     "data": {
      "application/vnd.jupyter.widget-view+json": {
       "model_id": "fc1c9f4d76b34b7791bc96e010f8258b",
       "version_major": 2,
       "version_minor": 0
      },
      "text/plain": [
       "Batches:   0%|          | 0/4 [00:00<?, ?it/s]"
      ]
     },
     "metadata": {},
     "output_type": "display_data"
    },
    {
     "data": {
      "application/vnd.jupyter.widget-view+json": {
       "model_id": "588f54890f864c7e81d403ed4201a81d",
       "version_major": 2,
       "version_minor": 0
      },
      "text/plain": [
       "Batches:   0%|          | 0/1 [00:00<?, ?it/s]"
      ]
     },
     "metadata": {},
     "output_type": "display_data"
    },
    {
     "data": {
      "application/vnd.jupyter.widget-view+json": {
       "model_id": "baa8d01d0f994a79a6e1b36a25a94ff0",
       "version_major": 2,
       "version_minor": 0
      },
      "text/plain": [
       "Batches:   0%|          | 0/4 [00:00<?, ?it/s]"
      ]
     },
     "metadata": {},
     "output_type": "display_data"
    },
    {
     "data": {
      "application/vnd.jupyter.widget-view+json": {
       "model_id": "32fe138b90c745fcb6f5826f5c232fa0",
       "version_major": 2,
       "version_minor": 0
      },
      "text/plain": [
       "Batches:   0%|          | 0/1 [00:00<?, ?it/s]"
      ]
     },
     "metadata": {},
     "output_type": "display_data"
    },
    {
     "data": {
      "application/vnd.jupyter.widget-view+json": {
       "model_id": "6acfe371388842d295336825c8364e11",
       "version_major": 2,
       "version_minor": 0
      },
      "text/plain": [
       "Batches:   0%|          | 0/4 [00:00<?, ?it/s]"
      ]
     },
     "metadata": {},
     "output_type": "display_data"
    },
    {
     "data": {
      "application/vnd.jupyter.widget-view+json": {
       "model_id": "5bfa482a4086415393d9aec165e9b2bf",
       "version_major": 2,
       "version_minor": 0
      },
      "text/plain": [
       "Batches:   0%|          | 0/1 [00:00<?, ?it/s]"
      ]
     },
     "metadata": {},
     "output_type": "display_data"
    },
    {
     "data": {
      "application/vnd.jupyter.widget-view+json": {
       "model_id": "76b385de8d2e4c188b63798b46ae7b1e",
       "version_major": 2,
       "version_minor": 0
      },
      "text/plain": [
       "Batches:   0%|          | 0/4 [00:00<?, ?it/s]"
      ]
     },
     "metadata": {},
     "output_type": "display_data"
    },
    {
     "data": {
      "application/vnd.jupyter.widget-view+json": {
       "model_id": "45958323588a4a9cb0efbd95e935fb91",
       "version_major": 2,
       "version_minor": 0
      },
      "text/plain": [
       "Batches:   0%|          | 0/1 [00:00<?, ?it/s]"
      ]
     },
     "metadata": {},
     "output_type": "display_data"
    },
    {
     "data": {
      "application/vnd.jupyter.widget-view+json": {
       "model_id": "54b10581feab4e3798ba07de13433217",
       "version_major": 2,
       "version_minor": 0
      },
      "text/plain": [
       "Batches:   0%|          | 0/4 [00:00<?, ?it/s]"
      ]
     },
     "metadata": {},
     "output_type": "display_data"
    },
    {
     "data": {
      "application/vnd.jupyter.widget-view+json": {
       "model_id": "9fc239d82be748199c4c2b82dfdbff70",
       "version_major": 2,
       "version_minor": 0
      },
      "text/plain": [
       "Batches:   0%|          | 0/1 [00:00<?, ?it/s]"
      ]
     },
     "metadata": {},
     "output_type": "display_data"
    },
    {
     "data": {
      "application/vnd.jupyter.widget-view+json": {
       "model_id": "7332ab7ba546440eae73453b5ed3e9d4",
       "version_major": 2,
       "version_minor": 0
      },
      "text/plain": [
       "Batches:   0%|          | 0/4 [00:00<?, ?it/s]"
      ]
     },
     "metadata": {},
     "output_type": "display_data"
    },
    {
     "data": {
      "application/vnd.jupyter.widget-view+json": {
       "model_id": "2818ed73fc864965a496d0b800c9227c",
       "version_major": 2,
       "version_minor": 0
      },
      "text/plain": [
       "Batches:   0%|          | 0/1 [00:00<?, ?it/s]"
      ]
     },
     "metadata": {},
     "output_type": "display_data"
    },
    {
     "data": {
      "application/vnd.jupyter.widget-view+json": {
       "model_id": "d35d3f0742e14e2da175b6394c298aa2",
       "version_major": 2,
       "version_minor": 0
      },
      "text/plain": [
       "Batches:   0%|          | 0/4 [00:00<?, ?it/s]"
      ]
     },
     "metadata": {},
     "output_type": "display_data"
    },
    {
     "data": {
      "application/vnd.jupyter.widget-view+json": {
       "model_id": "20f7372f16d74e89a192b48a74da1fa2",
       "version_major": 2,
       "version_minor": 0
      },
      "text/plain": [
       "Batches:   0%|          | 0/1 [00:00<?, ?it/s]"
      ]
     },
     "metadata": {},
     "output_type": "display_data"
    },
    {
     "data": {
      "application/vnd.jupyter.widget-view+json": {
       "model_id": "2894a6d38d7f45f5b5b0ae4a29b9189c",
       "version_major": 2,
       "version_minor": 0
      },
      "text/plain": [
       "Batches:   0%|          | 0/4 [00:00<?, ?it/s]"
      ]
     },
     "metadata": {},
     "output_type": "display_data"
    },
    {
     "name": "stdout",
     "output_type": "stream",
     "text": [
      "loaded predictions for 932 arguments\n",
      "Evaluating roberta-large-final-model-fold-3-2023-07-03_15-37-30:\n",
      "mAP strict= 0.9024235520682247 ; mAP relaxed = 0.9828698992734068\n",
      "2023-07-05 14:32:30 - Load pretrained SentenceTransformer: /mnt/ceph/storage/data-in-progress/data-research/arguana/arg-generation/keypoint-analysis-sharedtask/final-experiment/roberta-large-final-model-fold-4-2023-07-03_15-52-27\n",
      "2023-07-05 14:32:38 - Use pytorch device: cuda\n"
     ]
    },
    {
     "data": {
      "application/vnd.jupyter.widget-view+json": {
       "model_id": "e4b8165a2408431d9031d53775b25f84",
       "version_major": 2,
       "version_minor": 0
      },
      "text/plain": [
       "Batches:   0%|          | 0/1 [00:00<?, ?it/s]"
      ]
     },
     "metadata": {},
     "output_type": "display_data"
    },
    {
     "data": {
      "application/vnd.jupyter.widget-view+json": {
       "model_id": "a5441e321fc3431990a930a6329ba711",
       "version_major": 2,
       "version_minor": 0
      },
      "text/plain": [
       "Batches:   0%|          | 0/4 [00:00<?, ?it/s]"
      ]
     },
     "metadata": {},
     "output_type": "display_data"
    },
    {
     "data": {
      "application/vnd.jupyter.widget-view+json": {
       "model_id": "9f01f38d2b1f4c7b807b1d3c09551100",
       "version_major": 2,
       "version_minor": 0
      },
      "text/plain": [
       "Batches:   0%|          | 0/1 [00:00<?, ?it/s]"
      ]
     },
     "metadata": {},
     "output_type": "display_data"
    },
    {
     "data": {
      "application/vnd.jupyter.widget-view+json": {
       "model_id": "f5872d4ef81c4d3e885e82a8210eaac2",
       "version_major": 2,
       "version_minor": 0
      },
      "text/plain": [
       "Batches:   0%|          | 0/4 [00:00<?, ?it/s]"
      ]
     },
     "metadata": {},
     "output_type": "display_data"
    },
    {
     "data": {
      "application/vnd.jupyter.widget-view+json": {
       "model_id": "52311fcfa8ac485f8921e8dd44ef2876",
       "version_major": 2,
       "version_minor": 0
      },
      "text/plain": [
       "Batches:   0%|          | 0/1 [00:00<?, ?it/s]"
      ]
     },
     "metadata": {},
     "output_type": "display_data"
    },
    {
     "data": {
      "application/vnd.jupyter.widget-view+json": {
       "model_id": "bd262ed60c144240bfc5a4f01f3c6008",
       "version_major": 2,
       "version_minor": 0
      },
      "text/plain": [
       "Batches:   0%|          | 0/4 [00:00<?, ?it/s]"
      ]
     },
     "metadata": {},
     "output_type": "display_data"
    },
    {
     "data": {
      "application/vnd.jupyter.widget-view+json": {
       "model_id": "933f246188d04dfb85b34f9a732ad996",
       "version_major": 2,
       "version_minor": 0
      },
      "text/plain": [
       "Batches:   0%|          | 0/1 [00:00<?, ?it/s]"
      ]
     },
     "metadata": {},
     "output_type": "display_data"
    },
    {
     "data": {
      "application/vnd.jupyter.widget-view+json": {
       "model_id": "e2a92210106c4892b710bbb972d556ba",
       "version_major": 2,
       "version_minor": 0
      },
      "text/plain": [
       "Batches:   0%|          | 0/4 [00:00<?, ?it/s]"
      ]
     },
     "metadata": {},
     "output_type": "display_data"
    },
    {
     "data": {
      "application/vnd.jupyter.widget-view+json": {
       "model_id": "47f3a4b2828e489cbd5298d9dd06c61b",
       "version_major": 2,
       "version_minor": 0
      },
      "text/plain": [
       "Batches:   0%|          | 0/1 [00:00<?, ?it/s]"
      ]
     },
     "metadata": {},
     "output_type": "display_data"
    },
    {
     "data": {
      "application/vnd.jupyter.widget-view+json": {
       "model_id": "c33448eb48f147d69bd39b56349c38b5",
       "version_major": 2,
       "version_minor": 0
      },
      "text/plain": [
       "Batches:   0%|          | 0/4 [00:00<?, ?it/s]"
      ]
     },
     "metadata": {},
     "output_type": "display_data"
    },
    {
     "data": {
      "application/vnd.jupyter.widget-view+json": {
       "model_id": "f9a78ec37bc14997a128a5c5832f6137",
       "version_major": 2,
       "version_minor": 0
      },
      "text/plain": [
       "Batches:   0%|          | 0/1 [00:00<?, ?it/s]"
      ]
     },
     "metadata": {},
     "output_type": "display_data"
    },
    {
     "data": {
      "application/vnd.jupyter.widget-view+json": {
       "model_id": "95138a8b473c4e66ba4c899311e275ad",
       "version_major": 2,
       "version_minor": 0
      },
      "text/plain": [
       "Batches:   0%|          | 0/4 [00:00<?, ?it/s]"
      ]
     },
     "metadata": {},
     "output_type": "display_data"
    },
    {
     "data": {
      "application/vnd.jupyter.widget-view+json": {
       "model_id": "cf1e232b533c482ba2b674cff48d422c",
       "version_major": 2,
       "version_minor": 0
      },
      "text/plain": [
       "Batches:   0%|          | 0/1 [00:00<?, ?it/s]"
      ]
     },
     "metadata": {},
     "output_type": "display_data"
    },
    {
     "data": {
      "application/vnd.jupyter.widget-view+json": {
       "model_id": "5cd7757280544dacbe5fa342ea0c02a1",
       "version_major": 2,
       "version_minor": 0
      },
      "text/plain": [
       "Batches:   0%|          | 0/4 [00:00<?, ?it/s]"
      ]
     },
     "metadata": {},
     "output_type": "display_data"
    },
    {
     "data": {
      "application/vnd.jupyter.widget-view+json": {
       "model_id": "a8f1601bb09847a29db7c89edc101d39",
       "version_major": 2,
       "version_minor": 0
      },
      "text/plain": [
       "Batches:   0%|          | 0/1 [00:00<?, ?it/s]"
      ]
     },
     "metadata": {},
     "output_type": "display_data"
    },
    {
     "data": {
      "application/vnd.jupyter.widget-view+json": {
       "model_id": "d60db54cd2a64ecab797abded00b6541",
       "version_major": 2,
       "version_minor": 0
      },
      "text/plain": [
       "Batches:   0%|          | 0/4 [00:00<?, ?it/s]"
      ]
     },
     "metadata": {},
     "output_type": "display_data"
    },
    {
     "name": "stdout",
     "output_type": "stream",
     "text": [
      "loaded predictions for 932 arguments\n",
      "Evaluating roberta-large-final-model-fold-4-2023-07-03_15-52-27:\n",
      "mAP strict= 0.8848682333231876 ; mAP relaxed = 0.9932914042757078\n"
     ]
    }
   ],
   "source": [
    "from sentence_transformers import SentenceTransformer, InputExample, LoggingHandler, losses, models, util\n",
    "import torch\n",
    "from track_1_kp_matching import *\n",
    "# testing wheter prediction work on the dev data\n",
    "test_keypoints_df = pd.read_csv('../../KPA_2021_shared_task/kpm_data/key_points_dev.csv')\n",
    "test_arguments_df = pd.read_csv('../../KPA_2021_shared_task/kpm_data/arguments_dev.csv')\n",
    "preds_df = predict_and_evaluate(test_arguments_df, test_keypoints_df,  '../../KPA_2021_shared_task/kpm_data', 'dev')"
   ]
  },
  {
   "cell_type": "code",
   "execution_count": 23,
   "metadata": {},
   "outputs": [],
   "source": [
    "final_pred_df = preds_df[models_list[0].split('/')[-1]].copy()\n",
    "final_pred_df['score1'] = preds_df[models_list[1].split('/')[-1]]['score']\n",
    "final_pred_df['score2'] = preds_df[models_list[2].split('/')[-1]]['score']\n",
    "final_pred_df['score3'] = preds_df[models_list[3].split('/')[-1]]['score']\n",
    "final_pred_df['score4'] = preds_df[models_list[3].split('/')[-1]]['score']\n",
    "final_pred_df['score']   = final_pred_df.apply(lambda row: np.mean([row['score'], row['score1'], row['score2'], row['score3'], row['score4']]), axis=1)"
   ]
  },
  {
   "cell_type": "code",
   "execution_count": 24,
   "metadata": {},
   "outputs": [
    {
     "data": {
      "text/html": [
       "<div>\n",
       "<style scoped>\n",
       "    .dataframe tbody tr th:only-of-type {\n",
       "        vertical-align: middle;\n",
       "    }\n",
       "\n",
       "    .dataframe tbody tr th {\n",
       "        vertical-align: top;\n",
       "    }\n",
       "\n",
       "    .dataframe thead th {\n",
       "        text-align: right;\n",
       "    }\n",
       "</style>\n",
       "<table border=\"1\" class=\"dataframe\">\n",
       "  <thead>\n",
       "    <tr style=\"text-align: right;\">\n",
       "      <th></th>\n",
       "      <th>arg_id</th>\n",
       "      <th>topic</th>\n",
       "      <th>stance</th>\n",
       "      <th>key_point_id</th>\n",
       "      <th>score</th>\n",
       "      <th>label</th>\n",
       "      <th>label_strict</th>\n",
       "      <th>label_relaxed</th>\n",
       "      <th>score1</th>\n",
       "      <th>score2</th>\n",
       "      <th>score3</th>\n",
       "      <th>score4</th>\n",
       "    </tr>\n",
       "  </thead>\n",
       "  <tbody>\n",
       "    <tr>\n",
       "      <th>0</th>\n",
       "      <td>arg_4_0</td>\n",
       "      <td>We should abandon the use of school uniform</td>\n",
       "      <td>-1</td>\n",
       "      <td>kp_4_1</td>\n",
       "      <td>0.912448</td>\n",
       "      <td>1.0</td>\n",
       "      <td>1.0</td>\n",
       "      <td>1.0</td>\n",
       "      <td>0.986386</td>\n",
       "      <td>0.900745</td>\n",
       "      <td>0.918817</td>\n",
       "      <td>0.918817</td>\n",
       "    </tr>\n",
       "    <tr>\n",
       "      <th>1</th>\n",
       "      <td>arg_4_1</td>\n",
       "      <td>We should abandon the use of school uniform</td>\n",
       "      <td>-1</td>\n",
       "      <td>kp_4_2</td>\n",
       "      <td>0.836688</td>\n",
       "      <td>1.0</td>\n",
       "      <td>1.0</td>\n",
       "      <td>1.0</td>\n",
       "      <td>0.962031</td>\n",
       "      <td>0.910586</td>\n",
       "      <td>0.773339</td>\n",
       "      <td>0.773339</td>\n",
       "    </tr>\n",
       "    <tr>\n",
       "      <th>2</th>\n",
       "      <td>arg_4_2</td>\n",
       "      <td>We should abandon the use of school uniform</td>\n",
       "      <td>-1</td>\n",
       "      <td>kp_4_3</td>\n",
       "      <td>0.905298</td>\n",
       "      <td>1.0</td>\n",
       "      <td>1.0</td>\n",
       "      <td>1.0</td>\n",
       "      <td>0.978076</td>\n",
       "      <td>0.849650</td>\n",
       "      <td>0.904299</td>\n",
       "      <td>0.904299</td>\n",
       "    </tr>\n",
       "    <tr>\n",
       "      <th>3</th>\n",
       "      <td>arg_4_3</td>\n",
       "      <td>We should abandon the use of school uniform</td>\n",
       "      <td>-1</td>\n",
       "      <td>kp_4_3</td>\n",
       "      <td>0.949089</td>\n",
       "      <td>1.0</td>\n",
       "      <td>1.0</td>\n",
       "      <td>1.0</td>\n",
       "      <td>0.982908</td>\n",
       "      <td>0.918987</td>\n",
       "      <td>0.955536</td>\n",
       "      <td>0.955536</td>\n",
       "    </tr>\n",
       "    <tr>\n",
       "      <th>4</th>\n",
       "      <td>arg_4_4</td>\n",
       "      <td>We should abandon the use of school uniform</td>\n",
       "      <td>-1</td>\n",
       "      <td>kp_4_2</td>\n",
       "      <td>0.932260</td>\n",
       "      <td>1.0</td>\n",
       "      <td>1.0</td>\n",
       "      <td>1.0</td>\n",
       "      <td>0.978586</td>\n",
       "      <td>0.910103</td>\n",
       "      <td>0.959230</td>\n",
       "      <td>0.959230</td>\n",
       "    </tr>\n",
       "  </tbody>\n",
       "</table>\n",
       "</div>"
      ],
      "text/plain": [
       "    arg_id                                        topic  stance key_point_id  \\\n",
       "0  arg_4_0  We should abandon the use of school uniform      -1       kp_4_1   \n",
       "1  arg_4_1  We should abandon the use of school uniform      -1       kp_4_2   \n",
       "2  arg_4_2  We should abandon the use of school uniform      -1       kp_4_3   \n",
       "3  arg_4_3  We should abandon the use of school uniform      -1       kp_4_3   \n",
       "4  arg_4_4  We should abandon the use of school uniform      -1       kp_4_2   \n",
       "\n",
       "      score  label  label_strict  label_relaxed    score1    score2    score3  \\\n",
       "0  0.912448    1.0           1.0            1.0  0.986386  0.900745  0.918817   \n",
       "1  0.836688    1.0           1.0            1.0  0.962031  0.910586  0.773339   \n",
       "2  0.905298    1.0           1.0            1.0  0.978076  0.849650  0.904299   \n",
       "3  0.949089    1.0           1.0            1.0  0.982908  0.918987  0.955536   \n",
       "4  0.932260    1.0           1.0            1.0  0.978586  0.910103  0.959230   \n",
       "\n",
       "     score4  \n",
       "0  0.918817  \n",
       "1  0.773339  \n",
       "2  0.904299  \n",
       "3  0.955536  \n",
       "4  0.959230  "
      ]
     },
     "execution_count": 24,
     "metadata": {},
     "output_type": "execute_result"
    }
   ],
   "source": [
    "final_pred_df.head()"
   ]
  },
  {
   "cell_type": "code",
   "execution_count": 26,
   "metadata": {},
   "outputs": [],
   "source": [
    "final_pred_df.to_pickle('../../data/dev_argument_keypoint_predicted_scores.pkl')"
   ]
  },
  {
   "cell_type": "code",
   "execution_count": 27,
   "metadata": {
    "scrolled": true,
    "tags": []
   },
   "outputs": [
    {
     "name": "stdout",
     "output_type": "stream",
     "text": [
      "2023-07-05 14:47:00 - Load pretrained SentenceTransformer: /mnt/ceph/storage/data-in-progress/data-research/arguana/arg-generation/keypoint-analysis-sharedtask/final-experiment/roberta-large-final-model-fold-0-2023-07-03_14-50-42\n",
      "2023-07-05 14:47:02 - Use pytorch device: cuda\n"
     ]
    },
    {
     "data": {
      "application/vnd.jupyter.widget-view+json": {
       "model_id": "42c0bef4d7ab426686fccc8b89bd90bb",
       "version_major": 2,
       "version_minor": 0
      },
      "text/plain": [
       "Batches:   0%|          | 0/1 [00:00<?, ?it/s]"
      ]
     },
     "metadata": {},
     "output_type": "display_data"
    },
    {
     "data": {
      "application/vnd.jupyter.widget-view+json": {
       "model_id": "4f792808bdd74fd8857bd42617328281",
       "version_major": 2,
       "version_minor": 0
      },
      "text/plain": [
       "Batches:   0%|          | 0/4 [00:00<?, ?it/s]"
      ]
     },
     "metadata": {},
     "output_type": "display_data"
    },
    {
     "data": {
      "application/vnd.jupyter.widget-view+json": {
       "model_id": "e812433b03cf4d02a07c57776b9446e2",
       "version_major": 2,
       "version_minor": 0
      },
      "text/plain": [
       "Batches:   0%|          | 0/1 [00:00<?, ?it/s]"
      ]
     },
     "metadata": {},
     "output_type": "display_data"
    },
    {
     "data": {
      "application/vnd.jupyter.widget-view+json": {
       "model_id": "6df12bca96654b8fb0dfb6cfa102fa3a",
       "version_major": 2,
       "version_minor": 0
      },
      "text/plain": [
       "Batches:   0%|          | 0/6 [00:00<?, ?it/s]"
      ]
     },
     "metadata": {},
     "output_type": "display_data"
    },
    {
     "data": {
      "application/vnd.jupyter.widget-view+json": {
       "model_id": "b09d847278fc48e69d263b0e2b723ebe",
       "version_major": 2,
       "version_minor": 0
      },
      "text/plain": [
       "Batches:   0%|          | 0/1 [00:00<?, ?it/s]"
      ]
     },
     "metadata": {},
     "output_type": "display_data"
    },
    {
     "data": {
      "application/vnd.jupyter.widget-view+json": {
       "model_id": "ef3d1d1e4a584ccbb5d861dc0b67af66",
       "version_major": 2,
       "version_minor": 0
      },
      "text/plain": [
       "Batches:   0%|          | 0/4 [00:00<?, ?it/s]"
      ]
     },
     "metadata": {},
     "output_type": "display_data"
    },
    {
     "data": {
      "application/vnd.jupyter.widget-view+json": {
       "model_id": "d8e137b094c542ef8a17ecd62c1787c5",
       "version_major": 2,
       "version_minor": 0
      },
      "text/plain": [
       "Batches:   0%|          | 0/1 [00:00<?, ?it/s]"
      ]
     },
     "metadata": {},
     "output_type": "display_data"
    },
    {
     "data": {
      "application/vnd.jupyter.widget-view+json": {
       "model_id": "fc5b582c068646d9a7f7e1734469ed09",
       "version_major": 2,
       "version_minor": 0
      },
      "text/plain": [
       "Batches:   0%|          | 0/5 [00:00<?, ?it/s]"
      ]
     },
     "metadata": {},
     "output_type": "display_data"
    },
    {
     "data": {
      "application/vnd.jupyter.widget-view+json": {
       "model_id": "deb7b19dd8dd47aa8f9e87aac71a3a27",
       "version_major": 2,
       "version_minor": 0
      },
      "text/plain": [
       "Batches:   0%|          | 0/1 [00:00<?, ?it/s]"
      ]
     },
     "metadata": {},
     "output_type": "display_data"
    },
    {
     "data": {
      "application/vnd.jupyter.widget-view+json": {
       "model_id": "b64cfe359b8c412da1af6360e65642ff",
       "version_major": 2,
       "version_minor": 0
      },
      "text/plain": [
       "Batches:   0%|          | 0/3 [00:00<?, ?it/s]"
      ]
     },
     "metadata": {},
     "output_type": "display_data"
    },
    {
     "data": {
      "application/vnd.jupyter.widget-view+json": {
       "model_id": "a45dbd924d004390a01ea3dff9e2868f",
       "version_major": 2,
       "version_minor": 0
      },
      "text/plain": [
       "Batches:   0%|          | 0/1 [00:00<?, ?it/s]"
      ]
     },
     "metadata": {},
     "output_type": "display_data"
    },
    {
     "data": {
      "application/vnd.jupyter.widget-view+json": {
       "model_id": "d66fd31f67f343f9ad035eb270a9d107",
       "version_major": 2,
       "version_minor": 0
      },
      "text/plain": [
       "Batches:   0%|          | 0/5 [00:00<?, ?it/s]"
      ]
     },
     "metadata": {},
     "output_type": "display_data"
    },
    {
     "name": "stdout",
     "output_type": "stream",
     "text": [
      "loaded predictions for 723 arguments\n",
      "2023-07-05 14:47:03 - Load pretrained SentenceTransformer: /mnt/ceph/storage/data-in-progress/data-research/arguana/arg-generation/keypoint-analysis-sharedtask/final-experiment/roberta-large-final-model-fold-1-2023-07-03_15-07-56\n",
      "2023-07-05 14:47:05 - Use pytorch device: cuda\n"
     ]
    },
    {
     "data": {
      "application/vnd.jupyter.widget-view+json": {
       "model_id": "af0e72e9f6194999a655c1733faf0d9a",
       "version_major": 2,
       "version_minor": 0
      },
      "text/plain": [
       "Batches:   0%|          | 0/1 [00:00<?, ?it/s]"
      ]
     },
     "metadata": {},
     "output_type": "display_data"
    },
    {
     "data": {
      "application/vnd.jupyter.widget-view+json": {
       "model_id": "cf24cca5fcb740bfb2e7abe5af6226b5",
       "version_major": 2,
       "version_minor": 0
      },
      "text/plain": [
       "Batches:   0%|          | 0/4 [00:00<?, ?it/s]"
      ]
     },
     "metadata": {},
     "output_type": "display_data"
    },
    {
     "data": {
      "application/vnd.jupyter.widget-view+json": {
       "model_id": "88c7bce699fc4930bbdc1d0a10ab386f",
       "version_major": 2,
       "version_minor": 0
      },
      "text/plain": [
       "Batches:   0%|          | 0/1 [00:00<?, ?it/s]"
      ]
     },
     "metadata": {},
     "output_type": "display_data"
    },
    {
     "data": {
      "application/vnd.jupyter.widget-view+json": {
       "model_id": "3ae2c0714ce14f6bad8d6c5c3f7f2c30",
       "version_major": 2,
       "version_minor": 0
      },
      "text/plain": [
       "Batches:   0%|          | 0/6 [00:00<?, ?it/s]"
      ]
     },
     "metadata": {},
     "output_type": "display_data"
    },
    {
     "data": {
      "application/vnd.jupyter.widget-view+json": {
       "model_id": "b568fce8e30c4f2eb53d58ccedf39b6c",
       "version_major": 2,
       "version_minor": 0
      },
      "text/plain": [
       "Batches:   0%|          | 0/1 [00:00<?, ?it/s]"
      ]
     },
     "metadata": {},
     "output_type": "display_data"
    },
    {
     "data": {
      "application/vnd.jupyter.widget-view+json": {
       "model_id": "2ee667d71b6946e3b4d2088bfff2efeb",
       "version_major": 2,
       "version_minor": 0
      },
      "text/plain": [
       "Batches:   0%|          | 0/4 [00:00<?, ?it/s]"
      ]
     },
     "metadata": {},
     "output_type": "display_data"
    },
    {
     "data": {
      "application/vnd.jupyter.widget-view+json": {
       "model_id": "b2205cd215974b23931f0840e2a6b81a",
       "version_major": 2,
       "version_minor": 0
      },
      "text/plain": [
       "Batches:   0%|          | 0/1 [00:00<?, ?it/s]"
      ]
     },
     "metadata": {},
     "output_type": "display_data"
    },
    {
     "data": {
      "application/vnd.jupyter.widget-view+json": {
       "model_id": "b040a5d691a04c64984fd8c5e5dbde83",
       "version_major": 2,
       "version_minor": 0
      },
      "text/plain": [
       "Batches:   0%|          | 0/5 [00:00<?, ?it/s]"
      ]
     },
     "metadata": {},
     "output_type": "display_data"
    },
    {
     "data": {
      "application/vnd.jupyter.widget-view+json": {
       "model_id": "357ce508014b48eabbd3cf813732bc1a",
       "version_major": 2,
       "version_minor": 0
      },
      "text/plain": [
       "Batches:   0%|          | 0/1 [00:00<?, ?it/s]"
      ]
     },
     "metadata": {},
     "output_type": "display_data"
    },
    {
     "data": {
      "application/vnd.jupyter.widget-view+json": {
       "model_id": "6eec6fb7e80a4499b641a127090e437e",
       "version_major": 2,
       "version_minor": 0
      },
      "text/plain": [
       "Batches:   0%|          | 0/3 [00:00<?, ?it/s]"
      ]
     },
     "metadata": {},
     "output_type": "display_data"
    },
    {
     "data": {
      "application/vnd.jupyter.widget-view+json": {
       "model_id": "089a195c764f473a9f88dc3b3e187460",
       "version_major": 2,
       "version_minor": 0
      },
      "text/plain": [
       "Batches:   0%|          | 0/1 [00:00<?, ?it/s]"
      ]
     },
     "metadata": {},
     "output_type": "display_data"
    },
    {
     "data": {
      "application/vnd.jupyter.widget-view+json": {
       "model_id": "d039ec47820a402393f695091995abb2",
       "version_major": 2,
       "version_minor": 0
      },
      "text/plain": [
       "Batches:   0%|          | 0/5 [00:00<?, ?it/s]"
      ]
     },
     "metadata": {},
     "output_type": "display_data"
    },
    {
     "name": "stdout",
     "output_type": "stream",
     "text": [
      "loaded predictions for 723 arguments\n",
      "2023-07-05 14:47:06 - Load pretrained SentenceTransformer: /mnt/ceph/storage/data-in-progress/data-research/arguana/arg-generation/keypoint-analysis-sharedtask/final-experiment/roberta-large-final-model-fold-2-2023-07-03_15-22-51\n",
      "2023-07-05 14:47:08 - Use pytorch device: cuda\n"
     ]
    },
    {
     "data": {
      "application/vnd.jupyter.widget-view+json": {
       "model_id": "0aeda5d91bba49e7b699cd71b6b92680",
       "version_major": 2,
       "version_minor": 0
      },
      "text/plain": [
       "Batches:   0%|          | 0/1 [00:00<?, ?it/s]"
      ]
     },
     "metadata": {},
     "output_type": "display_data"
    },
    {
     "data": {
      "application/vnd.jupyter.widget-view+json": {
       "model_id": "1a17ae65b7aa49728a79c01b43915955",
       "version_major": 2,
       "version_minor": 0
      },
      "text/plain": [
       "Batches:   0%|          | 0/4 [00:00<?, ?it/s]"
      ]
     },
     "metadata": {},
     "output_type": "display_data"
    },
    {
     "data": {
      "application/vnd.jupyter.widget-view+json": {
       "model_id": "63a2b681e41e480b92e9c7451e532cb7",
       "version_major": 2,
       "version_minor": 0
      },
      "text/plain": [
       "Batches:   0%|          | 0/1 [00:00<?, ?it/s]"
      ]
     },
     "metadata": {},
     "output_type": "display_data"
    },
    {
     "data": {
      "application/vnd.jupyter.widget-view+json": {
       "model_id": "8fb839fdae1b4bd8bfc0f4cf970791b8",
       "version_major": 2,
       "version_minor": 0
      },
      "text/plain": [
       "Batches:   0%|          | 0/6 [00:00<?, ?it/s]"
      ]
     },
     "metadata": {},
     "output_type": "display_data"
    },
    {
     "data": {
      "application/vnd.jupyter.widget-view+json": {
       "model_id": "aabefe191a00448199616c2bd6228be3",
       "version_major": 2,
       "version_minor": 0
      },
      "text/plain": [
       "Batches:   0%|          | 0/1 [00:00<?, ?it/s]"
      ]
     },
     "metadata": {},
     "output_type": "display_data"
    },
    {
     "data": {
      "application/vnd.jupyter.widget-view+json": {
       "model_id": "3695e25049de440cbb121a2c84d7aeaa",
       "version_major": 2,
       "version_minor": 0
      },
      "text/plain": [
       "Batches:   0%|          | 0/4 [00:00<?, ?it/s]"
      ]
     },
     "metadata": {},
     "output_type": "display_data"
    },
    {
     "data": {
      "application/vnd.jupyter.widget-view+json": {
       "model_id": "2561329fa95b429fb46cf698f45256bd",
       "version_major": 2,
       "version_minor": 0
      },
      "text/plain": [
       "Batches:   0%|          | 0/1 [00:00<?, ?it/s]"
      ]
     },
     "metadata": {},
     "output_type": "display_data"
    },
    {
     "data": {
      "application/vnd.jupyter.widget-view+json": {
       "model_id": "22ecbc48e79c431d82b31e95f78726fa",
       "version_major": 2,
       "version_minor": 0
      },
      "text/plain": [
       "Batches:   0%|          | 0/5 [00:00<?, ?it/s]"
      ]
     },
     "metadata": {},
     "output_type": "display_data"
    },
    {
     "data": {
      "application/vnd.jupyter.widget-view+json": {
       "model_id": "b4f9c2288ac14c8fbc8c86c6434cea52",
       "version_major": 2,
       "version_minor": 0
      },
      "text/plain": [
       "Batches:   0%|          | 0/1 [00:00<?, ?it/s]"
      ]
     },
     "metadata": {},
     "output_type": "display_data"
    },
    {
     "data": {
      "application/vnd.jupyter.widget-view+json": {
       "model_id": "96b19661cfae486a9513c99b372f79ea",
       "version_major": 2,
       "version_minor": 0
      },
      "text/plain": [
       "Batches:   0%|          | 0/3 [00:00<?, ?it/s]"
      ]
     },
     "metadata": {},
     "output_type": "display_data"
    },
    {
     "data": {
      "application/vnd.jupyter.widget-view+json": {
       "model_id": "486fca72b73246a6b23dccf4d342c039",
       "version_major": 2,
       "version_minor": 0
      },
      "text/plain": [
       "Batches:   0%|          | 0/1 [00:00<?, ?it/s]"
      ]
     },
     "metadata": {},
     "output_type": "display_data"
    },
    {
     "data": {
      "application/vnd.jupyter.widget-view+json": {
       "model_id": "a8fe4129f60c492c8d3aec4703ba1619",
       "version_major": 2,
       "version_minor": 0
      },
      "text/plain": [
       "Batches:   0%|          | 0/5 [00:00<?, ?it/s]"
      ]
     },
     "metadata": {},
     "output_type": "display_data"
    },
    {
     "name": "stdout",
     "output_type": "stream",
     "text": [
      "loaded predictions for 723 arguments\n",
      "2023-07-05 14:47:09 - Load pretrained SentenceTransformer: /mnt/ceph/storage/data-in-progress/data-research/arguana/arg-generation/keypoint-analysis-sharedtask/final-experiment/roberta-large-final-model-fold-3-2023-07-03_15-37-30\n",
      "2023-07-05 14:47:11 - Use pytorch device: cuda\n"
     ]
    },
    {
     "data": {
      "application/vnd.jupyter.widget-view+json": {
       "model_id": "827f2c151c274c25967b75ffabac1a6d",
       "version_major": 2,
       "version_minor": 0
      },
      "text/plain": [
       "Batches:   0%|          | 0/1 [00:00<?, ?it/s]"
      ]
     },
     "metadata": {},
     "output_type": "display_data"
    },
    {
     "data": {
      "application/vnd.jupyter.widget-view+json": {
       "model_id": "2f6480821f3841b6b172e26ee9c8e51d",
       "version_major": 2,
       "version_minor": 0
      },
      "text/plain": [
       "Batches:   0%|          | 0/4 [00:00<?, ?it/s]"
      ]
     },
     "metadata": {},
     "output_type": "display_data"
    },
    {
     "data": {
      "application/vnd.jupyter.widget-view+json": {
       "model_id": "748b16cb123042538f44926bc1c126fa",
       "version_major": 2,
       "version_minor": 0
      },
      "text/plain": [
       "Batches:   0%|          | 0/1 [00:00<?, ?it/s]"
      ]
     },
     "metadata": {},
     "output_type": "display_data"
    },
    {
     "data": {
      "application/vnd.jupyter.widget-view+json": {
       "model_id": "e623acbdd88943f19f702cda2ed9b5b2",
       "version_major": 2,
       "version_minor": 0
      },
      "text/plain": [
       "Batches:   0%|          | 0/6 [00:00<?, ?it/s]"
      ]
     },
     "metadata": {},
     "output_type": "display_data"
    },
    {
     "data": {
      "application/vnd.jupyter.widget-view+json": {
       "model_id": "b3006610dcf9497d8029fc5015d6fb1c",
       "version_major": 2,
       "version_minor": 0
      },
      "text/plain": [
       "Batches:   0%|          | 0/1 [00:00<?, ?it/s]"
      ]
     },
     "metadata": {},
     "output_type": "display_data"
    },
    {
     "data": {
      "application/vnd.jupyter.widget-view+json": {
       "model_id": "413bed31ab4f489db371e931301bf278",
       "version_major": 2,
       "version_minor": 0
      },
      "text/plain": [
       "Batches:   0%|          | 0/4 [00:00<?, ?it/s]"
      ]
     },
     "metadata": {},
     "output_type": "display_data"
    },
    {
     "data": {
      "application/vnd.jupyter.widget-view+json": {
       "model_id": "0c28b49496404e7eaeab9e0e6434cdec",
       "version_major": 2,
       "version_minor": 0
      },
      "text/plain": [
       "Batches:   0%|          | 0/1 [00:00<?, ?it/s]"
      ]
     },
     "metadata": {},
     "output_type": "display_data"
    },
    {
     "data": {
      "application/vnd.jupyter.widget-view+json": {
       "model_id": "6d2c0f94e22f4493bae838b62f2b6569",
       "version_major": 2,
       "version_minor": 0
      },
      "text/plain": [
       "Batches:   0%|          | 0/5 [00:00<?, ?it/s]"
      ]
     },
     "metadata": {},
     "output_type": "display_data"
    },
    {
     "data": {
      "application/vnd.jupyter.widget-view+json": {
       "model_id": "df10c4a58efb4cdbbbfc49a77cc28de8",
       "version_major": 2,
       "version_minor": 0
      },
      "text/plain": [
       "Batches:   0%|          | 0/1 [00:00<?, ?it/s]"
      ]
     },
     "metadata": {},
     "output_type": "display_data"
    },
    {
     "data": {
      "application/vnd.jupyter.widget-view+json": {
       "model_id": "87be12c336c34f96985e7726c5a9fae0",
       "version_major": 2,
       "version_minor": 0
      },
      "text/plain": [
       "Batches:   0%|          | 0/3 [00:00<?, ?it/s]"
      ]
     },
     "metadata": {},
     "output_type": "display_data"
    },
    {
     "data": {
      "application/vnd.jupyter.widget-view+json": {
       "model_id": "5bfb8d3432494d22a051ebec5cd30f22",
       "version_major": 2,
       "version_minor": 0
      },
      "text/plain": [
       "Batches:   0%|          | 0/1 [00:00<?, ?it/s]"
      ]
     },
     "metadata": {},
     "output_type": "display_data"
    },
    {
     "data": {
      "application/vnd.jupyter.widget-view+json": {
       "model_id": "9be7e25b908745dcab8dd8f73d08e90e",
       "version_major": 2,
       "version_minor": 0
      },
      "text/plain": [
       "Batches:   0%|          | 0/5 [00:00<?, ?it/s]"
      ]
     },
     "metadata": {},
     "output_type": "display_data"
    },
    {
     "name": "stdout",
     "output_type": "stream",
     "text": [
      "loaded predictions for 723 arguments\n",
      "2023-07-05 14:47:12 - Load pretrained SentenceTransformer: /mnt/ceph/storage/data-in-progress/data-research/arguana/arg-generation/keypoint-analysis-sharedtask/final-experiment/roberta-large-final-model-fold-4-2023-07-03_15-52-27\n",
      "2023-07-05 14:47:14 - Use pytorch device: cuda\n"
     ]
    },
    {
     "data": {
      "application/vnd.jupyter.widget-view+json": {
       "model_id": "45d44c0566a0440380e079115eacf4f0",
       "version_major": 2,
       "version_minor": 0
      },
      "text/plain": [
       "Batches:   0%|          | 0/1 [00:00<?, ?it/s]"
      ]
     },
     "metadata": {},
     "output_type": "display_data"
    },
    {
     "data": {
      "application/vnd.jupyter.widget-view+json": {
       "model_id": "ecbb9b9f9cc84d2fab7b88e736ef8ddd",
       "version_major": 2,
       "version_minor": 0
      },
      "text/plain": [
       "Batches:   0%|          | 0/4 [00:00<?, ?it/s]"
      ]
     },
     "metadata": {},
     "output_type": "display_data"
    },
    {
     "data": {
      "application/vnd.jupyter.widget-view+json": {
       "model_id": "39fe3c4a204b41eca705b058db764aa3",
       "version_major": 2,
       "version_minor": 0
      },
      "text/plain": [
       "Batches:   0%|          | 0/1 [00:00<?, ?it/s]"
      ]
     },
     "metadata": {},
     "output_type": "display_data"
    },
    {
     "data": {
      "application/vnd.jupyter.widget-view+json": {
       "model_id": "fc0c9a0ba6a4417e83197a6c17d18630",
       "version_major": 2,
       "version_minor": 0
      },
      "text/plain": [
       "Batches:   0%|          | 0/6 [00:00<?, ?it/s]"
      ]
     },
     "metadata": {},
     "output_type": "display_data"
    },
    {
     "data": {
      "application/vnd.jupyter.widget-view+json": {
       "model_id": "f0c354c1fa0f46a3b0419b3d812e2e59",
       "version_major": 2,
       "version_minor": 0
      },
      "text/plain": [
       "Batches:   0%|          | 0/1 [00:00<?, ?it/s]"
      ]
     },
     "metadata": {},
     "output_type": "display_data"
    },
    {
     "data": {
      "application/vnd.jupyter.widget-view+json": {
       "model_id": "947fd863c5c94f879e0a5c5bf3d166b6",
       "version_major": 2,
       "version_minor": 0
      },
      "text/plain": [
       "Batches:   0%|          | 0/4 [00:00<?, ?it/s]"
      ]
     },
     "metadata": {},
     "output_type": "display_data"
    },
    {
     "data": {
      "application/vnd.jupyter.widget-view+json": {
       "model_id": "a53b9425376843279cd6a2470412006e",
       "version_major": 2,
       "version_minor": 0
      },
      "text/plain": [
       "Batches:   0%|          | 0/1 [00:00<?, ?it/s]"
      ]
     },
     "metadata": {},
     "output_type": "display_data"
    },
    {
     "data": {
      "application/vnd.jupyter.widget-view+json": {
       "model_id": "91eefdc5d06840d0ad99b2642c3a134a",
       "version_major": 2,
       "version_minor": 0
      },
      "text/plain": [
       "Batches:   0%|          | 0/5 [00:00<?, ?it/s]"
      ]
     },
     "metadata": {},
     "output_type": "display_data"
    },
    {
     "data": {
      "application/vnd.jupyter.widget-view+json": {
       "model_id": "3713c378458a46ae8e5fe59620ec8284",
       "version_major": 2,
       "version_minor": 0
      },
      "text/plain": [
       "Batches:   0%|          | 0/1 [00:00<?, ?it/s]"
      ]
     },
     "metadata": {},
     "output_type": "display_data"
    },
    {
     "data": {
      "application/vnd.jupyter.widget-view+json": {
       "model_id": "ab4d687db5ea4d71b1a9bc44bafd9ab7",
       "version_major": 2,
       "version_minor": 0
      },
      "text/plain": [
       "Batches:   0%|          | 0/3 [00:00<?, ?it/s]"
      ]
     },
     "metadata": {},
     "output_type": "display_data"
    },
    {
     "data": {
      "application/vnd.jupyter.widget-view+json": {
       "model_id": "80ed64f1226d4d4ea7bd4765cf2c28eb",
       "version_major": 2,
       "version_minor": 0
      },
      "text/plain": [
       "Batches:   0%|          | 0/1 [00:00<?, ?it/s]"
      ]
     },
     "metadata": {},
     "output_type": "display_data"
    },
    {
     "data": {
      "application/vnd.jupyter.widget-view+json": {
       "model_id": "bd8615d8721444bc99bdd55082f09dca",
       "version_major": 2,
       "version_minor": 0
      },
      "text/plain": [
       "Batches:   0%|          | 0/5 [00:00<?, ?it/s]"
      ]
     },
     "metadata": {},
     "output_type": "display_data"
    },
    {
     "name": "stdout",
     "output_type": "stream",
     "text": [
      "loaded predictions for 723 arguments\n"
     ]
    }
   ],
   "source": [
    "from sentence_transformers import SentenceTransformer, InputExample, LoggingHandler, losses, models, util\n",
    "import torch\n",
    "from track_1_kp_matching import *\n",
    "# predicting the test data\n",
    "test_keypoints_df = pd.read_csv('../../KPA_2021_shared_task/test_data/key_points_test.csv')\n",
    "test_arguments_df = pd.read_csv('../../KPA_2021_shared_task/test_data/arguments_test.csv')\n",
    "preds_df = predict_models(test_arguments_df, test_keypoints_df,  '../../data/cross-validation', 'test')"
   ]
  },
  {
   "cell_type": "code",
   "execution_count": 28,
   "metadata": {},
   "outputs": [],
   "source": [
    "final_pred_df = preds_df[models_list[0].split('/')[-1]].copy()\n",
    "final_pred_df['score1'] = preds_df[models_list[1].split('/')[-1]]['score']\n",
    "final_pred_df['score2'] = preds_df[models_list[2].split('/')[-1]]['score']\n",
    "final_pred_df['score3'] = preds_df[models_list[3].split('/')[-1]]['score']\n",
    "final_pred_df['score4'] = preds_df[models_list[3].split('/')[-1]]['score']\n",
    "final_pred_df['score']   = final_pred_df.apply(lambda row: np.mean([row['score'], row['score1'], row['score2'], row['score3'], row['score4']]), axis=1)"
   ]
  },
  {
   "cell_type": "code",
   "execution_count": 29,
   "metadata": {},
   "outputs": [
    {
     "data": {
      "text/html": [
       "<div>\n",
       "<style scoped>\n",
       "    .dataframe tbody tr th:only-of-type {\n",
       "        vertical-align: middle;\n",
       "    }\n",
       "\n",
       "    .dataframe tbody tr th {\n",
       "        vertical-align: top;\n",
       "    }\n",
       "\n",
       "    .dataframe thead th {\n",
       "        text-align: right;\n",
       "    }\n",
       "</style>\n",
       "<table border=\"1\" class=\"dataframe\">\n",
       "  <thead>\n",
       "    <tr style=\"text-align: right;\">\n",
       "      <th></th>\n",
       "      <th>arg_id</th>\n",
       "      <th>topic</th>\n",
       "      <th>stance</th>\n",
       "      <th>key_point_id</th>\n",
       "      <th>score</th>\n",
       "      <th>Unnamed: 0</th>\n",
       "      <th>label</th>\n",
       "      <th>label_strict</th>\n",
       "      <th>label_relaxed</th>\n",
       "      <th>score1</th>\n",
       "      <th>score2</th>\n",
       "      <th>score3</th>\n",
       "      <th>score4</th>\n",
       "    </tr>\n",
       "  </thead>\n",
       "  <tbody>\n",
       "    <tr>\n",
       "      <th>0</th>\n",
       "      <td>arg_1_0</td>\n",
       "      <td>Homeschooling should be banned</td>\n",
       "      <td>-1</td>\n",
       "      <td>kp_1_3</td>\n",
       "      <td>0.746209</td>\n",
       "      <td>1357.0</td>\n",
       "      <td>1.0</td>\n",
       "      <td>1.0</td>\n",
       "      <td>1.0</td>\n",
       "      <td>0.868329</td>\n",
       "      <td>0.763999</td>\n",
       "      <td>0.682272</td>\n",
       "      <td>0.682272</td>\n",
       "    </tr>\n",
       "    <tr>\n",
       "      <th>1</th>\n",
       "      <td>arg_1_1</td>\n",
       "      <td>Homeschooling should be banned</td>\n",
       "      <td>-1</td>\n",
       "      <td>kp_1_1</td>\n",
       "      <td>0.936784</td>\n",
       "      <td>1141.0</td>\n",
       "      <td>1.0</td>\n",
       "      <td>1.0</td>\n",
       "      <td>1.0</td>\n",
       "      <td>0.955544</td>\n",
       "      <td>0.942282</td>\n",
       "      <td>0.923475</td>\n",
       "      <td>0.923475</td>\n",
       "    </tr>\n",
       "    <tr>\n",
       "      <th>2</th>\n",
       "      <td>arg_1_2</td>\n",
       "      <td>Homeschooling should be banned</td>\n",
       "      <td>-1</td>\n",
       "      <td>kp_1_2</td>\n",
       "      <td>0.969901</td>\n",
       "      <td>1234.0</td>\n",
       "      <td>0.0</td>\n",
       "      <td>0.0</td>\n",
       "      <td>0.0</td>\n",
       "      <td>0.992001</td>\n",
       "      <td>0.975318</td>\n",
       "      <td>0.977233</td>\n",
       "      <td>0.977233</td>\n",
       "    </tr>\n",
       "    <tr>\n",
       "      <th>3</th>\n",
       "      <td>arg_1_3</td>\n",
       "      <td>Homeschooling should be banned</td>\n",
       "      <td>-1</td>\n",
       "      <td>kp_1_2</td>\n",
       "      <td>0.965106</td>\n",
       "      <td>1235.0</td>\n",
       "      <td>0.0</td>\n",
       "      <td>0.0</td>\n",
       "      <td>0.0</td>\n",
       "      <td>0.993555</td>\n",
       "      <td>0.966211</td>\n",
       "      <td>0.983325</td>\n",
       "      <td>0.983325</td>\n",
       "    </tr>\n",
       "    <tr>\n",
       "      <th>4</th>\n",
       "      <td>arg_1_4</td>\n",
       "      <td>Homeschooling should be banned</td>\n",
       "      <td>-1</td>\n",
       "      <td>kp_1_2</td>\n",
       "      <td>0.796182</td>\n",
       "      <td>1236.0</td>\n",
       "      <td>0.0</td>\n",
       "      <td>0.0</td>\n",
       "      <td>0.0</td>\n",
       "      <td>0.876498</td>\n",
       "      <td>0.669439</td>\n",
       "      <td>0.805731</td>\n",
       "      <td>0.805731</td>\n",
       "    </tr>\n",
       "  </tbody>\n",
       "</table>\n",
       "</div>"
      ],
      "text/plain": [
       "    arg_id                           topic  stance key_point_id     score  \\\n",
       "0  arg_1_0  Homeschooling should be banned      -1       kp_1_3  0.746209   \n",
       "1  arg_1_1  Homeschooling should be banned      -1       kp_1_1  0.936784   \n",
       "2  arg_1_2  Homeschooling should be banned      -1       kp_1_2  0.969901   \n",
       "3  arg_1_3  Homeschooling should be banned      -1       kp_1_2  0.965106   \n",
       "4  arg_1_4  Homeschooling should be banned      -1       kp_1_2  0.796182   \n",
       "\n",
       "   Unnamed: 0  label  label_strict  label_relaxed    score1    score2  \\\n",
       "0      1357.0    1.0           1.0            1.0  0.868329  0.763999   \n",
       "1      1141.0    1.0           1.0            1.0  0.955544  0.942282   \n",
       "2      1234.0    0.0           0.0            0.0  0.992001  0.975318   \n",
       "3      1235.0    0.0           0.0            0.0  0.993555  0.966211   \n",
       "4      1236.0    0.0           0.0            0.0  0.876498  0.669439   \n",
       "\n",
       "     score3    score4  \n",
       "0  0.682272  0.682272  \n",
       "1  0.923475  0.923475  \n",
       "2  0.977233  0.977233  \n",
       "3  0.983325  0.983325  \n",
       "4  0.805731  0.805731  "
      ]
     },
     "execution_count": 29,
     "metadata": {},
     "output_type": "execute_result"
    }
   ],
   "source": [
    "final_pred_df.head()"
   ]
  },
  {
   "cell_type": "code",
   "execution_count": 30,
   "metadata": {},
   "outputs": [],
   "source": [
    "final_pred_df.to_pickle('../../data/test_argument_keypoint_predicted_scores.pkl')"
   ]
  },
  {
   "cell_type": "code",
   "execution_count": null,
   "metadata": {},
   "outputs": [],
   "source": []
  }
 ],
 "metadata": {
  "kernelspec": {
   "display_name": "Python 3",
   "language": "python",
   "name": "python3"
  },
  "language_info": {
   "codemirror_mode": {
    "name": "ipython",
    "version": 3
   },
   "file_extension": ".py",
   "mimetype": "text/x-python",
   "name": "python",
   "nbconvert_exporter": "python",
   "pygments_lexer": "ipython3",
   "version": "3.8.10"
  }
 },
 "nbformat": 4,
 "nbformat_minor": 4
}
