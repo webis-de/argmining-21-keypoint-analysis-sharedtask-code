{
 "cells": [
  {
   "cell_type": "code",
   "execution_count": 1,
   "id": "333830a6-c203-4276-8c9f-e6bcfe4ad787",
   "metadata": {},
   "outputs": [],
   "source": [
    "import json\n",
    "import pandas as pd\n",
    "import numpy as np\n",
    "import matplotlib.pyplot as plt\n",
    "\n",
    "pd.set_option('display.max_colwidth', None)"
   ]
  },
  {
   "cell_type": "code",
   "execution_count": 2,
   "id": "36de71e7-6132-4127-b2a0-96d1ef15af8e",
   "metadata": {},
   "outputs": [],
   "source": [
    "training_df = pd.read_csv('../../data/training_df.csv')\n",
    "valid_df = pd.read_csv('../../data/our_valid.csv')"
   ]
  },
  {
   "cell_type": "markdown",
   "id": "d3dd6803-1787-40e2-a853-6ef63037aa36",
   "metadata": {},
   "source": [
    "-------------"
   ]
  },
  {
   "cell_type": "markdown",
   "id": "fe3efa9e-c2a7-468d-934f-4c8f04325dff",
   "metadata": {},
   "source": [
    "### Training:"
   ]
  },
  {
   "cell_type": "code",
   "execution_count": 3,
   "id": "e4aee413-213c-48fb-97ec-1f5377c2f392",
   "metadata": {},
   "outputs": [],
   "source": [
    "%load_ext autoreload"
   ]
  },
  {
   "cell_type": "code",
   "execution_count": 4,
   "id": "9926c22f-838f-4361-bd2e-d16241995fc1",
   "metadata": {},
   "outputs": [],
   "source": [
    "%autoreload\n",
    "\n",
    "import sys\n",
    "import os\n",
    "\n",
    "os.environ['CUDA_VISIBLE_DEVICES'] = '5'\n",
    "sys.path.insert(0, \"../src-py\")\n",
    "\n",
    "import sbert_training"
   ]
  },
  {
   "cell_type": "markdown",
   "id": "13d0cdd7-f398-426f-a3ed-21674f42940b",
   "metadata": {},
   "source": [
    "#### Training on simple triplets:"
   ]
  },
  {
   "cell_type": "code",
   "execution_count": 31,
   "id": "2f3e1bfc-1925-4a4c-9e70-0ad8552df4dc",
   "metadata": {
    "scrolled": true,
    "tags": []
   },
   "outputs": [
    {
     "name": "stdout",
     "output_type": "stream",
     "text": [
      "2021-05-28 07:34:30 - Use pytorch device: cuda\n",
      "2021-05-28 07:34:30 - Read Triplet train dataset\n"
     ]
    },
    {
     "data": {
      "application/vnd.jupyter.widget-view+json": {
       "model_id": "c20a9141f4c146309070ba6ea873bc5f",
       "version_major": 2,
       "version_minor": 0
      },
      "text/plain": [
       "HBox(children=(FloatProgress(value=0.0, description='Epoch', max=3.0, style=ProgressStyle(description_width='i…"
      ]
     },
     "metadata": {},
     "output_type": "display_data"
    },
    {
     "data": {
      "application/vnd.jupyter.widget-view+json": {
       "model_id": "3d7fcc909e424dada9196d5803992e4f",
       "version_major": 2,
       "version_minor": 0
      },
      "text/plain": [
       "HBox(children=(FloatProgress(value=0.0, description='Iteration', max=1320.0, style=ProgressStyle(description_w…"
      ]
     },
     "metadata": {},
     "output_type": "display_data"
    },
    {
     "name": "stdout",
     "output_type": "stream",
     "text": [
      "2021-05-28 07:38:03 - TripletEvaluator: Evaluating the model on dev dataset in epoch 0 after 500 steps:\n",
      "mAP strict= 0.695245284185867 ; mAP relaxed = 0.8920278574954572\n",
      "2021-05-28 07:38:05 - mAP strict:   \t69.52\n",
      "2021-05-28 07:38:05 - mAP relaxed:   \t89.20\n",
      "2021-05-28 07:38:06 - Save model to /workspace/ceph_data/keypoint-analysis-sharedtask/siamese-models/bert-base-uncased-kp_as_anchor_topic_added_random_10_neg_samples-2021-05-28_07-34-25\n",
      "2021-05-28 07:41:34 - TripletEvaluator: Evaluating the model on dev dataset in epoch 0 after 1000 steps:\n",
      "mAP strict= 0.7401149019129322 ; mAP relaxed = 0.9100205341172857\n",
      "2021-05-28 07:41:36 - mAP strict:   \t74.01\n",
      "2021-05-28 07:41:36 - mAP relaxed:   \t91.00\n",
      "2021-05-28 07:41:37 - Save model to /workspace/ceph_data/keypoint-analysis-sharedtask/siamese-models/bert-base-uncased-kp_as_anchor_topic_added_random_10_neg_samples-2021-05-28_07-34-25\n",
      "\n",
      "2021-05-28 07:43:51 - TripletEvaluator: Evaluating the model on dev dataset after epoch 0:\n",
      "mAP strict= 0.7757023688358077 ; mAP relaxed = 0.912820609528014\n",
      "2021-05-28 07:43:54 - mAP strict:   \t77.57\n",
      "2021-05-28 07:43:54 - mAP relaxed:   \t91.28\n",
      "2021-05-28 07:43:54 - Save model to /workspace/ceph_data/keypoint-analysis-sharedtask/siamese-models/bert-base-uncased-kp_as_anchor_topic_added_random_10_neg_samples-2021-05-28_07-34-25\n"
     ]
    },
    {
     "data": {
      "application/vnd.jupyter.widget-view+json": {
       "model_id": "57070d557dff45e182e928ba27f32343",
       "version_major": 2,
       "version_minor": 0
      },
      "text/plain": [
       "HBox(children=(FloatProgress(value=0.0, description='Iteration', max=1320.0, style=ProgressStyle(description_w…"
      ]
     },
     "metadata": {},
     "output_type": "display_data"
    },
    {
     "name": "stdout",
     "output_type": "stream",
     "text": [
      "2021-05-28 07:47:28 - TripletEvaluator: Evaluating the model on dev dataset in epoch 1 after 500 steps:\n",
      "mAP strict= 0.7027194039515888 ; mAP relaxed = 0.8969940213923169\n",
      "2021-05-28 07:47:31 - mAP strict:   \t70.27\n",
      "2021-05-28 07:47:31 - mAP relaxed:   \t89.70\n",
      "2021-05-28 07:50:57 - TripletEvaluator: Evaluating the model on dev dataset in epoch 1 after 1000 steps:\n",
      "mAP strict= 0.7608734799637143 ; mAP relaxed = 0.8804411119151272\n",
      "2021-05-28 07:50:59 - mAP strict:   \t76.09\n",
      "2021-05-28 07:50:59 - mAP relaxed:   \t88.04\n",
      "\n",
      "2021-05-28 07:53:12 - TripletEvaluator: Evaluating the model on dev dataset after epoch 1:\n",
      "mAP strict= 0.7496093109388873 ; mAP relaxed = 0.9150948774184274\n",
      "2021-05-28 07:53:14 - mAP strict:   \t74.96\n",
      "2021-05-28 07:53:14 - mAP relaxed:   \t91.51\n"
     ]
    },
    {
     "data": {
      "application/vnd.jupyter.widget-view+json": {
       "model_id": "0a5923cb5bad473a8ab890269ae41261",
       "version_major": 2,
       "version_minor": 0
      },
      "text/plain": [
       "HBox(children=(FloatProgress(value=0.0, description='Iteration', max=1320.0, style=ProgressStyle(description_w…"
      ]
     },
     "metadata": {},
     "output_type": "display_data"
    },
    {
     "name": "stdout",
     "output_type": "stream",
     "text": [
      "2021-05-28 07:56:47 - TripletEvaluator: Evaluating the model on dev dataset in epoch 2 after 500 steps:\n",
      "mAP strict= 0.7154475673729681 ; mAP relaxed = 0.8862734226669038\n",
      "2021-05-28 07:56:49 - mAP strict:   \t71.54\n",
      "2021-05-28 07:56:49 - mAP relaxed:   \t88.63\n",
      "2021-05-28 08:00:15 - TripletEvaluator: Evaluating the model on dev dataset in epoch 2 after 1000 steps:\n",
      "mAP strict= 0.7259384304664263 ; mAP relaxed = 0.8875127553946929\n",
      "2021-05-28 08:00:17 - mAP strict:   \t72.59\n",
      "2021-05-28 08:00:17 - mAP relaxed:   \t88.75\n",
      "\n",
      "2021-05-28 08:02:31 - TripletEvaluator: Evaluating the model on dev dataset after epoch 2:\n",
      "mAP strict= 0.7259907273836481 ; mAP relaxed = 0.8858247377360753\n",
      "2021-05-28 08:02:33 - mAP strict:   \t72.60\n",
      "2021-05-28 08:02:33 - mAP relaxed:   \t88.58\n",
      "\n"
     ]
    }
   ],
   "source": [
    "sbert_training.train_model('/workspace/ceph_data/keypoint-analysis-sharedtask/siamese-data/',\n",
    "                           '../../KPA_2021_shared_task/kpm_data/',\n",
    "                           'dev',\n",
    "                           '/workspace/ceph_data/keypoint-analysis-sharedtask/siamese-models/',\n",
    "                           'bert-base-uncased',\n",
    "                           model_suffix='kp_as_anchor_topic_added_random_10_neg_samples', \n",
    "                           data_file_suffix='kp_as_anchor_topic_added_random_10_neg_samples',\n",
    "                           num_epochs=3, max_seq_length=70, add_special_token=True, train_batch_size=32)\n"
   ]
  },
  {
   "cell_type": "code",
   "execution_count": 34,
   "id": "f713f691-67cc-4f46-9bbf-2aaf8a05a64f",
   "metadata": {
    "scrolled": true,
    "tags": []
   },
   "outputs": [
    {
     "name": "stdout",
     "output_type": "stream",
     "text": [
      "2021-05-28 11:14:30 - Use pytorch device: cuda\n",
      "2021-05-28 11:14:30 - Read Triplet train dataset\n"
     ]
    },
    {
     "data": {
      "application/vnd.jupyter.widget-view+json": {
       "model_id": "f7450da347814525a5fafe4438232c4a",
       "version_major": 2,
       "version_minor": 0
      },
      "text/plain": [
       "HBox(children=(FloatProgress(value=0.0, description='Epoch', max=3.0, style=ProgressStyle(description_width='i…"
      ]
     },
     "metadata": {},
     "output_type": "display_data"
    },
    {
     "data": {
      "application/vnd.jupyter.widget-view+json": {
       "model_id": "48371c097c214071b6c2012a9e061d6f",
       "version_major": 2,
       "version_minor": 0
      },
      "text/plain": [
       "HBox(children=(FloatProgress(value=0.0, description='Iteration', max=4675.0, style=ProgressStyle(description_w…"
      ]
     },
     "metadata": {},
     "output_type": "display_data"
    },
    {
     "name": "stdout",
     "output_type": "stream",
     "text": [
      "2021-05-28 11:18:01 - TripletEvaluator: Evaluating the model on dev dataset in epoch 0 after 500 steps:\n",
      "mAP strict= 0.5989447589807548 ; mAP relaxed = 0.8066089485915624\n",
      "2021-05-28 11:18:03 - mAP strict:   \t59.89\n",
      "2021-05-28 11:18:03 - mAP relaxed:   \t80.66\n",
      "2021-05-28 11:18:03 - Save model to /workspace/ceph_data/keypoint-analysis-sharedtask/siamese-models/bert-base-uncased-kp_as_anchor_topic_added_max_40_neg_samples-2021-05-28_11-14-24\n",
      "2021-05-28 11:21:29 - TripletEvaluator: Evaluating the model on dev dataset in epoch 0 after 1000 steps:\n",
      "mAP strict= 0.7128181433601528 ; mAP relaxed = 0.868402105638514\n",
      "2021-05-28 11:21:32 - mAP strict:   \t71.28\n",
      "2021-05-28 11:21:32 - mAP relaxed:   \t86.84\n",
      "2021-05-28 11:21:32 - Save model to /workspace/ceph_data/keypoint-analysis-sharedtask/siamese-models/bert-base-uncased-kp_as_anchor_topic_added_max_40_neg_samples-2021-05-28_11-14-24\n",
      "2021-05-28 11:24:56 - TripletEvaluator: Evaluating the model on dev dataset in epoch 0 after 1500 steps:\n",
      "mAP strict= 0.677866571086304 ; mAP relaxed = 0.8837147045728626\n",
      "2021-05-28 11:24:59 - mAP strict:   \t67.79\n",
      "2021-05-28 11:24:59 - mAP relaxed:   \t88.37\n",
      "2021-05-28 11:28:19 - TripletEvaluator: Evaluating the model on dev dataset in epoch 0 after 2000 steps:\n",
      "mAP strict= 0.5404235967793452 ; mAP relaxed = 0.7278997380169037\n",
      "2021-05-28 11:28:21 - mAP strict:   \t54.04\n",
      "2021-05-28 11:28:21 - mAP relaxed:   \t72.79\n",
      "2021-05-28 11:31:45 - TripletEvaluator: Evaluating the model on dev dataset in epoch 0 after 2500 steps:\n",
      "mAP strict= 0.6579300061238287 ; mAP relaxed = 0.8068761712284974\n",
      "2021-05-28 11:31:48 - mAP strict:   \t65.79\n",
      "2021-05-28 11:31:48 - mAP relaxed:   \t80.69\n",
      "2021-05-28 11:35:04 - TripletEvaluator: Evaluating the model on dev dataset in epoch 0 after 3000 steps:\n",
      "mAP strict= 0.6266820744829984 ; mAP relaxed = 0.793177465164532\n",
      "2021-05-28 11:35:06 - mAP strict:   \t62.67\n",
      "2021-05-28 11:35:06 - mAP relaxed:   \t79.32\n",
      "2021-05-28 11:38:23 - TripletEvaluator: Evaluating the model on dev dataset in epoch 0 after 3500 steps:\n",
      "mAP strict= 0.6753828730294704 ; mAP relaxed = 0.8283353295993225\n",
      "2021-05-28 11:38:26 - mAP strict:   \t67.54\n",
      "2021-05-28 11:38:26 - mAP relaxed:   \t82.83\n",
      "2021-05-28 11:41:46 - TripletEvaluator: Evaluating the model on dev dataset in epoch 0 after 4000 steps:\n",
      "mAP strict= 0.6534017560297347 ; mAP relaxed = 0.8170311096769123\n",
      "2021-05-28 11:41:49 - mAP strict:   \t65.34\n",
      "2021-05-28 11:41:49 - mAP relaxed:   \t81.70\n",
      "2021-05-28 11:45:15 - TripletEvaluator: Evaluating the model on dev dataset in epoch 0 after 4500 steps:\n",
      "mAP strict= 0.697867353539446 ; mAP relaxed = 0.8331809797418401\n",
      "2021-05-28 11:45:17 - mAP strict:   \t69.79\n",
      "2021-05-28 11:45:17 - mAP relaxed:   \t83.32\n",
      "\n",
      "2021-05-28 11:46:30 - TripletEvaluator: Evaluating the model on dev dataset after epoch 0:\n",
      "mAP strict= 0.6367911095185317 ; mAP relaxed = 0.8031527187137305\n",
      "2021-05-28 11:46:32 - mAP strict:   \t63.68\n",
      "2021-05-28 11:46:32 - mAP relaxed:   \t80.32\n"
     ]
    },
    {
     "data": {
      "application/vnd.jupyter.widget-view+json": {
       "model_id": "4b3489f4e8834dc4b34f3b94e5de5eef",
       "version_major": 2,
       "version_minor": 0
      },
      "text/plain": [
       "HBox(children=(FloatProgress(value=0.0, description='Iteration', max=4675.0, style=ProgressStyle(description_w…"
      ]
     },
     "metadata": {},
     "output_type": "display_data"
    },
    {
     "name": "stdout",
     "output_type": "stream",
     "text": [
      "2021-05-28 11:50:04 - TripletEvaluator: Evaluating the model on dev dataset in epoch 1 after 500 steps:\n",
      "mAP strict= 0.7073976900970906 ; mAP relaxed = 0.8991999595321277\n",
      "2021-05-28 11:50:07 - mAP strict:   \t70.74\n",
      "2021-05-28 11:50:07 - mAP relaxed:   \t89.92\n",
      "2021-05-28 11:53:34 - TripletEvaluator: Evaluating the model on dev dataset in epoch 1 after 1000 steps:\n",
      "mAP strict= 0.7467701851962131 ; mAP relaxed = 0.8895561427284348\n",
      "2021-05-28 11:53:37 - mAP strict:   \t74.68\n",
      "2021-05-28 11:53:37 - mAP relaxed:   \t88.96\n",
      "2021-05-28 11:53:37 - Save model to /workspace/ceph_data/keypoint-analysis-sharedtask/siamese-models/bert-base-uncased-kp_as_anchor_topic_added_max_40_neg_samples-2021-05-28_11-14-24\n",
      "2021-05-28 11:57:01 - TripletEvaluator: Evaluating the model on dev dataset in epoch 1 after 1500 steps:\n",
      "mAP strict= 0.7310318256140362 ; mAP relaxed = 0.9136941001695282\n",
      "2021-05-28 11:57:04 - mAP strict:   \t73.10\n",
      "2021-05-28 11:57:04 - mAP relaxed:   \t91.37\n",
      "2021-05-28 12:00:24 - TripletEvaluator: Evaluating the model on dev dataset in epoch 1 after 2000 steps:\n",
      "mAP strict= 0.7188006879024591 ; mAP relaxed = 0.8783731433577481\n",
      "2021-05-28 12:00:26 - mAP strict:   \t71.88\n",
      "2021-05-28 12:00:26 - mAP relaxed:   \t87.84\n",
      "2021-05-28 12:03:49 - TripletEvaluator: Evaluating the model on dev dataset in epoch 1 after 2500 steps:\n",
      "mAP strict= 0.7047328045758341 ; mAP relaxed = 0.8674334813477093\n",
      "2021-05-28 12:03:51 - mAP strict:   \t70.47\n",
      "2021-05-28 12:03:51 - mAP relaxed:   \t86.74\n",
      "2021-05-28 12:07:06 - TripletEvaluator: Evaluating the model on dev dataset in epoch 1 after 3000 steps:\n",
      "mAP strict= 0.6763794460686353 ; mAP relaxed = 0.8541499158967674\n",
      "2021-05-28 12:07:08 - mAP strict:   \t67.64\n",
      "2021-05-28 12:07:08 - mAP relaxed:   \t85.41\n",
      "2021-05-28 12:10:25 - TripletEvaluator: Evaluating the model on dev dataset in epoch 1 after 3500 steps:\n",
      "mAP strict= 0.709732377604191 ; mAP relaxed = 0.8556917041272545\n",
      "2021-05-28 12:10:28 - mAP strict:   \t70.97\n",
      "2021-05-28 12:10:28 - mAP relaxed:   \t85.57\n",
      "2021-05-28 12:13:47 - TripletEvaluator: Evaluating the model on dev dataset in epoch 1 after 4000 steps:\n",
      "mAP strict= 0.7626258987465617 ; mAP relaxed = 0.9032840378494825\n",
      "2021-05-28 12:13:50 - mAP strict:   \t76.26\n",
      "2021-05-28 12:13:50 - mAP relaxed:   \t90.33\n",
      "2021-05-28 12:13:50 - Save model to /workspace/ceph_data/keypoint-analysis-sharedtask/siamese-models/bert-base-uncased-kp_as_anchor_topic_added_max_40_neg_samples-2021-05-28_11-14-24\n",
      "2021-05-28 12:17:17 - TripletEvaluator: Evaluating the model on dev dataset in epoch 1 after 4500 steps:\n",
      "mAP strict= 0.7519431991574933 ; mAP relaxed = 0.8962198729380673\n",
      "2021-05-28 12:17:19 - mAP strict:   \t75.19\n",
      "2021-05-28 12:17:19 - mAP relaxed:   \t89.62\n",
      "\n",
      "2021-05-28 12:18:32 - TripletEvaluator: Evaluating the model on dev dataset after epoch 1:\n",
      "mAP strict= 0.7411967602830897 ; mAP relaxed = 0.893817627930866\n",
      "2021-05-28 12:18:34 - mAP strict:   \t74.12\n",
      "2021-05-28 12:18:34 - mAP relaxed:   \t89.38\n"
     ]
    },
    {
     "data": {
      "application/vnd.jupyter.widget-view+json": {
       "model_id": "15b0fbfa7e1949fe8f23ab6fc5bd38fc",
       "version_major": 2,
       "version_minor": 0
      },
      "text/plain": [
       "HBox(children=(FloatProgress(value=0.0, description='Iteration', max=4675.0, style=ProgressStyle(description_w…"
      ]
     },
     "metadata": {},
     "output_type": "display_data"
    },
    {
     "name": "stdout",
     "output_type": "stream",
     "text": [
      "2021-05-28 12:22:05 - TripletEvaluator: Evaluating the model on dev dataset in epoch 2 after 500 steps:\n",
      "mAP strict= 0.723631888602781 ; mAP relaxed = 0.8923358631247384\n",
      "2021-05-28 12:22:07 - mAP strict:   \t72.36\n",
      "2021-05-28 12:22:07 - mAP relaxed:   \t89.23\n",
      "2021-05-28 12:25:31 - TripletEvaluator: Evaluating the model on dev dataset in epoch 2 after 1000 steps:\n",
      "mAP strict= 0.7395724589549024 ; mAP relaxed = 0.897134657049749\n",
      "2021-05-28 12:25:34 - mAP strict:   \t73.96\n",
      "2021-05-28 12:25:34 - mAP relaxed:   \t89.71\n",
      "2021-05-28 12:28:57 - TripletEvaluator: Evaluating the model on dev dataset in epoch 2 after 1500 steps:\n",
      "mAP strict= 0.75735908130348 ; mAP relaxed = 0.8954498155597561\n",
      "2021-05-28 12:28:59 - mAP strict:   \t75.74\n",
      "2021-05-28 12:28:59 - mAP relaxed:   \t89.54\n",
      "2021-05-28 12:32:20 - TripletEvaluator: Evaluating the model on dev dataset in epoch 2 after 2000 steps:\n",
      "mAP strict= 0.750367391569203 ; mAP relaxed = 0.9155759577600371\n",
      "2021-05-28 12:32:22 - mAP strict:   \t75.04\n",
      "2021-05-28 12:32:22 - mAP relaxed:   \t91.56\n",
      "2021-05-28 12:35:44 - TripletEvaluator: Evaluating the model on dev dataset in epoch 2 after 2500 steps:\n",
      "mAP strict= 0.7435227336287142 ; mAP relaxed = 0.904459588762855\n",
      "2021-05-28 12:35:46 - mAP strict:   \t74.35\n",
      "2021-05-28 12:35:46 - mAP relaxed:   \t90.45\n",
      "2021-05-28 12:39:01 - TripletEvaluator: Evaluating the model on dev dataset in epoch 2 after 3000 steps:\n",
      "mAP strict= 0.7428623918796371 ; mAP relaxed = 0.9044788135182105\n",
      "2021-05-28 12:39:04 - mAP strict:   \t74.29\n",
      "2021-05-28 12:39:04 - mAP relaxed:   \t90.45\n",
      "2021-05-28 12:42:19 - TripletEvaluator: Evaluating the model on dev dataset in epoch 2 after 3500 steps:\n",
      "mAP strict= 0.7484627470263293 ; mAP relaxed = 0.9030319975926767\n",
      "2021-05-28 12:42:21 - mAP strict:   \t74.85\n",
      "2021-05-28 12:42:21 - mAP relaxed:   \t90.30\n",
      "2021-05-28 12:45:38 - TripletEvaluator: Evaluating the model on dev dataset in epoch 2 after 4000 steps:\n",
      "mAP strict= 0.7571281518976236 ; mAP relaxed = 0.9037630203665097\n",
      "2021-05-28 12:45:41 - mAP strict:   \t75.71\n",
      "2021-05-28 12:45:41 - mAP relaxed:   \t90.38\n",
      "2021-05-28 12:49:03 - TripletEvaluator: Evaluating the model on dev dataset in epoch 2 after 4500 steps:\n",
      "mAP strict= 0.7572221022890253 ; mAP relaxed = 0.908524763800038\n",
      "2021-05-28 12:49:06 - mAP strict:   \t75.72\n",
      "2021-05-28 12:49:06 - mAP relaxed:   \t90.85\n",
      "\n",
      "2021-05-28 12:50:17 - TripletEvaluator: Evaluating the model on dev dataset after epoch 2:\n",
      "mAP strict= 0.7594271483103366 ; mAP relaxed = 0.9095900390774087\n",
      "2021-05-28 12:50:19 - mAP strict:   \t75.94\n",
      "2021-05-28 12:50:19 - mAP relaxed:   \t90.96\n",
      "\n"
     ]
    }
   ],
   "source": [
    "sbert_training.train_model('/workspace/ceph_data/keypoint-analysis-sharedtask/siamese-data/',\n",
    "                           '../../KPA_2021_shared_task/kpm_data/',\n",
    "                           'dev',\n",
    "                           '/workspace/ceph_data/keypoint-analysis-sharedtask/siamese-models/',\n",
    "                           'bert-base-uncased',\n",
    "                           model_suffix='kp_as_anchor_topic_added_max_40_neg_samples', \n",
    "                           data_file_suffix='kp_as_anchor_topic_added_max_40_neg_samples',\n",
    "                           num_epochs=3, max_seq_length=70, add_special_token=True, train_batch_size=32)"
   ]
  },
  {
   "cell_type": "code",
   "execution_count": 32,
   "id": "4d63c7df-f466-4e0f-b963-58a64ff6be43",
   "metadata": {
    "scrolled": true,
    "tags": []
   },
   "outputs": [
    {
     "name": "stdout",
     "output_type": "stream",
     "text": [
      "2021-05-28 08:20:54 - Use pytorch device: cuda\n",
      "2021-05-28 08:20:54 - Read Triplet train dataset\n"
     ]
    },
    {
     "data": {
      "application/vnd.jupyter.widget-view+json": {
       "model_id": "bad8389ea145497a87787e5341f1cf4d",
       "version_major": 2,
       "version_minor": 0
      },
      "text/plain": [
       "HBox(children=(FloatProgress(value=0.0, description='Epoch', max=3.0, style=ProgressStyle(description_width='i…"
      ]
     },
     "metadata": {},
     "output_type": "display_data"
    },
    {
     "data": {
      "application/vnd.jupyter.widget-view+json": {
       "model_id": "219dfaff37704a9eaac131fbf7305322",
       "version_major": 2,
       "version_minor": 0
      },
      "text/plain": [
       "HBox(children=(FloatProgress(value=0.0, description='Iteration', max=2600.0, style=ProgressStyle(description_w…"
      ]
     },
     "metadata": {},
     "output_type": "display_data"
    },
    {
     "name": "stdout",
     "output_type": "stream",
     "text": [
      "2021-05-28 08:24:23 - TripletEvaluator: Evaluating the model on dev dataset in epoch 0 after 500 steps:\n",
      "mAP strict= 0.7417425671085243 ; mAP relaxed = 0.870329465294178\n",
      "2021-05-28 08:24:26 - mAP strict:   \t74.17\n",
      "2021-05-28 08:24:26 - mAP relaxed:   \t87.03\n",
      "2021-05-28 08:24:26 - Save model to /workspace/ceph_data/keypoint-analysis-sharedtask/siamese-models/bert-base-uncased-kp_as_anchor_topic_added_max_20_neg_samples-2021-05-28_08-20-48\n",
      "2021-05-28 08:27:49 - TripletEvaluator: Evaluating the model on dev dataset in epoch 0 after 1000 steps:\n",
      "mAP strict= 0.5877974744719374 ; mAP relaxed = 0.7792234267094011\n",
      "2021-05-28 08:27:51 - mAP strict:   \t58.78\n",
      "2021-05-28 08:27:51 - mAP relaxed:   \t77.92\n",
      "2021-05-28 08:31:14 - TripletEvaluator: Evaluating the model on dev dataset in epoch 0 after 1500 steps:\n",
      "mAP strict= 0.7655380099371805 ; mAP relaxed = 0.9103511404163613\n",
      "2021-05-28 08:31:16 - mAP strict:   \t76.55\n",
      "2021-05-28 08:31:16 - mAP relaxed:   \t91.04\n",
      "2021-05-28 08:31:16 - Save model to /workspace/ceph_data/keypoint-analysis-sharedtask/siamese-models/bert-base-uncased-kp_as_anchor_topic_added_max_20_neg_samples-2021-05-28_08-20-48\n",
      "2021-05-28 08:34:36 - TripletEvaluator: Evaluating the model on dev dataset in epoch 0 after 2000 steps:\n",
      "mAP strict= 0.7922202953220855 ; mAP relaxed = 0.9184620596384285\n",
      "2021-05-28 08:34:38 - mAP strict:   \t79.22\n",
      "2021-05-28 08:34:38 - mAP relaxed:   \t91.85\n",
      "2021-05-28 08:34:39 - Save model to /workspace/ceph_data/keypoint-analysis-sharedtask/siamese-models/bert-base-uncased-kp_as_anchor_topic_added_max_20_neg_samples-2021-05-28_08-20-48\n",
      "2021-05-28 08:38:02 - TripletEvaluator: Evaluating the model on dev dataset in epoch 0 after 2500 steps:\n",
      "mAP strict= 0.7421637208336784 ; mAP relaxed = 0.9017148603765837\n",
      "2021-05-28 08:38:05 - mAP strict:   \t74.22\n",
      "2021-05-28 08:38:05 - mAP relaxed:   \t90.17\n",
      "\n",
      "2021-05-28 08:38:46 - TripletEvaluator: Evaluating the model on dev dataset after epoch 0:\n",
      "mAP strict= 0.6012614388078157 ; mAP relaxed = 0.7567328745004496\n",
      "2021-05-28 08:38:49 - mAP strict:   \t60.13\n",
      "2021-05-28 08:38:49 - mAP relaxed:   \t75.67\n"
     ]
    },
    {
     "data": {
      "application/vnd.jupyter.widget-view+json": {
       "model_id": "474dd3c1575940eebfd31bfc78d145f9",
       "version_major": 2,
       "version_minor": 0
      },
      "text/plain": [
       "HBox(children=(FloatProgress(value=0.0, description='Iteration', max=2600.0, style=ProgressStyle(description_w…"
      ]
     },
     "metadata": {},
     "output_type": "display_data"
    },
    {
     "name": "stdout",
     "output_type": "stream",
     "text": [
      "2021-05-28 08:42:19 - TripletEvaluator: Evaluating the model on dev dataset in epoch 1 after 500 steps:\n",
      "mAP strict= 0.7383897607688753 ; mAP relaxed = 0.9174297158385325\n",
      "2021-05-28 08:42:22 - mAP strict:   \t73.84\n",
      "2021-05-28 08:42:22 - mAP relaxed:   \t91.74\n",
      "2021-05-28 08:45:44 - TripletEvaluator: Evaluating the model on dev dataset in epoch 1 after 1000 steps:\n",
      "mAP strict= 0.7002045562107778 ; mAP relaxed = 0.8963797332670388\n",
      "2021-05-28 08:45:47 - mAP strict:   \t70.02\n",
      "2021-05-28 08:45:47 - mAP relaxed:   \t89.64\n",
      "2021-05-28 08:49:11 - TripletEvaluator: Evaluating the model on dev dataset in epoch 1 after 1500 steps:\n",
      "mAP strict= 0.7540959420266211 ; mAP relaxed = 0.9087670393509659\n",
      "2021-05-28 08:49:13 - mAP strict:   \t75.41\n",
      "2021-05-28 08:49:13 - mAP relaxed:   \t90.88\n",
      "2021-05-28 08:52:32 - TripletEvaluator: Evaluating the model on dev dataset in epoch 1 after 2000 steps:\n",
      "mAP strict= 0.7620553791024406 ; mAP relaxed = 0.9178259716685189\n",
      "2021-05-28 08:52:34 - mAP strict:   \t76.21\n",
      "2021-05-28 08:52:34 - mAP relaxed:   \t91.78\n",
      "2021-05-28 08:55:58 - TripletEvaluator: Evaluating the model on dev dataset in epoch 1 after 2500 steps:\n",
      "mAP strict= 0.783580956755793 ; mAP relaxed = 0.916728935686303\n",
      "2021-05-28 08:56:00 - mAP strict:   \t78.36\n",
      "2021-05-28 08:56:00 - mAP relaxed:   \t91.67\n",
      "\n",
      "2021-05-28 08:56:42 - TripletEvaluator: Evaluating the model on dev dataset after epoch 1:\n",
      "mAP strict= 0.766718038466813 ; mAP relaxed = 0.899377879865626\n",
      "2021-05-28 08:56:44 - mAP strict:   \t76.67\n",
      "2021-05-28 08:56:44 - mAP relaxed:   \t89.94\n"
     ]
    },
    {
     "data": {
      "application/vnd.jupyter.widget-view+json": {
       "model_id": "eef79e7466ae40c4ab7c9b2344da4b82",
       "version_major": 2,
       "version_minor": 0
      },
      "text/plain": [
       "HBox(children=(FloatProgress(value=0.0, description='Iteration', max=2600.0, style=ProgressStyle(description_w…"
      ]
     },
     "metadata": {},
     "output_type": "display_data"
    },
    {
     "name": "stdout",
     "output_type": "stream",
     "text": [
      "2021-05-28 09:00:34 - TripletEvaluator: Evaluating the model on dev dataset in epoch 2 after 500 steps:\n",
      "mAP strict= 0.7573336529996308 ; mAP relaxed = 0.9164093678090555\n",
      "2021-05-28 09:00:36 - mAP strict:   \t75.73\n",
      "2021-05-28 09:00:36 - mAP relaxed:   \t91.64\n",
      "2021-05-28 09:03:57 - TripletEvaluator: Evaluating the model on dev dataset in epoch 2 after 1000 steps:\n",
      "mAP strict= 0.7423773641732527 ; mAP relaxed = 0.9179649012027287\n",
      "2021-05-28 09:03:59 - mAP strict:   \t74.24\n",
      "2021-05-28 09:03:59 - mAP relaxed:   \t91.80\n",
      "2021-05-28 09:07:20 - TripletEvaluator: Evaluating the model on dev dataset in epoch 2 after 1500 steps:\n",
      "mAP strict= 0.7184821012688309 ; mAP relaxed = 0.9053540588735892\n",
      "2021-05-28 09:07:22 - mAP strict:   \t71.85\n",
      "2021-05-28 09:07:22 - mAP relaxed:   \t90.54\n",
      "2021-05-28 09:10:40 - TripletEvaluator: Evaluating the model on dev dataset in epoch 2 after 2000 steps:\n",
      "mAP strict= 0.7211696255789959 ; mAP relaxed = 0.9061544196201784\n",
      "2021-05-28 09:10:43 - mAP strict:   \t72.12\n",
      "2021-05-28 09:10:43 - mAP relaxed:   \t90.62\n",
      "2021-05-28 09:14:04 - TripletEvaluator: Evaluating the model on dev dataset in epoch 2 after 2500 steps:\n",
      "mAP strict= 0.7505465007428491 ; mAP relaxed = 0.9257366087220691\n",
      "2021-05-28 09:14:07 - mAP strict:   \t75.05\n",
      "2021-05-28 09:14:07 - mAP relaxed:   \t92.57\n",
      "\n",
      "2021-05-28 09:14:48 - TripletEvaluator: Evaluating the model on dev dataset after epoch 2:\n",
      "mAP strict= 0.7500556196670465 ; mAP relaxed = 0.9262459407823034\n",
      "2021-05-28 09:14:51 - mAP strict:   \t75.01\n",
      "2021-05-28 09:14:51 - mAP relaxed:   \t92.62\n",
      "\n"
     ]
    }
   ],
   "source": [
    "sbert_training.train_model('/workspace/ceph_data/keypoint-analysis-sharedtask/siamese-data/',\n",
    "                           '../../KPA_2021_shared_task/kpm_data/',\n",
    "                           'dev',\n",
    "                           '/workspace/ceph_data/keypoint-analysis-sharedtask/siamese-models/',\n",
    "                           'bert-base-uncased',\n",
    "                           model_suffix='kp_as_anchor_topic_added_max_20_neg_samples', \n",
    "                           data_file_suffix='kp_as_anchor_topic_added_max_20_neg_samples',\n",
    "                           num_epochs=3, max_seq_length=70, add_special_token=True, train_batch_size=32)"
   ]
  },
  {
   "cell_type": "code",
   "execution_count": 33,
   "id": "4901a820-002f-4be8-af7d-e21a60a71201",
   "metadata": {
    "scrolled": true,
    "tags": []
   },
   "outputs": [
    {
     "name": "stdout",
     "output_type": "stream",
     "text": [
      "2021-05-28 10:41:06 - Use pytorch device: cuda\n",
      "2021-05-28 10:41:06 - Read Triplet train dataset\n"
     ]
    },
    {
     "data": {
      "application/vnd.jupyter.widget-view+json": {
       "model_id": "348ef15ac25b4fdcafd84b19e44654ca",
       "version_major": 2,
       "version_minor": 0
      },
      "text/plain": [
       "HBox(children=(FloatProgress(value=0.0, description='Epoch', max=3.0, style=ProgressStyle(description_width='i…"
      ]
     },
     "metadata": {},
     "output_type": "display_data"
    },
    {
     "data": {
      "application/vnd.jupyter.widget-view+json": {
       "model_id": "d91d918f9ce24630ab27062866ca8310",
       "version_major": 2,
       "version_minor": 0
      },
      "text/plain": [
       "HBox(children=(FloatProgress(value=0.0, description='Iteration', max=1320.0, style=ProgressStyle(description_w…"
      ]
     },
     "metadata": {},
     "output_type": "display_data"
    },
    {
     "name": "stdout",
     "output_type": "stream",
     "text": [
      "2021-05-28 10:44:36 - TripletEvaluator: Evaluating the model on dev dataset in epoch 0 after 500 steps:\n",
      "mAP strict= 0.6483365994219731 ; mAP relaxed = 0.8377032422718889\n",
      "2021-05-28 10:44:38 - mAP strict:   \t64.83\n",
      "2021-05-28 10:44:38 - mAP relaxed:   \t83.77\n",
      "2021-05-28 10:44:38 - Save model to /workspace/ceph_data/keypoint-analysis-sharedtask/siamese-models/bert-base-uncased-kp_as_anchor_topic_added_max_10_neg_samples-2021-05-28_10-41-00\n",
      "2021-05-28 10:48:02 - TripletEvaluator: Evaluating the model on dev dataset in epoch 0 after 1000 steps:\n",
      "mAP strict= 0.784919928422771 ; mAP relaxed = 0.9034956577710557\n",
      "2021-05-28 10:48:05 - mAP strict:   \t78.49\n",
      "2021-05-28 10:48:05 - mAP relaxed:   \t90.35\n",
      "2021-05-28 10:48:05 - Save model to /workspace/ceph_data/keypoint-analysis-sharedtask/siamese-models/bert-base-uncased-kp_as_anchor_topic_added_max_10_neg_samples-2021-05-28_10-41-00\n",
      "\n",
      "2021-05-28 10:50:18 - TripletEvaluator: Evaluating the model on dev dataset after epoch 0:\n",
      "mAP strict= 0.7411639149717937 ; mAP relaxed = 0.889866539370912\n",
      "2021-05-28 10:50:20 - mAP strict:   \t74.12\n",
      "2021-05-28 10:50:20 - mAP relaxed:   \t88.99\n"
     ]
    },
    {
     "data": {
      "application/vnd.jupyter.widget-view+json": {
       "model_id": "a2db73d14e90428dab8efc97e862f7c8",
       "version_major": 2,
       "version_minor": 0
      },
      "text/plain": [
       "HBox(children=(FloatProgress(value=0.0, description='Iteration', max=1320.0, style=ProgressStyle(description_w…"
      ]
     },
     "metadata": {},
     "output_type": "display_data"
    },
    {
     "name": "stdout",
     "output_type": "stream",
     "text": [
      "2021-05-28 10:53:53 - TripletEvaluator: Evaluating the model on dev dataset in epoch 1 after 500 steps:\n",
      "mAP strict= 0.7251993425615191 ; mAP relaxed = 0.9213271941403434\n",
      "2021-05-28 10:53:55 - mAP strict:   \t72.52\n",
      "2021-05-28 10:53:55 - mAP relaxed:   \t92.13\n",
      "2021-05-28 10:57:19 - TripletEvaluator: Evaluating the model on dev dataset in epoch 1 after 1000 steps:\n",
      "mAP strict= 0.768024942335992 ; mAP relaxed = 0.901607839180445\n",
      "2021-05-28 10:57:22 - mAP strict:   \t76.80\n",
      "2021-05-28 10:57:22 - mAP relaxed:   \t90.16\n",
      "\n",
      "2021-05-28 10:59:35 - TripletEvaluator: Evaluating the model on dev dataset after epoch 1:\n",
      "mAP strict= 0.7668604053751159 ; mAP relaxed = 0.9097735671258991\n",
      "2021-05-28 10:59:38 - mAP strict:   \t76.69\n",
      "2021-05-28 10:59:38 - mAP relaxed:   \t90.98\n"
     ]
    },
    {
     "data": {
      "application/vnd.jupyter.widget-view+json": {
       "model_id": "6c2aa4004ebd4ed0bc9b0cc2e333b18a",
       "version_major": 2,
       "version_minor": 0
      },
      "text/plain": [
       "HBox(children=(FloatProgress(value=0.0, description='Iteration', max=1320.0, style=ProgressStyle(description_w…"
      ]
     },
     "metadata": {},
     "output_type": "display_data"
    },
    {
     "name": "stdout",
     "output_type": "stream",
     "text": [
      "2021-05-28 11:03:08 - TripletEvaluator: Evaluating the model on dev dataset in epoch 2 after 500 steps:\n",
      "mAP strict= 0.7726583544521748 ; mAP relaxed = 0.9262631469981122\n",
      "2021-05-28 11:03:11 - mAP strict:   \t77.27\n",
      "2021-05-28 11:03:11 - mAP relaxed:   \t92.63\n",
      "2021-05-28 11:06:35 - TripletEvaluator: Evaluating the model on dev dataset in epoch 2 after 1000 steps:\n",
      "mAP strict= 0.7665899246623962 ; mAP relaxed = 0.9248006585123751\n",
      "2021-05-28 11:06:37 - mAP strict:   \t76.66\n",
      "2021-05-28 11:06:37 - mAP relaxed:   \t92.48\n",
      "\n",
      "2021-05-28 11:08:49 - TripletEvaluator: Evaluating the model on dev dataset after epoch 2:\n",
      "mAP strict= 0.7744891697618744 ; mAP relaxed = 0.922770025462528\n",
      "2021-05-28 11:08:51 - mAP strict:   \t77.45\n",
      "2021-05-28 11:08:51 - mAP relaxed:   \t92.28\n",
      "\n"
     ]
    }
   ],
   "source": [
    "sbert_training.train_model('/workspace/ceph_data/keypoint-analysis-sharedtask/siamese-data/',\n",
    "                           '../../KPA_2021_shared_task/kpm_data/',\n",
    "                           'dev',\n",
    "                           '/workspace/ceph_data/keypoint-analysis-sharedtask/siamese-models/',\n",
    "                           'bert-base-uncased',\n",
    "                           model_suffix='kp_as_anchor_topic_added_max_10_neg_samples', \n",
    "                           data_file_suffix='kp_as_anchor_topic_added_max_10_neg_samples',\n",
    "                           num_epochs=3, max_seq_length=70, add_special_token=True, train_batch_size=32)"
   ]
  },
  {
   "cell_type": "markdown",
   "id": "41d44e39-a811-4cce-ba24-4131ce87002f",
   "metadata": {},
   "source": [
    "### Training Batch Triplet Models:"
   ]
  },
  {
   "cell_type": "code",
   "execution_count": 7,
   "id": "82c67c95-983b-4908-9021-80750158e49a",
   "metadata": {
    "scrolled": true,
    "tags": []
   },
   "outputs": [
    {
     "name": "stdout",
     "output_type": "stream",
     "text": [
      "2021-05-18 10:29:35 - Read Triplet train dataset\n",
      "2021-05-18 10:29:35 - Read Triplet dev dataset\n",
      "2021-05-18 10:29:35 - SentenceLabelDataset: 4467 examples, from which 4260 examples could be used (those labels appeared at least 2 times). 207 different labels found.\n",
      "2021-05-18 10:29:35 - Load model\n",
      "2021-05-18 10:29:35 - Load pretrained SentenceTransformer: bert-base-uncased\n",
      "2021-05-18 10:29:35 - Did not find folder bert-base-uncased\n",
      "2021-05-18 10:29:35 - Search model on server: http://sbert.net/models/bert-base-uncased.zip\n",
      "2021-05-18 10:29:35 - Load SentenceTransformer from folder: /root/.cache/torch/sentence_transformers/sbert.net_models_bert-base-uncased\n",
      "2021-05-18 10:29:38 - Use pytorch device: cuda\n",
      "2021-05-18 10:29:38 - Performance before fine-tuning:\n",
      "2021-05-18 10:29:38 - TripletEvaluator: Evaluating the model on dev dataset:\n",
      "2021-05-18 10:29:46 - Accuracy Cosine Distance:   \t79.70\n",
      "2021-05-18 10:29:46 - Accuracy Manhatten Distance:\t79.50\n",
      "2021-05-18 10:29:46 - Accuracy Euclidean Distance:\t77.70\n",
      "\n"
     ]
    },
    {
     "data": {
      "application/vnd.jupyter.widget-view+json": {
       "model_id": "ccc9af638ae541ac82e83f876f1eb76d",
       "version_major": 2,
       "version_minor": 0
      },
      "text/plain": [
       "HBox(children=(FloatProgress(value=0.0, description='Epoch', max=5.0, style=ProgressStyle(description_width='i…"
      ]
     },
     "metadata": {},
     "output_type": "display_data"
    },
    {
     "data": {
      "application/vnd.jupyter.widget-view+json": {
       "model_id": "b36ed8f361a04cb09af774cbe937ac13",
       "version_major": 2,
       "version_minor": 0
      },
      "text/plain": [
       "HBox(children=(FloatProgress(value=0.0, description='Iteration', max=66.0, style=ProgressStyle(description_wid…"
      ]
     },
     "metadata": {},
     "output_type": "display_data"
    },
    {
     "name": "stdout",
     "output_type": "stream",
     "text": [
      "\n",
      "2021-05-18 10:30:11 - TripletEvaluator: Evaluating the model on dev dataset after epoch 0:\n",
      "2021-05-18 10:30:15 - Accuracy Cosine Distance:   \t84.80\n",
      "2021-05-18 10:30:15 - Accuracy Manhatten Distance:\t85.30\n",
      "2021-05-18 10:30:15 - Accuracy Euclidean Distance:\t84.80\n",
      "\n",
      "2021-05-18 10:30:15 - Save model to /workspace/ceph_data/keypoint-analysis-sharedtask/triplet-models/all-triplet-loss\n"
     ]
    },
    {
     "data": {
      "application/vnd.jupyter.widget-view+json": {
       "model_id": "352d9304ea84452582893b1da020b40a",
       "version_major": 2,
       "version_minor": 0
      },
      "text/plain": [
       "HBox(children=(FloatProgress(value=0.0, description='Iteration', max=66.0, style=ProgressStyle(description_wid…"
      ]
     },
     "metadata": {},
     "output_type": "display_data"
    },
    {
     "name": "stdout",
     "output_type": "stream",
     "text": [
      "\n",
      "2021-05-18 10:30:42 - TripletEvaluator: Evaluating the model on dev dataset after epoch 1:\n",
      "2021-05-18 10:30:46 - Accuracy Cosine Distance:   \t86.10\n",
      "2021-05-18 10:30:46 - Accuracy Manhatten Distance:\t85.60\n",
      "2021-05-18 10:30:46 - Accuracy Euclidean Distance:\t85.20\n",
      "\n",
      "2021-05-18 10:30:46 - Save model to /workspace/ceph_data/keypoint-analysis-sharedtask/triplet-models/all-triplet-loss\n"
     ]
    },
    {
     "data": {
      "application/vnd.jupyter.widget-view+json": {
       "model_id": "7762274bfc454c91932afd73c9290bb4",
       "version_major": 2,
       "version_minor": 0
      },
      "text/plain": [
       "HBox(children=(FloatProgress(value=0.0, description='Iteration', max=66.0, style=ProgressStyle(description_wid…"
      ]
     },
     "metadata": {},
     "output_type": "display_data"
    },
    {
     "name": "stdout",
     "output_type": "stream",
     "text": [
      "\n",
      "2021-05-18 10:31:13 - TripletEvaluator: Evaluating the model on dev dataset after epoch 2:\n",
      "2021-05-18 10:31:18 - Accuracy Cosine Distance:   \t87.00\n",
      "2021-05-18 10:31:18 - Accuracy Manhatten Distance:\t87.30\n",
      "2021-05-18 10:31:18 - Accuracy Euclidean Distance:\t87.50\n",
      "\n",
      "2021-05-18 10:31:18 - Save model to /workspace/ceph_data/keypoint-analysis-sharedtask/triplet-models/all-triplet-loss\n"
     ]
    },
    {
     "data": {
      "application/vnd.jupyter.widget-view+json": {
       "model_id": "cab01e59cda44e619d2022fc87b16800",
       "version_major": 2,
       "version_minor": 0
      },
      "text/plain": [
       "HBox(children=(FloatProgress(value=0.0, description='Iteration', max=66.0, style=ProgressStyle(description_wid…"
      ]
     },
     "metadata": {},
     "output_type": "display_data"
    },
    {
     "name": "stdout",
     "output_type": "stream",
     "text": [
      "\n",
      "2021-05-18 10:31:45 - TripletEvaluator: Evaluating the model on dev dataset after epoch 3:\n",
      "2021-05-18 10:31:50 - Accuracy Cosine Distance:   \t87.80\n",
      "2021-05-18 10:31:50 - Accuracy Manhatten Distance:\t87.30\n",
      "2021-05-18 10:31:50 - Accuracy Euclidean Distance:\t88.10\n",
      "\n",
      "2021-05-18 10:31:50 - Save model to /workspace/ceph_data/keypoint-analysis-sharedtask/triplet-models/all-triplet-loss\n"
     ]
    },
    {
     "data": {
      "application/vnd.jupyter.widget-view+json": {
       "model_id": "0471994084d64d3085172c12b021c87a",
       "version_major": 2,
       "version_minor": 0
      },
      "text/plain": [
       "HBox(children=(FloatProgress(value=0.0, description='Iteration', max=66.0, style=ProgressStyle(description_wid…"
      ]
     },
     "metadata": {},
     "output_type": "display_data"
    },
    {
     "name": "stdout",
     "output_type": "stream",
     "text": [
      "\n",
      "2021-05-18 10:32:16 - TripletEvaluator: Evaluating the model on dev dataset after epoch 4:\n",
      "2021-05-18 10:32:21 - Accuracy Cosine Distance:   \t87.60\n",
      "2021-05-18 10:32:21 - Accuracy Manhatten Distance:\t87.80\n",
      "2021-05-18 10:32:21 - Accuracy Euclidean Distance:\t88.30\n",
      "\n",
      "2021-05-18 10:32:21 - Save model to /workspace/ceph_data/keypoint-analysis-sharedtask/triplet-models/all-triplet-loss\n",
      "\n"
     ]
    }
   ],
   "source": [
    "sbert_training.train_hard_triplet_modle('/workspace/ceph_data/keypoint-analysis-sharedtask/siamese-data/', \n",
    "                                        '/workspace/ceph_data/keypoint-analysis-sharedtask/triplet-models/all-triplet-loss', \n",
    "                                        'bert-base-uncased', training_loss='BatchAllTripletLoss',  \n",
    "                                        num_epochs=5, train_batch_size=64, data_file_suffix='batch_hard')"
   ]
  },
  {
   "cell_type": "code",
   "execution_count": 8,
   "id": "17c553a5-196f-42f8-a02f-71097121acc0",
   "metadata": {
    "scrolled": true,
    "tags": []
   },
   "outputs": [
    {
     "name": "stdout",
     "output_type": "stream",
     "text": [
      "2021-05-18 10:32:22 - Read Triplet train dataset\n",
      "2021-05-18 10:32:22 - Read Triplet dev dataset\n",
      "2021-05-18 10:32:22 - SentenceLabelDataset: 4467 examples, from which 4260 examples could be used (those labels appeared at least 2 times). 207 different labels found.\n",
      "2021-05-18 10:32:22 - Load model\n",
      "2021-05-18 10:32:22 - Load pretrained SentenceTransformer: bert-base-uncased\n",
      "2021-05-18 10:32:22 - Did not find folder bert-base-uncased\n",
      "2021-05-18 10:32:22 - Search model on server: http://sbert.net/models/bert-base-uncased.zip\n",
      "2021-05-18 10:32:22 - Load SentenceTransformer from folder: /root/.cache/torch/sentence_transformers/sbert.net_models_bert-base-uncased\n",
      "2021-05-18 10:32:25 - Use pytorch device: cuda\n",
      "2021-05-18 10:32:25 - Performance before fine-tuning:\n",
      "2021-05-18 10:32:25 - TripletEvaluator: Evaluating the model on dev dataset:\n",
      "2021-05-18 10:32:29 - Accuracy Cosine Distance:   \t79.70\n",
      "2021-05-18 10:32:29 - Accuracy Manhatten Distance:\t79.50\n",
      "2021-05-18 10:32:29 - Accuracy Euclidean Distance:\t77.70\n",
      "\n"
     ]
    },
    {
     "data": {
      "application/vnd.jupyter.widget-view+json": {
       "model_id": "35bd9a105efd475e80c34f5f625eccfd",
       "version_major": 2,
       "version_minor": 0
      },
      "text/plain": [
       "HBox(children=(FloatProgress(value=0.0, description='Epoch', max=5.0, style=ProgressStyle(description_width='i…"
      ]
     },
     "metadata": {},
     "output_type": "display_data"
    },
    {
     "data": {
      "application/vnd.jupyter.widget-view+json": {
       "model_id": "e672bd157a1e45caa0699d0275487218",
       "version_major": 2,
       "version_minor": 0
      },
      "text/plain": [
       "HBox(children=(FloatProgress(value=0.0, description='Iteration', max=66.0, style=ProgressStyle(description_wid…"
      ]
     },
     "metadata": {},
     "output_type": "display_data"
    },
    {
     "name": "stdout",
     "output_type": "stream",
     "text": [
      "\n",
      "2021-05-18 10:32:54 - TripletEvaluator: Evaluating the model on dev dataset after epoch 0:\n",
      "2021-05-18 10:32:59 - Accuracy Cosine Distance:   \t79.70\n",
      "2021-05-18 10:32:59 - Accuracy Manhatten Distance:\t79.50\n",
      "2021-05-18 10:32:59 - Accuracy Euclidean Distance:\t77.70\n",
      "\n",
      "2021-05-18 10:32:59 - Save model to /workspace/ceph_data/keypoint-analysis-sharedtask/triplet-models/hard-triplet-loss\n"
     ]
    },
    {
     "data": {
      "application/vnd.jupyter.widget-view+json": {
       "model_id": "a1ea2a5b92a84ca696347b93537980ba",
       "version_major": 2,
       "version_minor": 0
      },
      "text/plain": [
       "HBox(children=(FloatProgress(value=0.0, description='Iteration', max=66.0, style=ProgressStyle(description_wid…"
      ]
     },
     "metadata": {},
     "output_type": "display_data"
    },
    {
     "name": "stdout",
     "output_type": "stream",
     "text": [
      "\n",
      "2021-05-18 10:33:24 - TripletEvaluator: Evaluating the model on dev dataset after epoch 1:\n",
      "2021-05-18 10:33:28 - Accuracy Cosine Distance:   \t79.70\n",
      "2021-05-18 10:33:28 - Accuracy Manhatten Distance:\t79.50\n",
      "2021-05-18 10:33:28 - Accuracy Euclidean Distance:\t77.70\n",
      "\n"
     ]
    },
    {
     "data": {
      "application/vnd.jupyter.widget-view+json": {
       "model_id": "f99271ff9988483386a3e5794a640d69",
       "version_major": 2,
       "version_minor": 0
      },
      "text/plain": [
       "HBox(children=(FloatProgress(value=0.0, description='Iteration', max=66.0, style=ProgressStyle(description_wid…"
      ]
     },
     "metadata": {},
     "output_type": "display_data"
    },
    {
     "name": "stdout",
     "output_type": "stream",
     "text": [
      "\n",
      "2021-05-18 10:33:53 - TripletEvaluator: Evaluating the model on dev dataset after epoch 2:\n",
      "2021-05-18 10:33:58 - Accuracy Cosine Distance:   \t79.70\n",
      "2021-05-18 10:33:58 - Accuracy Manhatten Distance:\t79.50\n",
      "2021-05-18 10:33:58 - Accuracy Euclidean Distance:\t77.70\n",
      "\n"
     ]
    },
    {
     "data": {
      "application/vnd.jupyter.widget-view+json": {
       "model_id": "8b267ce93b0042e38091288e8ea1919c",
       "version_major": 2,
       "version_minor": 0
      },
      "text/plain": [
       "HBox(children=(FloatProgress(value=0.0, description='Iteration', max=66.0, style=ProgressStyle(description_wid…"
      ]
     },
     "metadata": {},
     "output_type": "display_data"
    },
    {
     "name": "stdout",
     "output_type": "stream",
     "text": [
      "\n",
      "2021-05-18 10:34:22 - TripletEvaluator: Evaluating the model on dev dataset after epoch 3:\n",
      "2021-05-18 10:34:27 - Accuracy Cosine Distance:   \t79.70\n",
      "2021-05-18 10:34:27 - Accuracy Manhatten Distance:\t79.50\n",
      "2021-05-18 10:34:27 - Accuracy Euclidean Distance:\t77.70\n",
      "\n"
     ]
    },
    {
     "data": {
      "application/vnd.jupyter.widget-view+json": {
       "model_id": "80e45ae658ce450d95af5345b9a60f26",
       "version_major": 2,
       "version_minor": 0
      },
      "text/plain": [
       "HBox(children=(FloatProgress(value=0.0, description='Iteration', max=66.0, style=ProgressStyle(description_wid…"
      ]
     },
     "metadata": {},
     "output_type": "display_data"
    },
    {
     "name": "stdout",
     "output_type": "stream",
     "text": [
      "\n",
      "2021-05-18 10:34:51 - TripletEvaluator: Evaluating the model on dev dataset after epoch 4:\n",
      "2021-05-18 10:34:56 - Accuracy Cosine Distance:   \t79.70\n",
      "2021-05-18 10:34:56 - Accuracy Manhatten Distance:\t79.50\n",
      "2021-05-18 10:34:56 - Accuracy Euclidean Distance:\t77.70\n",
      "\n",
      "\n"
     ]
    }
   ],
   "source": [
    "sbert_training.train_hard_triplet_modle('/workspace/ceph_data/keypoint-analysis-sharedtask/siamese-data/', \n",
    "                                        '/workspace/ceph_data/keypoint-analysis-sharedtask/triplet-models/hard-triplet-loss', \n",
    "                                        'bert-base-uncased', training_loss='BatchHardTripletLoss',  \n",
    "                                        num_epochs=5, train_batch_size=64, data_file_suffix='batch_hard')"
   ]
  },
  {
   "cell_type": "code",
   "execution_count": 9,
   "id": "9d3128f4-3716-412c-89b8-72d518a2747e",
   "metadata": {
    "scrolled": true,
    "tags": []
   },
   "outputs": [
    {
     "name": "stdout",
     "output_type": "stream",
     "text": [
      "2021-05-18 10:34:56 - Read Triplet train dataset\n",
      "2021-05-18 10:34:56 - Read Triplet dev dataset\n",
      "2021-05-18 10:34:56 - SentenceLabelDataset: 4467 examples, from which 4260 examples could be used (those labels appeared at least 2 times). 207 different labels found.\n",
      "2021-05-18 10:34:56 - Load model\n",
      "2021-05-18 10:34:56 - Load pretrained SentenceTransformer: bert-base-uncased\n",
      "2021-05-18 10:34:56 - Did not find folder bert-base-uncased\n",
      "2021-05-18 10:34:56 - Search model on server: http://sbert.net/models/bert-base-uncased.zip\n",
      "2021-05-18 10:34:56 - Load SentenceTransformer from folder: /root/.cache/torch/sentence_transformers/sbert.net_models_bert-base-uncased\n",
      "2021-05-18 10:34:59 - Use pytorch device: cuda\n",
      "2021-05-18 10:34:59 - Performance before fine-tuning:\n",
      "2021-05-18 10:34:59 - TripletEvaluator: Evaluating the model on dev dataset:\n",
      "2021-05-18 10:35:04 - Accuracy Cosine Distance:   \t79.70\n",
      "2021-05-18 10:35:04 - Accuracy Manhatten Distance:\t79.50\n",
      "2021-05-18 10:35:04 - Accuracy Euclidean Distance:\t77.70\n",
      "\n"
     ]
    },
    {
     "data": {
      "application/vnd.jupyter.widget-view+json": {
       "model_id": "bb5be8bcb9664d84a2a679114c8ac36a",
       "version_major": 2,
       "version_minor": 0
      },
      "text/plain": [
       "HBox(children=(FloatProgress(value=0.0, description='Epoch', max=5.0, style=ProgressStyle(description_width='i…"
      ]
     },
     "metadata": {},
     "output_type": "display_data"
    },
    {
     "data": {
      "application/vnd.jupyter.widget-view+json": {
       "model_id": "07527848778e41eca072ef31a5d4f361",
       "version_major": 2,
       "version_minor": 0
      },
      "text/plain": [
       "HBox(children=(FloatProgress(value=0.0, description='Iteration', max=66.0, style=ProgressStyle(description_wid…"
      ]
     },
     "metadata": {},
     "output_type": "display_data"
    },
    {
     "name": "stdout",
     "output_type": "stream",
     "text": [
      "\n",
      "2021-05-18 10:35:29 - TripletEvaluator: Evaluating the model on dev dataset after epoch 0:\n",
      "2021-05-18 10:35:33 - Accuracy Cosine Distance:   \t82.50\n",
      "2021-05-18 10:35:33 - Accuracy Manhatten Distance:\t78.20\n",
      "2021-05-18 10:35:33 - Accuracy Euclidean Distance:\t77.90\n",
      "\n",
      "2021-05-18 10:35:33 - Save model to /workspace/ceph_data/keypoint-analysis-sharedtask/triplet-models/hard-softmargin-triplet-loss\n"
     ]
    },
    {
     "data": {
      "application/vnd.jupyter.widget-view+json": {
       "model_id": "fe026c1d1a924901b198e9be8138cff0",
       "version_major": 2,
       "version_minor": 0
      },
      "text/plain": [
       "HBox(children=(FloatProgress(value=0.0, description='Iteration', max=66.0, style=ProgressStyle(description_wid…"
      ]
     },
     "metadata": {},
     "output_type": "display_data"
    },
    {
     "name": "stdout",
     "output_type": "stream",
     "text": [
      "\n",
      "2021-05-18 10:35:59 - TripletEvaluator: Evaluating the model on dev dataset after epoch 1:\n",
      "2021-05-18 10:36:04 - Accuracy Cosine Distance:   \t82.00\n",
      "2021-05-18 10:36:04 - Accuracy Manhatten Distance:\t79.10\n",
      "2021-05-18 10:36:04 - Accuracy Euclidean Distance:\t78.40\n",
      "\n"
     ]
    },
    {
     "data": {
      "application/vnd.jupyter.widget-view+json": {
       "model_id": "b1449417b11f404dacc407e98258f1ec",
       "version_major": 2,
       "version_minor": 0
      },
      "text/plain": [
       "HBox(children=(FloatProgress(value=0.0, description='Iteration', max=66.0, style=ProgressStyle(description_wid…"
      ]
     },
     "metadata": {},
     "output_type": "display_data"
    },
    {
     "name": "stdout",
     "output_type": "stream",
     "text": [
      "\n",
      "2021-05-18 10:36:28 - TripletEvaluator: Evaluating the model on dev dataset after epoch 2:\n",
      "2021-05-18 10:36:33 - Accuracy Cosine Distance:   \t81.90\n",
      "2021-05-18 10:36:33 - Accuracy Manhatten Distance:\t79.30\n",
      "2021-05-18 10:36:33 - Accuracy Euclidean Distance:\t78.80\n",
      "\n"
     ]
    },
    {
     "data": {
      "application/vnd.jupyter.widget-view+json": {
       "model_id": "e07f54c571294706923394baee143135",
       "version_major": 2,
       "version_minor": 0
      },
      "text/plain": [
       "HBox(children=(FloatProgress(value=0.0, description='Iteration', max=66.0, style=ProgressStyle(description_wid…"
      ]
     },
     "metadata": {},
     "output_type": "display_data"
    },
    {
     "name": "stdout",
     "output_type": "stream",
     "text": [
      "\n",
      "2021-05-18 10:36:58 - TripletEvaluator: Evaluating the model on dev dataset after epoch 3:\n",
      "2021-05-18 10:37:02 - Accuracy Cosine Distance:   \t81.30\n",
      "2021-05-18 10:37:02 - Accuracy Manhatten Distance:\t79.60\n",
      "2021-05-18 10:37:02 - Accuracy Euclidean Distance:\t78.70\n",
      "\n"
     ]
    },
    {
     "data": {
      "application/vnd.jupyter.widget-view+json": {
       "model_id": "43aa0a51af1f40deadcdff79d282580a",
       "version_major": 2,
       "version_minor": 0
      },
      "text/plain": [
       "HBox(children=(FloatProgress(value=0.0, description='Iteration', max=66.0, style=ProgressStyle(description_wid…"
      ]
     },
     "metadata": {},
     "output_type": "display_data"
    },
    {
     "name": "stdout",
     "output_type": "stream",
     "text": [
      "\n",
      "2021-05-18 10:37:27 - TripletEvaluator: Evaluating the model on dev dataset after epoch 4:\n",
      "2021-05-18 10:37:31 - Accuracy Cosine Distance:   \t81.40\n",
      "2021-05-18 10:37:31 - Accuracy Manhatten Distance:\t79.20\n",
      "2021-05-18 10:37:31 - Accuracy Euclidean Distance:\t78.80\n",
      "\n",
      "\n"
     ]
    }
   ],
   "source": [
    "sbert_training.train_hard_triplet_modle('/workspace/ceph_data/keypoint-analysis-sharedtask/siamese-data/', \n",
    "                                        '/workspace/ceph_data/keypoint-analysis-sharedtask/triplet-models/hard-softmargin-triplet-loss', \n",
    "                                        'bert-base-uncased', training_loss='BatchHardSoftMarginTripletLoss',  \n",
    "                                        num_epochs=5, train_batch_size=64, data_file_suffix='batch_hard')"
   ]
  },
  {
   "cell_type": "code",
   "execution_count": 10,
   "id": "5505a7c2-a6ae-4b31-bbaf-61ad0e4a8647",
   "metadata": {
    "scrolled": true,
    "tags": []
   },
   "outputs": [
    {
     "name": "stdout",
     "output_type": "stream",
     "text": [
      "2021-05-18 10:37:31 - Read Triplet train dataset\n",
      "2021-05-18 10:37:31 - Read Triplet dev dataset\n",
      "2021-05-18 10:37:31 - SentenceLabelDataset: 4467 examples, from which 4260 examples could be used (those labels appeared at least 2 times). 207 different labels found.\n",
      "2021-05-18 10:37:31 - Load model\n",
      "2021-05-18 10:37:31 - Load pretrained SentenceTransformer: bert-base-uncased\n",
      "2021-05-18 10:37:31 - Did not find folder bert-base-uncased\n",
      "2021-05-18 10:37:31 - Search model on server: http://sbert.net/models/bert-base-uncased.zip\n",
      "2021-05-18 10:37:31 - Load SentenceTransformer from folder: /root/.cache/torch/sentence_transformers/sbert.net_models_bert-base-uncased\n",
      "2021-05-18 10:37:34 - Use pytorch device: cuda\n",
      "2021-05-18 10:37:34 - Performance before fine-tuning:\n",
      "2021-05-18 10:37:34 - TripletEvaluator: Evaluating the model on dev dataset:\n",
      "2021-05-18 10:37:39 - Accuracy Cosine Distance:   \t79.70\n",
      "2021-05-18 10:37:39 - Accuracy Manhatten Distance:\t79.50\n",
      "2021-05-18 10:37:39 - Accuracy Euclidean Distance:\t77.70\n",
      "\n"
     ]
    },
    {
     "data": {
      "application/vnd.jupyter.widget-view+json": {
       "model_id": "772d88d4b22545318150c7c8974a4b3b",
       "version_major": 2,
       "version_minor": 0
      },
      "text/plain": [
       "HBox(children=(FloatProgress(value=0.0, description='Epoch', max=5.0, style=ProgressStyle(description_width='i…"
      ]
     },
     "metadata": {},
     "output_type": "display_data"
    },
    {
     "data": {
      "application/vnd.jupyter.widget-view+json": {
       "model_id": "162d0fc556f9499694050b94073b91a0",
       "version_major": 2,
       "version_minor": 0
      },
      "text/plain": [
       "HBox(children=(FloatProgress(value=0.0, description='Iteration', max=66.0, style=ProgressStyle(description_wid…"
      ]
     },
     "metadata": {},
     "output_type": "display_data"
    },
    {
     "name": "stdout",
     "output_type": "stream",
     "text": [
      "\n",
      "2021-05-18 10:38:04 - TripletEvaluator: Evaluating the model on dev dataset after epoch 0:\n",
      "2021-05-18 10:38:09 - Accuracy Cosine Distance:   \t88.10\n",
      "2021-05-18 10:38:09 - Accuracy Manhatten Distance:\t87.20\n",
      "2021-05-18 10:38:09 - Accuracy Euclidean Distance:\t87.60\n",
      "\n",
      "2021-05-18 10:38:09 - Save model to /workspace/ceph_data/keypoint-analysis-sharedtask/triplet-models/semi-hard-triplet-loss\n"
     ]
    },
    {
     "data": {
      "application/vnd.jupyter.widget-view+json": {
       "model_id": "971ab3ee62694f32ad43d051221ed510",
       "version_major": 2,
       "version_minor": 0
      },
      "text/plain": [
       "HBox(children=(FloatProgress(value=0.0, description='Iteration', max=66.0, style=ProgressStyle(description_wid…"
      ]
     },
     "metadata": {},
     "output_type": "display_data"
    },
    {
     "name": "stdout",
     "output_type": "stream",
     "text": [
      "\n",
      "2021-05-18 10:38:35 - TripletEvaluator: Evaluating the model on dev dataset after epoch 1:\n",
      "2021-05-18 10:38:39 - Accuracy Cosine Distance:   \t87.80\n",
      "2021-05-18 10:38:39 - Accuracy Manhatten Distance:\t88.10\n",
      "2021-05-18 10:38:39 - Accuracy Euclidean Distance:\t88.20\n",
      "\n",
      "2021-05-18 10:38:39 - Save model to /workspace/ceph_data/keypoint-analysis-sharedtask/triplet-models/semi-hard-triplet-loss\n"
     ]
    },
    {
     "data": {
      "application/vnd.jupyter.widget-view+json": {
       "model_id": "9f9b97775b3049b486f0a501dc0df03f",
       "version_major": 2,
       "version_minor": 0
      },
      "text/plain": [
       "HBox(children=(FloatProgress(value=0.0, description='Iteration', max=66.0, style=ProgressStyle(description_wid…"
      ]
     },
     "metadata": {},
     "output_type": "display_data"
    },
    {
     "name": "stdout",
     "output_type": "stream",
     "text": [
      "\n",
      "2021-05-18 10:39:06 - TripletEvaluator: Evaluating the model on dev dataset after epoch 2:\n",
      "2021-05-18 10:39:11 - Accuracy Cosine Distance:   \t91.00\n",
      "2021-05-18 10:39:11 - Accuracy Manhatten Distance:\t90.70\n",
      "2021-05-18 10:39:11 - Accuracy Euclidean Distance:\t90.70\n",
      "\n",
      "2021-05-18 10:39:11 - Save model to /workspace/ceph_data/keypoint-analysis-sharedtask/triplet-models/semi-hard-triplet-loss\n"
     ]
    },
    {
     "data": {
      "application/vnd.jupyter.widget-view+json": {
       "model_id": "77ebcf66ba3f478ebe5d60741be9d37e",
       "version_major": 2,
       "version_minor": 0
      },
      "text/plain": [
       "HBox(children=(FloatProgress(value=0.0, description='Iteration', max=66.0, style=ProgressStyle(description_wid…"
      ]
     },
     "metadata": {},
     "output_type": "display_data"
    },
    {
     "name": "stdout",
     "output_type": "stream",
     "text": [
      "\n",
      "2021-05-18 10:39:37 - TripletEvaluator: Evaluating the model on dev dataset after epoch 3:\n",
      "2021-05-18 10:39:41 - Accuracy Cosine Distance:   \t91.60\n",
      "2021-05-18 10:39:41 - Accuracy Manhatten Distance:\t91.40\n",
      "2021-05-18 10:39:41 - Accuracy Euclidean Distance:\t91.50\n",
      "\n",
      "2021-05-18 10:39:41 - Save model to /workspace/ceph_data/keypoint-analysis-sharedtask/triplet-models/semi-hard-triplet-loss\n"
     ]
    },
    {
     "data": {
      "application/vnd.jupyter.widget-view+json": {
       "model_id": "7e41be1c2c8b4476a35dc6daff53f433",
       "version_major": 2,
       "version_minor": 0
      },
      "text/plain": [
       "HBox(children=(FloatProgress(value=0.0, description='Iteration', max=66.0, style=ProgressStyle(description_wid…"
      ]
     },
     "metadata": {},
     "output_type": "display_data"
    },
    {
     "name": "stdout",
     "output_type": "stream",
     "text": [
      "\n",
      "2021-05-18 10:40:08 - TripletEvaluator: Evaluating the model on dev dataset after epoch 4:\n",
      "2021-05-18 10:40:12 - Accuracy Cosine Distance:   \t91.50\n",
      "2021-05-18 10:40:12 - Accuracy Manhatten Distance:\t91.60\n",
      "2021-05-18 10:40:12 - Accuracy Euclidean Distance:\t91.20\n",
      "\n",
      "\n"
     ]
    }
   ],
   "source": [
    "sbert_training.train_hard_triplet_modle('/workspace/ceph_data/keypoint-analysis-sharedtask/siamese-data/', \n",
    "                                        '/workspace/ceph_data/keypoint-analysis-sharedtask/triplet-models/semi-hard-triplet-loss', \n",
    "                                        'bert-base-uncased', training_loss='BatchSemiHardTripletLoss',  \n",
    "                                        num_epochs=5, train_batch_size=64, data_file_suffix='batch_hard')"
   ]
  },
  {
   "cell_type": "code",
   "execution_count": 14,
   "id": "0168013c-c8ed-49bc-87b9-24e6e543845e",
   "metadata": {
    "scrolled": true,
    "tags": []
   },
   "outputs": [
    {
     "name": "stdout",
     "output_type": "stream",
     "text": [
      "2021-05-18 11:47:12 - Read Triplet train dataset\n",
      "2021-05-18 11:47:12 - Read Triplet dev dataset\n",
      "2021-05-18 11:47:12 - SentenceLabelDataset: 4467 examples, from which 4260 examples could be used (those labels appeared at least 2 times). 207 different labels found.\n",
      "2021-05-18 11:47:12 - Load model\n",
      "2021-05-18 11:47:17 - Use pytorch device: cuda\n",
      "2021-05-18 11:47:17 - Performance before fine-tuning:\n",
      "2021-05-18 11:47:17 - TripletEvaluator: Evaluating the model on dev dataset:\n",
      "2021-05-18 11:47:22 - Accuracy Cosine Distance:   \t79.70\n",
      "2021-05-18 11:47:22 - Accuracy Manhatten Distance:\t79.50\n",
      "2021-05-18 11:47:22 - Accuracy Euclidean Distance:\t77.70\n",
      "\n"
     ]
    },
    {
     "data": {
      "application/vnd.jupyter.widget-view+json": {
       "model_id": "bd80f2f0328c4f9cbf1e1ede02ab8570",
       "version_major": 2,
       "version_minor": 0
      },
      "text/plain": [
       "HBox(children=(FloatProgress(value=0.0, description='Epoch', max=10.0, style=ProgressStyle(description_width='…"
      ]
     },
     "metadata": {},
     "output_type": "display_data"
    },
    {
     "data": {
      "application/vnd.jupyter.widget-view+json": {
       "model_id": "39b92e8afebf434da498274f7234b1af",
       "version_major": 2,
       "version_minor": 0
      },
      "text/plain": [
       "HBox(children=(FloatProgress(value=0.0, description='Iteration', max=66.0, style=ProgressStyle(description_wid…"
      ]
     },
     "metadata": {},
     "output_type": "display_data"
    },
    {
     "name": "stdout",
     "output_type": "stream",
     "text": [
      "\n",
      "2021-05-18 11:47:47 - TripletEvaluator: Evaluating the model on dev dataset after epoch 0:\n",
      "2021-05-18 11:47:51 - Accuracy Cosine Distance:   \t87.10\n",
      "2021-05-18 11:47:51 - Accuracy Manhatten Distance:\t86.40\n",
      "2021-05-18 11:47:51 - Accuracy Euclidean Distance:\t87.20\n",
      "\n",
      "2021-05-18 11:47:51 - Save model to /workspace/ceph_data/keypoint-analysis-sharedtask/triplet-models/semi-hard-triplet-loss\n"
     ]
    },
    {
     "data": {
      "application/vnd.jupyter.widget-view+json": {
       "model_id": "baf9b092713f42eba1311f5f0f936370",
       "version_major": 2,
       "version_minor": 0
      },
      "text/plain": [
       "HBox(children=(FloatProgress(value=0.0, description='Iteration', max=66.0, style=ProgressStyle(description_wid…"
      ]
     },
     "metadata": {},
     "output_type": "display_data"
    },
    {
     "name": "stdout",
     "output_type": "stream",
     "text": [
      "\n",
      "2021-05-18 11:48:17 - TripletEvaluator: Evaluating the model on dev dataset after epoch 1:\n",
      "2021-05-18 11:48:21 - Accuracy Cosine Distance:   \t87.70\n",
      "2021-05-18 11:48:21 - Accuracy Manhatten Distance:\t87.10\n",
      "2021-05-18 11:48:21 - Accuracy Euclidean Distance:\t87.50\n",
      "\n",
      "2021-05-18 11:48:21 - Save model to /workspace/ceph_data/keypoint-analysis-sharedtask/triplet-models/semi-hard-triplet-loss\n"
     ]
    },
    {
     "data": {
      "application/vnd.jupyter.widget-view+json": {
       "model_id": "670f57d83e18448ca67f2b658ce1d44c",
       "version_major": 2,
       "version_minor": 0
      },
      "text/plain": [
       "HBox(children=(FloatProgress(value=0.0, description='Iteration', max=66.0, style=ProgressStyle(description_wid…"
      ]
     },
     "metadata": {},
     "output_type": "display_data"
    },
    {
     "name": "stdout",
     "output_type": "stream",
     "text": [
      "\n",
      "2021-05-18 11:48:47 - TripletEvaluator: Evaluating the model on dev dataset after epoch 2:\n",
      "2021-05-18 11:48:51 - Accuracy Cosine Distance:   \t88.40\n",
      "2021-05-18 11:48:51 - Accuracy Manhatten Distance:\t88.30\n",
      "2021-05-18 11:48:51 - Accuracy Euclidean Distance:\t88.30\n",
      "\n",
      "2021-05-18 11:48:51 - Save model to /workspace/ceph_data/keypoint-analysis-sharedtask/triplet-models/semi-hard-triplet-loss\n"
     ]
    },
    {
     "data": {
      "application/vnd.jupyter.widget-view+json": {
       "model_id": "2821a90ea6b7482bbb5f23c9176ad892",
       "version_major": 2,
       "version_minor": 0
      },
      "text/plain": [
       "HBox(children=(FloatProgress(value=0.0, description='Iteration', max=66.0, style=ProgressStyle(description_wid…"
      ]
     },
     "metadata": {},
     "output_type": "display_data"
    },
    {
     "name": "stdout",
     "output_type": "stream",
     "text": [
      "\n",
      "2021-05-18 11:49:17 - TripletEvaluator: Evaluating the model on dev dataset after epoch 3:\n",
      "2021-05-18 11:49:21 - Accuracy Cosine Distance:   \t89.50\n",
      "2021-05-18 11:49:21 - Accuracy Manhatten Distance:\t90.10\n",
      "2021-05-18 11:49:21 - Accuracy Euclidean Distance:\t89.20\n",
      "\n",
      "2021-05-18 11:49:21 - Save model to /workspace/ceph_data/keypoint-analysis-sharedtask/triplet-models/semi-hard-triplet-loss\n"
     ]
    },
    {
     "data": {
      "application/vnd.jupyter.widget-view+json": {
       "model_id": "d339d40f396e448289a8d534a6f24c97",
       "version_major": 2,
       "version_minor": 0
      },
      "text/plain": [
       "HBox(children=(FloatProgress(value=0.0, description='Iteration', max=66.0, style=ProgressStyle(description_wid…"
      ]
     },
     "metadata": {},
     "output_type": "display_data"
    },
    {
     "name": "stdout",
     "output_type": "stream",
     "text": [
      "\n",
      "2021-05-18 11:49:47 - TripletEvaluator: Evaluating the model on dev dataset after epoch 4:\n",
      "2021-05-18 11:49:52 - Accuracy Cosine Distance:   \t89.60\n",
      "2021-05-18 11:49:52 - Accuracy Manhatten Distance:\t90.00\n",
      "2021-05-18 11:49:52 - Accuracy Euclidean Distance:\t89.60\n",
      "\n"
     ]
    },
    {
     "data": {
      "application/vnd.jupyter.widget-view+json": {
       "model_id": "82e994c9e0854bdf8915fd5514a40192",
       "version_major": 2,
       "version_minor": 0
      },
      "text/plain": [
       "HBox(children=(FloatProgress(value=0.0, description='Iteration', max=66.0, style=ProgressStyle(description_wid…"
      ]
     },
     "metadata": {},
     "output_type": "display_data"
    },
    {
     "name": "stdout",
     "output_type": "stream",
     "text": [
      "\n",
      "2021-05-18 11:50:16 - TripletEvaluator: Evaluating the model on dev dataset after epoch 5:\n",
      "2021-05-18 11:50:21 - Accuracy Cosine Distance:   \t90.70\n",
      "2021-05-18 11:50:21 - Accuracy Manhatten Distance:\t90.60\n",
      "2021-05-18 11:50:21 - Accuracy Euclidean Distance:\t90.20\n",
      "\n",
      "2021-05-18 11:50:21 - Save model to /workspace/ceph_data/keypoint-analysis-sharedtask/triplet-models/semi-hard-triplet-loss\n"
     ]
    },
    {
     "data": {
      "application/vnd.jupyter.widget-view+json": {
       "model_id": "8ec86584e0bb45c19de313b19927e1a3",
       "version_major": 2,
       "version_minor": 0
      },
      "text/plain": [
       "HBox(children=(FloatProgress(value=0.0, description='Iteration', max=66.0, style=ProgressStyle(description_wid…"
      ]
     },
     "metadata": {},
     "output_type": "display_data"
    },
    {
     "name": "stdout",
     "output_type": "stream",
     "text": [
      "\n",
      "2021-05-18 11:50:47 - TripletEvaluator: Evaluating the model on dev dataset after epoch 6:\n",
      "2021-05-18 11:50:52 - Accuracy Cosine Distance:   \t90.40\n",
      "2021-05-18 11:50:52 - Accuracy Manhatten Distance:\t90.80\n",
      "2021-05-18 11:50:52 - Accuracy Euclidean Distance:\t90.20\n",
      "\n",
      "2021-05-18 11:50:52 - Save model to /workspace/ceph_data/keypoint-analysis-sharedtask/triplet-models/semi-hard-triplet-loss\n"
     ]
    },
    {
     "data": {
      "application/vnd.jupyter.widget-view+json": {
       "model_id": "7882b6f5878245f3af483fd77b5c4652",
       "version_major": 2,
       "version_minor": 0
      },
      "text/plain": [
       "HBox(children=(FloatProgress(value=0.0, description='Iteration', max=66.0, style=ProgressStyle(description_wid…"
      ]
     },
     "metadata": {},
     "output_type": "display_data"
    },
    {
     "name": "stdout",
     "output_type": "stream",
     "text": [
      "\n",
      "2021-05-18 11:51:18 - TripletEvaluator: Evaluating the model on dev dataset after epoch 7:\n",
      "2021-05-18 11:51:22 - Accuracy Cosine Distance:   \t89.60\n",
      "2021-05-18 11:51:22 - Accuracy Manhatten Distance:\t89.80\n",
      "2021-05-18 11:51:22 - Accuracy Euclidean Distance:\t89.50\n",
      "\n"
     ]
    },
    {
     "data": {
      "application/vnd.jupyter.widget-view+json": {
       "model_id": "50ae31fe3dcc477fbd7ce91d12011ba7",
       "version_major": 2,
       "version_minor": 0
      },
      "text/plain": [
       "HBox(children=(FloatProgress(value=0.0, description='Iteration', max=66.0, style=ProgressStyle(description_wid…"
      ]
     },
     "metadata": {},
     "output_type": "display_data"
    },
    {
     "name": "stdout",
     "output_type": "stream",
     "text": [
      "\n",
      "2021-05-18 11:51:47 - TripletEvaluator: Evaluating the model on dev dataset after epoch 8:\n",
      "2021-05-18 11:51:52 - Accuracy Cosine Distance:   \t89.90\n",
      "2021-05-18 11:51:52 - Accuracy Manhatten Distance:\t90.40\n",
      "2021-05-18 11:51:52 - Accuracy Euclidean Distance:\t90.00\n",
      "\n"
     ]
    },
    {
     "data": {
      "application/vnd.jupyter.widget-view+json": {
       "model_id": "fbddeeb3069e48109154aaa4edd76395",
       "version_major": 2,
       "version_minor": 0
      },
      "text/plain": [
       "HBox(children=(FloatProgress(value=0.0, description='Iteration', max=66.0, style=ProgressStyle(description_wid…"
      ]
     },
     "metadata": {},
     "output_type": "display_data"
    },
    {
     "name": "stdout",
     "output_type": "stream",
     "text": [
      "\n",
      "2021-05-18 11:52:17 - TripletEvaluator: Evaluating the model on dev dataset after epoch 9:\n",
      "2021-05-18 11:52:21 - Accuracy Cosine Distance:   \t90.80\n",
      "2021-05-18 11:52:21 - Accuracy Manhatten Distance:\t90.60\n",
      "2021-05-18 11:52:21 - Accuracy Euclidean Distance:\t90.80\n",
      "\n",
      "\n"
     ]
    }
   ],
   "source": [
    "sbert_training.train_hard_triplet_modle('/workspace/ceph_data/keypoint-analysis-sharedtask/siamese-data/', \n",
    "                                        '/workspace/ceph_data/keypoint-analysis-sharedtask/triplet-models/semi-hard-triplet-loss', \n",
    "                                        'bert-base-uncased', training_loss='BatchSemiHardTripletLoss',  \n",
    "                                        num_epochs=10, train_batch_size=64, data_file_suffix='batch_hard')"
   ]
  },
  {
   "cell_type": "markdown",
   "id": "c12581c2-00ee-4bd1-a77d-52ab97447060",
   "metadata": {},
   "source": [
    "### Contrastive Loss:"
   ]
  },
  {
   "cell_type": "code",
   "execution_count": 43,
   "id": "b9b14f1b-554e-43fa-93f1-a9e6b9973588",
   "metadata": {
    "scrolled": true,
    "tags": []
   },
   "outputs": [
    {
     "name": "stdout",
     "output_type": "stream",
     "text": [
      "2021-05-28 16:41:07 - Use pytorch device: cuda\n",
      "2021-05-28 16:41:07 - Read Triplet train dataset\n"
     ]
    },
    {
     "data": {
      "application/vnd.jupyter.widget-view+json": {
       "model_id": "bc64abb2fb424980874d1879cdf68f08",
       "version_major": 2,
       "version_minor": 0
      },
      "text/plain": [
       "HBox(children=(FloatProgress(value=0.0, description='Epoch', max=10.0, style=ProgressStyle(description_width='…"
      ]
     },
     "metadata": {},
     "output_type": "display_data"
    },
    {
     "data": {
      "application/vnd.jupyter.widget-view+json": {
       "model_id": "21c96f9b667f4071bbe7d5e51038fb22",
       "version_major": 2,
       "version_minor": 0
      },
      "text/plain": [
       "HBox(children=(FloatProgress(value=0.0, description='Iteration', max=645.0, style=ProgressStyle(description_wi…"
      ]
     },
     "metadata": {},
     "output_type": "display_data"
    },
    {
     "name": "stdout",
     "output_type": "stream",
     "text": [
      "2021-05-28 16:43:37 - TripletEvaluator: Evaluating the model on dev dataset in epoch 0 after 500 steps:\n",
      "mAP strict= 0.7952519106026769 ; mAP relaxed = 0.9668009029686272\n",
      "2021-05-28 16:43:40 - mAP strict:   \t79.53\n",
      "2021-05-28 16:43:40 - mAP relaxed:   \t96.68\n",
      "2021-05-28 16:43:40 - Save model to /workspace/ceph_data/keypoint-analysis-sharedtask/siamese-models/roberta-base-contrastive-10-epochs-2021-05-28_16-41-01\n",
      "\n",
      "2021-05-28 16:44:24 - TripletEvaluator: Evaluating the model on dev dataset after epoch 0:\n",
      "mAP strict= 0.8342435579723064 ; mAP relaxed = 0.9696185558523551\n",
      "2021-05-28 16:44:26 - mAP strict:   \t83.42\n",
      "2021-05-28 16:44:26 - mAP relaxed:   \t96.96\n",
      "2021-05-28 16:44:26 - Save model to /workspace/ceph_data/keypoint-analysis-sharedtask/siamese-models/roberta-base-contrastive-10-epochs-2021-05-28_16-41-01\n"
     ]
    },
    {
     "data": {
      "application/vnd.jupyter.widget-view+json": {
       "model_id": "fcd29cb55b014288a935c02c6443de81",
       "version_major": 2,
       "version_minor": 0
      },
      "text/plain": [
       "HBox(children=(FloatProgress(value=0.0, description='Iteration', max=645.0, style=ProgressStyle(description_wi…"
      ]
     },
     "metadata": {},
     "output_type": "display_data"
    },
    {
     "name": "stdout",
     "output_type": "stream",
     "text": [
      "2021-05-28 16:46:57 - TripletEvaluator: Evaluating the model on dev dataset in epoch 1 after 500 steps:\n",
      "mAP strict= 0.8131806570604801 ; mAP relaxed = 0.9631507751654879\n",
      "2021-05-28 16:47:00 - mAP strict:   \t81.32\n",
      "2021-05-28 16:47:00 - mAP relaxed:   \t96.32\n",
      "\n",
      "2021-05-28 16:47:43 - TripletEvaluator: Evaluating the model on dev dataset after epoch 1:\n",
      "mAP strict= 0.8396659871968146 ; mAP relaxed = 0.9705824390309555\n",
      "2021-05-28 16:47:45 - mAP strict:   \t83.97\n",
      "2021-05-28 16:47:45 - mAP relaxed:   \t97.06\n",
      "2021-05-28 16:47:45 - Save model to /workspace/ceph_data/keypoint-analysis-sharedtask/siamese-models/roberta-base-contrastive-10-epochs-2021-05-28_16-41-01\n"
     ]
    },
    {
     "data": {
      "application/vnd.jupyter.widget-view+json": {
       "model_id": "524936c713854286b810d93a7504e89d",
       "version_major": 2,
       "version_minor": 0
      },
      "text/plain": [
       "HBox(children=(FloatProgress(value=0.0, description='Iteration', max=645.0, style=ProgressStyle(description_wi…"
      ]
     },
     "metadata": {},
     "output_type": "display_data"
    },
    {
     "name": "stdout",
     "output_type": "stream",
     "text": [
      "2021-05-28 16:50:16 - TripletEvaluator: Evaluating the model on dev dataset in epoch 2 after 500 steps:\n",
      "mAP strict= 0.7878916205040375 ; mAP relaxed = 0.9640971922939092\n",
      "2021-05-28 16:50:18 - mAP strict:   \t78.79\n",
      "2021-05-28 16:50:18 - mAP relaxed:   \t96.41\n",
      "\n",
      "2021-05-28 16:51:01 - TripletEvaluator: Evaluating the model on dev dataset after epoch 2:\n",
      "mAP strict= 0.8055851837749841 ; mAP relaxed = 0.9626366184268267\n",
      "2021-05-28 16:51:04 - mAP strict:   \t80.56\n",
      "2021-05-28 16:51:04 - mAP relaxed:   \t96.26\n"
     ]
    },
    {
     "data": {
      "application/vnd.jupyter.widget-view+json": {
       "model_id": "bcab1dd557f644c8a1d7775707fe55bc",
       "version_major": 2,
       "version_minor": 0
      },
      "text/plain": [
       "HBox(children=(FloatProgress(value=0.0, description='Iteration', max=645.0, style=ProgressStyle(description_wi…"
      ]
     },
     "metadata": {},
     "output_type": "display_data"
    },
    {
     "name": "stdout",
     "output_type": "stream",
     "text": [
      "2021-05-28 16:53:33 - TripletEvaluator: Evaluating the model on dev dataset in epoch 3 after 500 steps:\n",
      "mAP strict= 0.7969782339766143 ; mAP relaxed = 0.9727907332049299\n",
      "2021-05-28 16:53:35 - mAP strict:   \t79.70\n",
      "2021-05-28 16:53:35 - mAP relaxed:   \t97.28\n",
      "\n",
      "2021-05-28 16:54:18 - TripletEvaluator: Evaluating the model on dev dataset after epoch 3:\n",
      "mAP strict= 0.8309058125868565 ; mAP relaxed = 0.9672322762452008\n",
      "2021-05-28 16:54:21 - mAP strict:   \t83.09\n",
      "2021-05-28 16:54:21 - mAP relaxed:   \t96.72\n"
     ]
    },
    {
     "data": {
      "application/vnd.jupyter.widget-view+json": {
       "model_id": "dca841c371974ccfbb2824975f03bd52",
       "version_major": 2,
       "version_minor": 0
      },
      "text/plain": [
       "HBox(children=(FloatProgress(value=0.0, description='Iteration', max=645.0, style=ProgressStyle(description_wi…"
      ]
     },
     "metadata": {},
     "output_type": "display_data"
    },
    {
     "name": "stdout",
     "output_type": "stream",
     "text": [
      "2021-05-28 16:56:51 - TripletEvaluator: Evaluating the model on dev dataset in epoch 4 after 500 steps:\n",
      "mAP strict= 0.7980472441428121 ; mAP relaxed = 0.9738388941944832\n",
      "2021-05-28 16:56:53 - mAP strict:   \t79.80\n",
      "2021-05-28 16:56:53 - mAP relaxed:   \t97.38\n",
      "\n",
      "2021-05-28 16:57:36 - TripletEvaluator: Evaluating the model on dev dataset after epoch 4:\n",
      "mAP strict= 0.7892972001805253 ; mAP relaxed = 0.9362984408280655\n",
      "2021-05-28 16:57:38 - mAP strict:   \t78.93\n",
      "2021-05-28 16:57:38 - mAP relaxed:   \t93.63\n"
     ]
    },
    {
     "data": {
      "application/vnd.jupyter.widget-view+json": {
       "model_id": "92e6db7262ef46eaaaf482b680c5b151",
       "version_major": 2,
       "version_minor": 0
      },
      "text/plain": [
       "HBox(children=(FloatProgress(value=0.0, description='Iteration', max=645.0, style=ProgressStyle(description_wi…"
      ]
     },
     "metadata": {},
     "output_type": "display_data"
    },
    {
     "name": "stdout",
     "output_type": "stream",
     "text": [
      "2021-05-28 17:00:08 - TripletEvaluator: Evaluating the model on dev dataset in epoch 5 after 500 steps:\n",
      "mAP strict= 0.7888528773609202 ; mAP relaxed = 0.9652691585854614\n",
      "2021-05-28 17:00:10 - mAP strict:   \t78.89\n",
      "2021-05-28 17:00:10 - mAP relaxed:   \t96.53\n",
      "\n",
      "2021-05-28 17:00:53 - TripletEvaluator: Evaluating the model on dev dataset after epoch 5:\n",
      "mAP strict= 0.7939577046307215 ; mAP relaxed = 0.9558754484549591\n",
      "2021-05-28 17:00:55 - mAP strict:   \t79.40\n",
      "2021-05-28 17:00:55 - mAP relaxed:   \t95.59\n"
     ]
    },
    {
     "data": {
      "application/vnd.jupyter.widget-view+json": {
       "model_id": "fddf09fff09e44ee9a9c98b8b85ab1e5",
       "version_major": 2,
       "version_minor": 0
      },
      "text/plain": [
       "HBox(children=(FloatProgress(value=0.0, description='Iteration', max=645.0, style=ProgressStyle(description_wi…"
      ]
     },
     "metadata": {},
     "output_type": "display_data"
    },
    {
     "name": "stdout",
     "output_type": "stream",
     "text": [
      "2021-05-28 17:03:25 - TripletEvaluator: Evaluating the model on dev dataset in epoch 6 after 500 steps:\n",
      "mAP strict= 0.7903550206134541 ; mAP relaxed = 0.968211376623856\n",
      "2021-05-28 17:03:27 - mAP strict:   \t79.04\n",
      "2021-05-28 17:03:27 - mAP relaxed:   \t96.82\n",
      "\n",
      "2021-05-28 17:04:10 - TripletEvaluator: Evaluating the model on dev dataset after epoch 6:\n",
      "mAP strict= 0.7984175247708589 ; mAP relaxed = 0.9671560242785627\n",
      "2021-05-28 17:04:12 - mAP strict:   \t79.84\n",
      "2021-05-28 17:04:12 - mAP relaxed:   \t96.72\n"
     ]
    },
    {
     "data": {
      "application/vnd.jupyter.widget-view+json": {
       "model_id": "61c0567746914842b2eaa255a76e7c37",
       "version_major": 2,
       "version_minor": 0
      },
      "text/plain": [
       "HBox(children=(FloatProgress(value=0.0, description='Iteration', max=645.0, style=ProgressStyle(description_wi…"
      ]
     },
     "metadata": {},
     "output_type": "display_data"
    },
    {
     "name": "stdout",
     "output_type": "stream",
     "text": [
      "2021-05-28 17:06:41 - TripletEvaluator: Evaluating the model on dev dataset in epoch 7 after 500 steps:\n",
      "mAP strict= 0.7854417782247485 ; mAP relaxed = 0.9612125025364464\n",
      "2021-05-28 17:06:44 - mAP strict:   \t78.54\n",
      "2021-05-28 17:06:44 - mAP relaxed:   \t96.12\n",
      "\n",
      "2021-05-28 17:07:27 - TripletEvaluator: Evaluating the model on dev dataset after epoch 7:\n",
      "mAP strict= 0.78476257881283 ; mAP relaxed = 0.9543083300387903\n",
      "2021-05-28 17:07:29 - mAP strict:   \t78.48\n",
      "2021-05-28 17:07:29 - mAP relaxed:   \t95.43\n"
     ]
    },
    {
     "data": {
      "application/vnd.jupyter.widget-view+json": {
       "model_id": "cafbb9fbb6164d6c977b5c1209b9a95b",
       "version_major": 2,
       "version_minor": 0
      },
      "text/plain": [
       "HBox(children=(FloatProgress(value=0.0, description='Iteration', max=645.0, style=ProgressStyle(description_wi…"
      ]
     },
     "metadata": {},
     "output_type": "display_data"
    },
    {
     "name": "stdout",
     "output_type": "stream",
     "text": [
      "2021-05-28 17:09:58 - TripletEvaluator: Evaluating the model on dev dataset in epoch 8 after 500 steps:\n",
      "mAP strict= 0.7829577252267919 ; mAP relaxed = 0.9623990868394958\n",
      "2021-05-28 17:10:01 - mAP strict:   \t78.30\n",
      "2021-05-28 17:10:01 - mAP relaxed:   \t96.24\n",
      "\n",
      "2021-05-28 17:10:44 - TripletEvaluator: Evaluating the model on dev dataset after epoch 8:\n",
      "mAP strict= 0.7839283128445473 ; mAP relaxed = 0.9620014119435017\n",
      "2021-05-28 17:10:46 - mAP strict:   \t78.39\n",
      "2021-05-28 17:10:46 - mAP relaxed:   \t96.20\n"
     ]
    },
    {
     "data": {
      "application/vnd.jupyter.widget-view+json": {
       "model_id": "4309fae76c8f4bdebe37efd1abeff784",
       "version_major": 2,
       "version_minor": 0
      },
      "text/plain": [
       "HBox(children=(FloatProgress(value=0.0, description='Iteration', max=645.0, style=ProgressStyle(description_wi…"
      ]
     },
     "metadata": {},
     "output_type": "display_data"
    },
    {
     "name": "stdout",
     "output_type": "stream",
     "text": [
      "2021-05-28 17:13:15 - TripletEvaluator: Evaluating the model on dev dataset in epoch 9 after 500 steps:\n",
      "mAP strict= 0.7864138474398386 ; mAP relaxed = 0.9629793053657515\n",
      "2021-05-28 17:13:17 - mAP strict:   \t78.64\n",
      "2021-05-28 17:13:17 - mAP relaxed:   \t96.30\n",
      "\n",
      "2021-05-28 17:14:00 - TripletEvaluator: Evaluating the model on dev dataset after epoch 9:\n",
      "mAP strict= 0.7853380811271349 ; mAP relaxed = 0.9620852406086736\n",
      "2021-05-28 17:14:03 - mAP strict:   \t78.53\n",
      "2021-05-28 17:14:03 - mAP relaxed:   \t96.21\n",
      "\n"
     ]
    }
   ],
   "source": [
    "sbert_training.train_model('/workspace/ceph_data/keypoint-analysis-sharedtask/siamese-data/',\n",
    "                           '../../KPA_2021_shared_task/kpm_data/',\n",
    "                           'dev',\n",
    "                           '/workspace/ceph_data/keypoint-analysis-sharedtask/siamese-models/',\n",
    "                           'roberta-base',\n",
    "                           model_suffix='contrastive-10-epochs', \n",
    "                           data_file_suffix='contrastive',\n",
    "                           num_epochs=10, max_seq_length=70, add_special_token=True, train_batch_size=32, loss='ContrastiveLoss')\n"
   ]
  },
  {
   "cell_type": "code",
   "execution_count": 8,
   "id": "bd232289-9a5f-4b88-9642-c8ef71b5867b",
   "metadata": {
    "scrolled": true,
    "tags": []
   },
   "outputs": [
    {
     "name": "stdout",
     "output_type": "stream",
     "text": [
      "2021-06-19 13:01:41 - Use pytorch device: cuda\n",
      "2021-06-19 13:01:41 - Read Triplet train dataset\n"
     ]
    },
    {
     "data": {
      "application/vnd.jupyter.widget-view+json": {
       "model_id": "fc26184666a24d0cb0297fd489757dbd",
       "version_major": 2,
       "version_minor": 0
      },
      "text/plain": [
       "HBox(children=(FloatProgress(value=0.0, description='Epoch', max=10.0, style=ProgressStyle(description_width='…"
      ]
     },
     "metadata": {},
     "output_type": "display_data"
    },
    {
     "data": {
      "application/vnd.jupyter.widget-view+json": {
       "model_id": "5f04509977cc4a0fbaf034dd612931ee",
       "version_major": 2,
       "version_minor": 0
      },
      "text/plain": [
       "HBox(children=(FloatProgress(value=0.0, description='Iteration', max=1290.0, style=ProgressStyle(description_w…"
      ]
     },
     "metadata": {},
     "output_type": "display_data"
    },
    {
     "name": "stdout",
     "output_type": "stream",
     "text": [
      "2021-06-19 13:05:53 - TripletEvaluator: Evaluating the model on dev dataset in epoch 0 after 500 steps:\n",
      "mAP strict= 0.3107684853330456 ; mAP relaxed = 0.563326334743465\n",
      "2021-06-19 13:05:58 - mAP strict:   \t31.08\n",
      "2021-06-19 13:05:58 - mAP relaxed:   \t56.33\n",
      "2021-06-19 13:05:58 - Save model to /workspace/ceph_data/keypoint-analysis-sharedtask/siamese-models/roberta-base-contrastive-amr-2021-06-19_13-01-30\n",
      "2021-06-19 13:10:14 - TripletEvaluator: Evaluating the model on dev dataset in epoch 0 after 1000 steps:\n",
      "mAP strict= 0.34469469368712735 ; mAP relaxed = 0.577139785711254\n",
      "2021-06-19 13:10:19 - mAP strict:   \t34.47\n",
      "2021-06-19 13:10:19 - mAP relaxed:   \t57.71\n",
      "2021-06-19 13:10:19 - Save model to /workspace/ceph_data/keypoint-analysis-sharedtask/siamese-models/roberta-base-contrastive-amr-2021-06-19_13-01-30\n",
      "\n",
      "2021-06-19 13:12:52 - TripletEvaluator: Evaluating the model on dev dataset after epoch 0:\n",
      "mAP strict= 0.4578949980106321 ; mAP relaxed = 0.6465553981005966\n",
      "2021-06-19 13:12:57 - mAP strict:   \t45.79\n",
      "2021-06-19 13:12:57 - mAP relaxed:   \t64.66\n",
      "2021-06-19 13:12:57 - Save model to /workspace/ceph_data/keypoint-analysis-sharedtask/siamese-models/roberta-base-contrastive-amr-2021-06-19_13-01-30\n"
     ]
    },
    {
     "data": {
      "application/vnd.jupyter.widget-view+json": {
       "model_id": "e7365a92b4b04644aa8a7b3a8fb7aa99",
       "version_major": 2,
       "version_minor": 0
      },
      "text/plain": [
       "HBox(children=(FloatProgress(value=0.0, description='Iteration', max=1290.0, style=ProgressStyle(description_w…"
      ]
     },
     "metadata": {},
     "output_type": "display_data"
    },
    {
     "name": "stdout",
     "output_type": "stream",
     "text": [
      "2021-06-19 13:17:11 - TripletEvaluator: Evaluating the model on dev dataset in epoch 1 after 500 steps:\n",
      "mAP strict= 0.5950480821223352 ; mAP relaxed = 0.822104249026827\n",
      "2021-06-19 13:17:16 - mAP strict:   \t59.50\n",
      "2021-06-19 13:17:16 - mAP relaxed:   \t82.21\n",
      "2021-06-19 13:17:16 - Save model to /workspace/ceph_data/keypoint-analysis-sharedtask/siamese-models/roberta-base-contrastive-amr-2021-06-19_13-01-30\n",
      "2021-06-19 13:21:33 - TripletEvaluator: Evaluating the model on dev dataset in epoch 1 after 1000 steps:\n",
      "mAP strict= 0.5813661904197094 ; mAP relaxed = 0.7667261626419373\n",
      "2021-06-19 13:21:38 - mAP strict:   \t58.14\n",
      "2021-06-19 13:21:38 - mAP relaxed:   \t76.67\n",
      "\n",
      "2021-06-19 13:24:06 - TripletEvaluator: Evaluating the model on dev dataset after epoch 1:\n",
      "mAP strict= 0.5606684714082286 ; mAP relaxed = 0.7584484983683706\n",
      "2021-06-19 13:24:12 - mAP strict:   \t56.07\n",
      "2021-06-19 13:24:12 - mAP relaxed:   \t75.84\n"
     ]
    },
    {
     "data": {
      "application/vnd.jupyter.widget-view+json": {
       "model_id": "74d270ec3721467d8d6e9f9733ab113f",
       "version_major": 2,
       "version_minor": 0
      },
      "text/plain": [
       "HBox(children=(FloatProgress(value=0.0, description='Iteration', max=1290.0, style=ProgressStyle(description_w…"
      ]
     },
     "metadata": {},
     "output_type": "display_data"
    },
    {
     "name": "stdout",
     "output_type": "stream",
     "text": [
      "2021-06-19 13:28:24 - TripletEvaluator: Evaluating the model on dev dataset in epoch 2 after 500 steps:\n",
      "mAP strict= 0.511737459493023 ; mAP relaxed = 0.7843838736448425\n",
      "2021-06-19 13:28:29 - mAP strict:   \t51.17\n",
      "2021-06-19 13:28:29 - mAP relaxed:   \t78.44\n",
      "2021-06-19 13:32:40 - TripletEvaluator: Evaluating the model on dev dataset in epoch 2 after 1000 steps:\n",
      "mAP strict= 0.6211218663083409 ; mAP relaxed = 0.8329794084395068\n",
      "2021-06-19 13:32:45 - mAP strict:   \t62.11\n",
      "2021-06-19 13:32:45 - mAP relaxed:   \t83.30\n",
      "2021-06-19 13:32:45 - Save model to /workspace/ceph_data/keypoint-analysis-sharedtask/siamese-models/roberta-base-contrastive-amr-2021-06-19_13-01-30\n",
      "\n",
      "2021-06-19 13:35:12 - TripletEvaluator: Evaluating the model on dev dataset after epoch 2:\n",
      "mAP strict= 0.6704150272955145 ; mAP relaxed = 0.8179893902581314\n",
      "2021-06-19 13:35:17 - mAP strict:   \t67.04\n",
      "2021-06-19 13:35:17 - mAP relaxed:   \t81.80\n",
      "2021-06-19 13:35:17 - Save model to /workspace/ceph_data/keypoint-analysis-sharedtask/siamese-models/roberta-base-contrastive-amr-2021-06-19_13-01-30\n"
     ]
    },
    {
     "data": {
      "application/vnd.jupyter.widget-view+json": {
       "model_id": "6a4fcadbf97741eebc9e2fc1859b7cdf",
       "version_major": 2,
       "version_minor": 0
      },
      "text/plain": [
       "HBox(children=(FloatProgress(value=0.0, description='Iteration', max=1290.0, style=ProgressStyle(description_w…"
      ]
     },
     "metadata": {},
     "output_type": "display_data"
    },
    {
     "name": "stdout",
     "output_type": "stream",
     "text": [
      "2021-06-19 13:39:29 - TripletEvaluator: Evaluating the model on dev dataset in epoch 3 after 500 steps:\n",
      "mAP strict= 0.5519535954738194 ; mAP relaxed = 0.6630051231572412\n",
      "2021-06-19 13:39:34 - mAP strict:   \t55.20\n",
      "2021-06-19 13:39:34 - mAP relaxed:   \t66.30\n",
      "2021-06-19 13:43:46 - TripletEvaluator: Evaluating the model on dev dataset in epoch 3 after 1000 steps:\n",
      "mAP strict= 0.6097714352018754 ; mAP relaxed = 0.7951334506027814\n",
      "2021-06-19 13:43:51 - mAP strict:   \t60.98\n",
      "2021-06-19 13:43:51 - mAP relaxed:   \t79.51\n",
      "\n",
      "2021-06-19 13:46:19 - TripletEvaluator: Evaluating the model on dev dataset after epoch 3:\n",
      "mAP strict= 0.6702314068638415 ; mAP relaxed = 0.8257354259290552\n",
      "2021-06-19 13:46:24 - mAP strict:   \t67.02\n",
      "2021-06-19 13:46:24 - mAP relaxed:   \t82.57\n",
      "2021-06-19 13:46:24 - Save model to /workspace/ceph_data/keypoint-analysis-sharedtask/siamese-models/roberta-base-contrastive-amr-2021-06-19_13-01-30\n"
     ]
    },
    {
     "data": {
      "application/vnd.jupyter.widget-view+json": {
       "model_id": "4ac3937e688147979ca55443bc230541",
       "version_major": 2,
       "version_minor": 0
      },
      "text/plain": [
       "HBox(children=(FloatProgress(value=0.0, description='Iteration', max=1290.0, style=ProgressStyle(description_w…"
      ]
     },
     "metadata": {},
     "output_type": "display_data"
    },
    {
     "name": "stdout",
     "output_type": "stream",
     "text": [
      "2021-06-19 13:50:38 - TripletEvaluator: Evaluating the model on dev dataset in epoch 4 after 500 steps:\n",
      "mAP strict= 0.5610586586268773 ; mAP relaxed = 0.7153170853396533\n",
      "2021-06-19 13:50:43 - mAP strict:   \t56.11\n",
      "2021-06-19 13:50:43 - mAP relaxed:   \t71.53\n",
      "2021-06-19 13:54:53 - TripletEvaluator: Evaluating the model on dev dataset in epoch 4 after 1000 steps:\n",
      "mAP strict= 0.6663574431471097 ; mAP relaxed = 0.8619535436592911\n",
      "2021-06-19 13:54:59 - mAP strict:   \t66.64\n",
      "2021-06-19 13:54:59 - mAP relaxed:   \t86.20\n",
      "2021-06-19 13:54:59 - Save model to /workspace/ceph_data/keypoint-analysis-sharedtask/siamese-models/roberta-base-contrastive-amr-2021-06-19_13-01-30\n",
      "\n",
      "2021-06-19 13:57:28 - TripletEvaluator: Evaluating the model on dev dataset after epoch 4:\n",
      "mAP strict= 0.7137274198719388 ; mAP relaxed = 0.8830090170885871\n",
      "2021-06-19 13:57:33 - mAP strict:   \t71.37\n",
      "2021-06-19 13:57:33 - mAP relaxed:   \t88.30\n",
      "2021-06-19 13:57:33 - Save model to /workspace/ceph_data/keypoint-analysis-sharedtask/siamese-models/roberta-base-contrastive-amr-2021-06-19_13-01-30\n"
     ]
    },
    {
     "data": {
      "application/vnd.jupyter.widget-view+json": {
       "model_id": "43eb9474b3ca4760a3571953cb705da0",
       "version_major": 2,
       "version_minor": 0
      },
      "text/plain": [
       "HBox(children=(FloatProgress(value=0.0, description='Iteration', max=1290.0, style=ProgressStyle(description_w…"
      ]
     },
     "metadata": {},
     "output_type": "display_data"
    },
    {
     "name": "stdout",
     "output_type": "stream",
     "text": [
      "2021-06-19 14:01:46 - TripletEvaluator: Evaluating the model on dev dataset in epoch 5 after 500 steps:\n",
      "mAP strict= 0.6557998422274887 ; mAP relaxed = 0.8347145424497533\n",
      "2021-06-19 14:01:51 - mAP strict:   \t65.58\n",
      "2021-06-19 14:01:51 - mAP relaxed:   \t83.47\n",
      "2021-06-19 14:06:03 - TripletEvaluator: Evaluating the model on dev dataset in epoch 5 after 1000 steps:\n",
      "mAP strict= 0.7115306840083808 ; mAP relaxed = 0.854567701994635\n",
      "2021-06-19 14:06:08 - mAP strict:   \t71.15\n",
      "2021-06-19 14:06:08 - mAP relaxed:   \t85.46\n",
      "\n",
      "2021-06-19 14:08:34 - TripletEvaluator: Evaluating the model on dev dataset after epoch 5:\n",
      "mAP strict= 0.7059856958492945 ; mAP relaxed = 0.8707005136320223\n",
      "2021-06-19 14:08:40 - mAP strict:   \t70.60\n",
      "2021-06-19 14:08:40 - mAP relaxed:   \t87.07\n"
     ]
    },
    {
     "data": {
      "application/vnd.jupyter.widget-view+json": {
       "model_id": "47884cd6ea034bf884189a041b5944b7",
       "version_major": 2,
       "version_minor": 0
      },
      "text/plain": [
       "HBox(children=(FloatProgress(value=0.0, description='Iteration', max=1290.0, style=ProgressStyle(description_w…"
      ]
     },
     "metadata": {},
     "output_type": "display_data"
    },
    {
     "name": "stdout",
     "output_type": "stream",
     "text": [
      "2021-06-19 14:12:48 - TripletEvaluator: Evaluating the model on dev dataset in epoch 6 after 500 steps:\n",
      "mAP strict= 0.6721596431774536 ; mAP relaxed = 0.8494311019895413\n",
      "2021-06-19 14:12:53 - mAP strict:   \t67.22\n",
      "2021-06-19 14:12:53 - mAP relaxed:   \t84.94\n",
      "2021-06-19 14:16:57 - TripletEvaluator: Evaluating the model on dev dataset in epoch 6 after 1000 steps:\n",
      "mAP strict= 0.6460439297504601 ; mAP relaxed = 0.8612463924436485\n",
      "2021-06-19 14:17:01 - mAP strict:   \t64.60\n",
      "2021-06-19 14:17:01 - mAP relaxed:   \t86.12\n",
      "\n",
      "2021-06-19 14:19:21 - TripletEvaluator: Evaluating the model on dev dataset after epoch 6:\n",
      "mAP strict= 0.6513889916692092 ; mAP relaxed = 0.8536500434625067\n",
      "2021-06-19 14:19:27 - mAP strict:   \t65.14\n",
      "2021-06-19 14:19:27 - mAP relaxed:   \t85.37\n"
     ]
    },
    {
     "data": {
      "application/vnd.jupyter.widget-view+json": {
       "model_id": "828602e007dd46f08eb829cdc1ce9731",
       "version_major": 2,
       "version_minor": 0
      },
      "text/plain": [
       "HBox(children=(FloatProgress(value=0.0, description='Iteration', max=1290.0, style=ProgressStyle(description_w…"
      ]
     },
     "metadata": {},
     "output_type": "display_data"
    },
    {
     "name": "stdout",
     "output_type": "stream",
     "text": [
      "2021-06-19 14:23:31 - TripletEvaluator: Evaluating the model on dev dataset in epoch 7 after 500 steps:\n",
      "mAP strict= 0.6898484044305688 ; mAP relaxed = 0.8653693638286154\n",
      "2021-06-19 14:23:35 - mAP strict:   \t68.98\n",
      "2021-06-19 14:23:35 - mAP relaxed:   \t86.54\n",
      "2021-06-19 14:27:39 - TripletEvaluator: Evaluating the model on dev dataset in epoch 7 after 1000 steps:\n",
      "mAP strict= 0.624925897347931 ; mAP relaxed = 0.8443630815849826\n",
      "2021-06-19 14:27:44 - mAP strict:   \t62.49\n",
      "2021-06-19 14:27:44 - mAP relaxed:   \t84.44\n",
      "\n",
      "2021-06-19 14:30:06 - TripletEvaluator: Evaluating the model on dev dataset after epoch 7:\n",
      "mAP strict= 0.6769485847586622 ; mAP relaxed = 0.8545979102291519\n",
      "2021-06-19 14:30:11 - mAP strict:   \t67.69\n",
      "2021-06-19 14:30:11 - mAP relaxed:   \t85.46\n"
     ]
    },
    {
     "data": {
      "application/vnd.jupyter.widget-view+json": {
       "model_id": "15ef27e004c54f50a1614685848d0c0e",
       "version_major": 2,
       "version_minor": 0
      },
      "text/plain": [
       "HBox(children=(FloatProgress(value=0.0, description='Iteration', max=1290.0, style=ProgressStyle(description_w…"
      ]
     },
     "metadata": {},
     "output_type": "display_data"
    },
    {
     "name": "stdout",
     "output_type": "stream",
     "text": [
      "2021-06-19 14:34:18 - TripletEvaluator: Evaluating the model on dev dataset in epoch 8 after 500 steps:\n",
      "mAP strict= 0.6817835211291214 ; mAP relaxed = 0.8688890273574839\n",
      "2021-06-19 14:34:23 - mAP strict:   \t68.18\n",
      "2021-06-19 14:34:23 - mAP relaxed:   \t86.89\n",
      "2021-06-19 14:38:26 - TripletEvaluator: Evaluating the model on dev dataset in epoch 8 after 1000 steps:\n",
      "mAP strict= 0.6211927458781239 ; mAP relaxed = 0.8384657984047614\n",
      "2021-06-19 14:38:31 - mAP strict:   \t62.12\n",
      "2021-06-19 14:38:31 - mAP relaxed:   \t83.85\n",
      "\n",
      "2021-06-19 14:40:53 - TripletEvaluator: Evaluating the model on dev dataset after epoch 8:\n",
      "mAP strict= 0.672035481567133 ; mAP relaxed = 0.8477657613549275\n",
      "2021-06-19 14:40:58 - mAP strict:   \t67.20\n",
      "2021-06-19 14:40:58 - mAP relaxed:   \t84.78\n"
     ]
    },
    {
     "data": {
      "application/vnd.jupyter.widget-view+json": {
       "model_id": "a4408b78e05e481394c1a1db5722e5d3",
       "version_major": 2,
       "version_minor": 0
      },
      "text/plain": [
       "HBox(children=(FloatProgress(value=0.0, description='Iteration', max=1290.0, style=ProgressStyle(description_w…"
      ]
     },
     "metadata": {},
     "output_type": "display_data"
    },
    {
     "name": "stdout",
     "output_type": "stream",
     "text": [
      "2021-06-19 14:45:02 - TripletEvaluator: Evaluating the model on dev dataset in epoch 9 after 500 steps:\n",
      "mAP strict= 0.695539958238977 ; mAP relaxed = 0.8784814346854579\n",
      "2021-06-19 14:45:07 - mAP strict:   \t69.55\n",
      "2021-06-19 14:45:07 - mAP relaxed:   \t87.85\n",
      "2021-06-19 14:49:09 - TripletEvaluator: Evaluating the model on dev dataset in epoch 9 after 1000 steps:\n",
      "mAP strict= 0.6493908625362912 ; mAP relaxed = 0.8570617557905353\n",
      "2021-06-19 14:49:14 - mAP strict:   \t64.94\n",
      "2021-06-19 14:49:14 - mAP relaxed:   \t85.71\n",
      "\n",
      "2021-06-19 14:51:34 - TripletEvaluator: Evaluating the model on dev dataset after epoch 9:\n",
      "mAP strict= 0.6554552187269133 ; mAP relaxed = 0.8584284776326173\n",
      "2021-06-19 14:51:38 - mAP strict:   \t65.55\n",
      "2021-06-19 14:51:38 - mAP relaxed:   \t85.84\n",
      "\n"
     ]
    }
   ],
   "source": [
    "sbert_training.train_model('/workspace/ceph_data/keypoint-analysis-sharedtask/siamese-data/',\n",
    "                           '/workspace/keypoint-analysis-sharedtask/data',\n",
    "                           'our_amr_valid',\n",
    "                           '/workspace/ceph_data/keypoint-analysis-sharedtask/siamese-models/',\n",
    "                           'roberta-base',\n",
    "                           model_suffix='contrastive-amr', \n",
    "                           data_file_suffix='amr',\n",
    "                           num_epochs=10, max_seq_length=100, add_special_token=True, train_batch_size=16,\n",
    "                           loss='ContrastiveLoss')"
   ]
  },
  {
   "cell_type": "markdown",
   "id": "2847263d-1e99-48a7-b86a-975591f555a3",
   "metadata": {},
   "source": [
    "------------"
   ]
  }
 ],
 "metadata": {
  "kernelspec": {
   "display_name": "Python 3",
   "language": "python",
   "name": "python3"
  },
  "language_info": {
   "codemirror_mode": {
    "name": "ipython",
    "version": 3
   },
   "file_extension": ".py",
   "mimetype": "text/x-python",
   "name": "python",
   "nbconvert_exporter": "python",
   "pygments_lexer": "ipython3",
   "version": "3.8.10"
  }
 },
 "nbformat": 4,
 "nbformat_minor": 5
}
